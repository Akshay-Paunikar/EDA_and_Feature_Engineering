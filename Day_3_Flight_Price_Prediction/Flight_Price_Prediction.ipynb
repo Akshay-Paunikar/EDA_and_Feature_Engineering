{
 "cells": [
  {
   "attachments": {},
   "cell_type": "markdown",
   "metadata": {},
   "source": [
    "### Flight Price Prediction EDA & Feature Engineering"
   ]
  },
  {
   "cell_type": "code",
   "execution_count": 152,
   "metadata": {},
   "outputs": [],
   "source": [
    "# import required libraries\n",
    "import numpy as np\n",
    "import pandas as pd\n",
    "import matplotlib.pyplot as plt\n",
    "%matplotlib inline\n",
    "import seaborn as sns"
   ]
  },
  {
   "cell_type": "code",
   "execution_count": 153,
   "metadata": {},
   "outputs": [],
   "source": [
    "# read the datasets\n",
    "train = pd.read_excel(\"Data_Train.xlsx\")\n",
    "test = pd.read_excel(\"Test_set.xlsx\")"
   ]
  },
  {
   "cell_type": "code",
   "execution_count": 154,
   "metadata": {},
   "outputs": [
    {
     "data": {
      "text/html": [
       "<div>\n",
       "<style scoped>\n",
       "    .dataframe tbody tr th:only-of-type {\n",
       "        vertical-align: middle;\n",
       "    }\n",
       "\n",
       "    .dataframe tbody tr th {\n",
       "        vertical-align: top;\n",
       "    }\n",
       "\n",
       "    .dataframe thead th {\n",
       "        text-align: right;\n",
       "    }\n",
       "</style>\n",
       "<table border=\"1\" class=\"dataframe\">\n",
       "  <thead>\n",
       "    <tr style=\"text-align: right;\">\n",
       "      <th></th>\n",
       "      <th>Airline</th>\n",
       "      <th>Date_of_Journey</th>\n",
       "      <th>Source</th>\n",
       "      <th>Destination</th>\n",
       "      <th>Route</th>\n",
       "      <th>Dep_Time</th>\n",
       "      <th>Arrival_Time</th>\n",
       "      <th>Duration</th>\n",
       "      <th>Total_Stops</th>\n",
       "      <th>Additional_Info</th>\n",
       "      <th>Price</th>\n",
       "    </tr>\n",
       "  </thead>\n",
       "  <tbody>\n",
       "    <tr>\n",
       "      <th>0</th>\n",
       "      <td>IndiGo</td>\n",
       "      <td>24/03/2019</td>\n",
       "      <td>Banglore</td>\n",
       "      <td>New Delhi</td>\n",
       "      <td>BLR → DEL</td>\n",
       "      <td>22:20</td>\n",
       "      <td>01:10 22 Mar</td>\n",
       "      <td>2h 50m</td>\n",
       "      <td>non-stop</td>\n",
       "      <td>No info</td>\n",
       "      <td>3897</td>\n",
       "    </tr>\n",
       "    <tr>\n",
       "      <th>1</th>\n",
       "      <td>Air India</td>\n",
       "      <td>1/05/2019</td>\n",
       "      <td>Kolkata</td>\n",
       "      <td>Banglore</td>\n",
       "      <td>CCU → IXR → BBI → BLR</td>\n",
       "      <td>05:50</td>\n",
       "      <td>13:15</td>\n",
       "      <td>7h 25m</td>\n",
       "      <td>2 stops</td>\n",
       "      <td>No info</td>\n",
       "      <td>7662</td>\n",
       "    </tr>\n",
       "    <tr>\n",
       "      <th>2</th>\n",
       "      <td>Jet Airways</td>\n",
       "      <td>9/06/2019</td>\n",
       "      <td>Delhi</td>\n",
       "      <td>Cochin</td>\n",
       "      <td>DEL → LKO → BOM → COK</td>\n",
       "      <td>09:25</td>\n",
       "      <td>04:25 10 Jun</td>\n",
       "      <td>19h</td>\n",
       "      <td>2 stops</td>\n",
       "      <td>No info</td>\n",
       "      <td>13882</td>\n",
       "    </tr>\n",
       "    <tr>\n",
       "      <th>3</th>\n",
       "      <td>IndiGo</td>\n",
       "      <td>12/05/2019</td>\n",
       "      <td>Kolkata</td>\n",
       "      <td>Banglore</td>\n",
       "      <td>CCU → NAG → BLR</td>\n",
       "      <td>18:05</td>\n",
       "      <td>23:30</td>\n",
       "      <td>5h 25m</td>\n",
       "      <td>1 stop</td>\n",
       "      <td>No info</td>\n",
       "      <td>6218</td>\n",
       "    </tr>\n",
       "    <tr>\n",
       "      <th>4</th>\n",
       "      <td>IndiGo</td>\n",
       "      <td>01/03/2019</td>\n",
       "      <td>Banglore</td>\n",
       "      <td>New Delhi</td>\n",
       "      <td>BLR → NAG → DEL</td>\n",
       "      <td>16:50</td>\n",
       "      <td>21:35</td>\n",
       "      <td>4h 45m</td>\n",
       "      <td>1 stop</td>\n",
       "      <td>No info</td>\n",
       "      <td>13302</td>\n",
       "    </tr>\n",
       "  </tbody>\n",
       "</table>\n",
       "</div>"
      ],
      "text/plain": [
       "       Airline Date_of_Journey    Source Destination                  Route  \\\n",
       "0       IndiGo      24/03/2019  Banglore   New Delhi              BLR → DEL   \n",
       "1    Air India       1/05/2019   Kolkata    Banglore  CCU → IXR → BBI → BLR   \n",
       "2  Jet Airways       9/06/2019     Delhi      Cochin  DEL → LKO → BOM → COK   \n",
       "3       IndiGo      12/05/2019   Kolkata    Banglore        CCU → NAG → BLR   \n",
       "4       IndiGo      01/03/2019  Banglore   New Delhi        BLR → NAG → DEL   \n",
       "\n",
       "  Dep_Time  Arrival_Time Duration Total_Stops Additional_Info  Price  \n",
       "0    22:20  01:10 22 Mar   2h 50m    non-stop         No info   3897  \n",
       "1    05:50         13:15   7h 25m     2 stops         No info   7662  \n",
       "2    09:25  04:25 10 Jun      19h     2 stops         No info  13882  \n",
       "3    18:05         23:30   5h 25m      1 stop         No info   6218  \n",
       "4    16:50         21:35   4h 45m      1 stop         No info  13302  "
      ]
     },
     "execution_count": 154,
     "metadata": {},
     "output_type": "execute_result"
    }
   ],
   "source": [
    "# let's take a look at our datasets\n",
    "train.head()"
   ]
  },
  {
   "cell_type": "code",
   "execution_count": 155,
   "metadata": {},
   "outputs": [
    {
     "data": {
      "text/html": [
       "<div>\n",
       "<style scoped>\n",
       "    .dataframe tbody tr th:only-of-type {\n",
       "        vertical-align: middle;\n",
       "    }\n",
       "\n",
       "    .dataframe tbody tr th {\n",
       "        vertical-align: top;\n",
       "    }\n",
       "\n",
       "    .dataframe thead th {\n",
       "        text-align: right;\n",
       "    }\n",
       "</style>\n",
       "<table border=\"1\" class=\"dataframe\">\n",
       "  <thead>\n",
       "    <tr style=\"text-align: right;\">\n",
       "      <th></th>\n",
       "      <th>Airline</th>\n",
       "      <th>Date_of_Journey</th>\n",
       "      <th>Source</th>\n",
       "      <th>Destination</th>\n",
       "      <th>Route</th>\n",
       "      <th>Dep_Time</th>\n",
       "      <th>Arrival_Time</th>\n",
       "      <th>Duration</th>\n",
       "      <th>Total_Stops</th>\n",
       "      <th>Additional_Info</th>\n",
       "    </tr>\n",
       "  </thead>\n",
       "  <tbody>\n",
       "    <tr>\n",
       "      <th>0</th>\n",
       "      <td>Jet Airways</td>\n",
       "      <td>6/06/2019</td>\n",
       "      <td>Delhi</td>\n",
       "      <td>Cochin</td>\n",
       "      <td>DEL → BOM → COK</td>\n",
       "      <td>17:30</td>\n",
       "      <td>04:25 07 Jun</td>\n",
       "      <td>10h 55m</td>\n",
       "      <td>1 stop</td>\n",
       "      <td>No info</td>\n",
       "    </tr>\n",
       "    <tr>\n",
       "      <th>1</th>\n",
       "      <td>IndiGo</td>\n",
       "      <td>12/05/2019</td>\n",
       "      <td>Kolkata</td>\n",
       "      <td>Banglore</td>\n",
       "      <td>CCU → MAA → BLR</td>\n",
       "      <td>06:20</td>\n",
       "      <td>10:20</td>\n",
       "      <td>4h</td>\n",
       "      <td>1 stop</td>\n",
       "      <td>No info</td>\n",
       "    </tr>\n",
       "    <tr>\n",
       "      <th>2</th>\n",
       "      <td>Jet Airways</td>\n",
       "      <td>21/05/2019</td>\n",
       "      <td>Delhi</td>\n",
       "      <td>Cochin</td>\n",
       "      <td>DEL → BOM → COK</td>\n",
       "      <td>19:15</td>\n",
       "      <td>19:00 22 May</td>\n",
       "      <td>23h 45m</td>\n",
       "      <td>1 stop</td>\n",
       "      <td>In-flight meal not included</td>\n",
       "    </tr>\n",
       "    <tr>\n",
       "      <th>3</th>\n",
       "      <td>Multiple carriers</td>\n",
       "      <td>21/05/2019</td>\n",
       "      <td>Delhi</td>\n",
       "      <td>Cochin</td>\n",
       "      <td>DEL → BOM → COK</td>\n",
       "      <td>08:00</td>\n",
       "      <td>21:00</td>\n",
       "      <td>13h</td>\n",
       "      <td>1 stop</td>\n",
       "      <td>No info</td>\n",
       "    </tr>\n",
       "    <tr>\n",
       "      <th>4</th>\n",
       "      <td>Air Asia</td>\n",
       "      <td>24/06/2019</td>\n",
       "      <td>Banglore</td>\n",
       "      <td>Delhi</td>\n",
       "      <td>BLR → DEL</td>\n",
       "      <td>23:55</td>\n",
       "      <td>02:45 25 Jun</td>\n",
       "      <td>2h 50m</td>\n",
       "      <td>non-stop</td>\n",
       "      <td>No info</td>\n",
       "    </tr>\n",
       "  </tbody>\n",
       "</table>\n",
       "</div>"
      ],
      "text/plain": [
       "             Airline Date_of_Journey    Source Destination            Route  \\\n",
       "0        Jet Airways       6/06/2019     Delhi      Cochin  DEL → BOM → COK   \n",
       "1             IndiGo      12/05/2019   Kolkata    Banglore  CCU → MAA → BLR   \n",
       "2        Jet Airways      21/05/2019     Delhi      Cochin  DEL → BOM → COK   \n",
       "3  Multiple carriers      21/05/2019     Delhi      Cochin  DEL → BOM → COK   \n",
       "4           Air Asia      24/06/2019  Banglore       Delhi        BLR → DEL   \n",
       "\n",
       "  Dep_Time  Arrival_Time Duration Total_Stops              Additional_Info  \n",
       "0    17:30  04:25 07 Jun  10h 55m      1 stop                      No info  \n",
       "1    06:20         10:20       4h      1 stop                      No info  \n",
       "2    19:15  19:00 22 May  23h 45m      1 stop  In-flight meal not included  \n",
       "3    08:00         21:00      13h      1 stop                      No info  \n",
       "4    23:55  02:45 25 Jun   2h 50m    non-stop                      No info  "
      ]
     },
     "execution_count": 155,
     "metadata": {},
     "output_type": "execute_result"
    }
   ],
   "source": [
    "test.head()"
   ]
  },
  {
   "cell_type": "code",
   "execution_count": 156,
   "metadata": {},
   "outputs": [
    {
     "name": "stdout",
     "output_type": "stream",
     "text": [
      "Train Data: (10683, 11)\n",
      "Test Data: (2671, 10)\n"
     ]
    }
   ],
   "source": [
    "# check the dimensions of the datasets\n",
    "print(\"Train Data:\", train.shape)\n",
    "print(\"Test Data:\", test.shape)"
   ]
  },
  {
   "cell_type": "code",
   "execution_count": 157,
   "metadata": {},
   "outputs": [
    {
     "data": {
      "text/plain": [
       "Airline            object\n",
       "Date_of_Journey    object\n",
       "Source             object\n",
       "Destination        object\n",
       "Route              object\n",
       "Dep_Time           object\n",
       "Arrival_Time       object\n",
       "Duration           object\n",
       "Total_Stops        object\n",
       "Additional_Info    object\n",
       "Price               int64\n",
       "dtype: object"
      ]
     },
     "execution_count": 157,
     "metadata": {},
     "output_type": "execute_result"
    }
   ],
   "source": [
    "# check the datatypes\n",
    "train.dtypes"
   ]
  },
  {
   "cell_type": "code",
   "execution_count": 158,
   "metadata": {},
   "outputs": [
    {
     "data": {
      "text/plain": [
       "Airline            object\n",
       "Date_of_Journey    object\n",
       "Source             object\n",
       "Destination        object\n",
       "Route              object\n",
       "Dep_Time           object\n",
       "Arrival_Time       object\n",
       "Duration           object\n",
       "Total_Stops        object\n",
       "Additional_Info    object\n",
       "dtype: object"
      ]
     },
     "execution_count": 158,
     "metadata": {},
     "output_type": "execute_result"
    }
   ],
   "source": [
    "test.dtypes"
   ]
  },
  {
   "cell_type": "code",
   "execution_count": 159,
   "metadata": {},
   "outputs": [
    {
     "data": {
      "text/html": [
       "<div>\n",
       "<style scoped>\n",
       "    .dataframe tbody tr th:only-of-type {\n",
       "        vertical-align: middle;\n",
       "    }\n",
       "\n",
       "    .dataframe tbody tr th {\n",
       "        vertical-align: top;\n",
       "    }\n",
       "\n",
       "    .dataframe thead th {\n",
       "        text-align: right;\n",
       "    }\n",
       "</style>\n",
       "<table border=\"1\" class=\"dataframe\">\n",
       "  <thead>\n",
       "    <tr style=\"text-align: right;\">\n",
       "      <th></th>\n",
       "      <th>count</th>\n",
       "      <th>unique</th>\n",
       "      <th>top</th>\n",
       "      <th>freq</th>\n",
       "      <th>mean</th>\n",
       "      <th>std</th>\n",
       "      <th>min</th>\n",
       "      <th>25%</th>\n",
       "      <th>50%</th>\n",
       "      <th>75%</th>\n",
       "      <th>max</th>\n",
       "    </tr>\n",
       "  </thead>\n",
       "  <tbody>\n",
       "    <tr>\n",
       "      <th>Airline</th>\n",
       "      <td>10683</td>\n",
       "      <td>12</td>\n",
       "      <td>Jet Airways</td>\n",
       "      <td>3849</td>\n",
       "      <td>NaN</td>\n",
       "      <td>NaN</td>\n",
       "      <td>NaN</td>\n",
       "      <td>NaN</td>\n",
       "      <td>NaN</td>\n",
       "      <td>NaN</td>\n",
       "      <td>NaN</td>\n",
       "    </tr>\n",
       "    <tr>\n",
       "      <th>Date_of_Journey</th>\n",
       "      <td>10683</td>\n",
       "      <td>44</td>\n",
       "      <td>18/05/2019</td>\n",
       "      <td>504</td>\n",
       "      <td>NaN</td>\n",
       "      <td>NaN</td>\n",
       "      <td>NaN</td>\n",
       "      <td>NaN</td>\n",
       "      <td>NaN</td>\n",
       "      <td>NaN</td>\n",
       "      <td>NaN</td>\n",
       "    </tr>\n",
       "    <tr>\n",
       "      <th>Source</th>\n",
       "      <td>10683</td>\n",
       "      <td>5</td>\n",
       "      <td>Delhi</td>\n",
       "      <td>4537</td>\n",
       "      <td>NaN</td>\n",
       "      <td>NaN</td>\n",
       "      <td>NaN</td>\n",
       "      <td>NaN</td>\n",
       "      <td>NaN</td>\n",
       "      <td>NaN</td>\n",
       "      <td>NaN</td>\n",
       "    </tr>\n",
       "    <tr>\n",
       "      <th>Destination</th>\n",
       "      <td>10683</td>\n",
       "      <td>6</td>\n",
       "      <td>Cochin</td>\n",
       "      <td>4537</td>\n",
       "      <td>NaN</td>\n",
       "      <td>NaN</td>\n",
       "      <td>NaN</td>\n",
       "      <td>NaN</td>\n",
       "      <td>NaN</td>\n",
       "      <td>NaN</td>\n",
       "      <td>NaN</td>\n",
       "    </tr>\n",
       "    <tr>\n",
       "      <th>Route</th>\n",
       "      <td>10682</td>\n",
       "      <td>128</td>\n",
       "      <td>DEL → BOM → COK</td>\n",
       "      <td>2376</td>\n",
       "      <td>NaN</td>\n",
       "      <td>NaN</td>\n",
       "      <td>NaN</td>\n",
       "      <td>NaN</td>\n",
       "      <td>NaN</td>\n",
       "      <td>NaN</td>\n",
       "      <td>NaN</td>\n",
       "    </tr>\n",
       "    <tr>\n",
       "      <th>Dep_Time</th>\n",
       "      <td>10683</td>\n",
       "      <td>222</td>\n",
       "      <td>18:55</td>\n",
       "      <td>233</td>\n",
       "      <td>NaN</td>\n",
       "      <td>NaN</td>\n",
       "      <td>NaN</td>\n",
       "      <td>NaN</td>\n",
       "      <td>NaN</td>\n",
       "      <td>NaN</td>\n",
       "      <td>NaN</td>\n",
       "    </tr>\n",
       "    <tr>\n",
       "      <th>Arrival_Time</th>\n",
       "      <td>10683</td>\n",
       "      <td>1343</td>\n",
       "      <td>19:00</td>\n",
       "      <td>423</td>\n",
       "      <td>NaN</td>\n",
       "      <td>NaN</td>\n",
       "      <td>NaN</td>\n",
       "      <td>NaN</td>\n",
       "      <td>NaN</td>\n",
       "      <td>NaN</td>\n",
       "      <td>NaN</td>\n",
       "    </tr>\n",
       "    <tr>\n",
       "      <th>Duration</th>\n",
       "      <td>10683</td>\n",
       "      <td>368</td>\n",
       "      <td>2h 50m</td>\n",
       "      <td>550</td>\n",
       "      <td>NaN</td>\n",
       "      <td>NaN</td>\n",
       "      <td>NaN</td>\n",
       "      <td>NaN</td>\n",
       "      <td>NaN</td>\n",
       "      <td>NaN</td>\n",
       "      <td>NaN</td>\n",
       "    </tr>\n",
       "    <tr>\n",
       "      <th>Total_Stops</th>\n",
       "      <td>10682</td>\n",
       "      <td>5</td>\n",
       "      <td>1 stop</td>\n",
       "      <td>5625</td>\n",
       "      <td>NaN</td>\n",
       "      <td>NaN</td>\n",
       "      <td>NaN</td>\n",
       "      <td>NaN</td>\n",
       "      <td>NaN</td>\n",
       "      <td>NaN</td>\n",
       "      <td>NaN</td>\n",
       "    </tr>\n",
       "    <tr>\n",
       "      <th>Additional_Info</th>\n",
       "      <td>10683</td>\n",
       "      <td>10</td>\n",
       "      <td>No info</td>\n",
       "      <td>8345</td>\n",
       "      <td>NaN</td>\n",
       "      <td>NaN</td>\n",
       "      <td>NaN</td>\n",
       "      <td>NaN</td>\n",
       "      <td>NaN</td>\n",
       "      <td>NaN</td>\n",
       "      <td>NaN</td>\n",
       "    </tr>\n",
       "    <tr>\n",
       "      <th>Price</th>\n",
       "      <td>10683.0</td>\n",
       "      <td>NaN</td>\n",
       "      <td>NaN</td>\n",
       "      <td>NaN</td>\n",
       "      <td>9087.064121</td>\n",
       "      <td>4611.359167</td>\n",
       "      <td>1759.0</td>\n",
       "      <td>5277.0</td>\n",
       "      <td>8372.0</td>\n",
       "      <td>12373.0</td>\n",
       "      <td>79512.0</td>\n",
       "    </tr>\n",
       "  </tbody>\n",
       "</table>\n",
       "</div>"
      ],
      "text/plain": [
       "                   count unique              top  freq         mean  \\\n",
       "Airline            10683     12      Jet Airways  3849          NaN   \n",
       "Date_of_Journey    10683     44       18/05/2019   504          NaN   \n",
       "Source             10683      5            Delhi  4537          NaN   \n",
       "Destination        10683      6           Cochin  4537          NaN   \n",
       "Route              10682    128  DEL → BOM → COK  2376          NaN   \n",
       "Dep_Time           10683    222            18:55   233          NaN   \n",
       "Arrival_Time       10683   1343            19:00   423          NaN   \n",
       "Duration           10683    368           2h 50m   550          NaN   \n",
       "Total_Stops        10682      5           1 stop  5625          NaN   \n",
       "Additional_Info    10683     10          No info  8345          NaN   \n",
       "Price            10683.0    NaN              NaN   NaN  9087.064121   \n",
       "\n",
       "                         std     min     25%     50%      75%      max  \n",
       "Airline                  NaN     NaN     NaN     NaN      NaN      NaN  \n",
       "Date_of_Journey          NaN     NaN     NaN     NaN      NaN      NaN  \n",
       "Source                   NaN     NaN     NaN     NaN      NaN      NaN  \n",
       "Destination              NaN     NaN     NaN     NaN      NaN      NaN  \n",
       "Route                    NaN     NaN     NaN     NaN      NaN      NaN  \n",
       "Dep_Time                 NaN     NaN     NaN     NaN      NaN      NaN  \n",
       "Arrival_Time             NaN     NaN     NaN     NaN      NaN      NaN  \n",
       "Duration                 NaN     NaN     NaN     NaN      NaN      NaN  \n",
       "Total_Stops              NaN     NaN     NaN     NaN      NaN      NaN  \n",
       "Additional_Info          NaN     NaN     NaN     NaN      NaN      NaN  \n",
       "Price            4611.359167  1759.0  5277.0  8372.0  12373.0  79512.0  "
      ]
     },
     "execution_count": 159,
     "metadata": {},
     "output_type": "execute_result"
    }
   ],
   "source": [
    "# Descriptive Statistics\n",
    "train.describe(include='all').transpose()"
   ]
  },
  {
   "cell_type": "code",
   "execution_count": 160,
   "metadata": {},
   "outputs": [
    {
     "name": "stdout",
     "output_type": "stream",
     "text": [
      "<class 'pandas.core.frame.DataFrame'>\n",
      "RangeIndex: 10683 entries, 0 to 10682\n",
      "Data columns (total 11 columns):\n",
      " #   Column           Non-Null Count  Dtype \n",
      "---  ------           --------------  ----- \n",
      " 0   Airline          10683 non-null  object\n",
      " 1   Date_of_Journey  10683 non-null  object\n",
      " 2   Source           10683 non-null  object\n",
      " 3   Destination      10683 non-null  object\n",
      " 4   Route            10682 non-null  object\n",
      " 5   Dep_Time         10683 non-null  object\n",
      " 6   Arrival_Time     10683 non-null  object\n",
      " 7   Duration         10683 non-null  object\n",
      " 8   Total_Stops      10682 non-null  object\n",
      " 9   Additional_Info  10683 non-null  object\n",
      " 10  Price            10683 non-null  int64 \n",
      "dtypes: int64(1), object(10)\n",
      "memory usage: 918.2+ KB\n"
     ]
    }
   ],
   "source": [
    "# Concise Summary \n",
    "train.info()"
   ]
  },
  {
   "cell_type": "code",
   "execution_count": 161,
   "metadata": {},
   "outputs": [
    {
     "name": "stdout",
     "output_type": "stream",
     "text": [
      "<class 'pandas.core.frame.DataFrame'>\n",
      "RangeIndex: 2671 entries, 0 to 2670\n",
      "Data columns (total 10 columns):\n",
      " #   Column           Non-Null Count  Dtype \n",
      "---  ------           --------------  ----- \n",
      " 0   Airline          2671 non-null   object\n",
      " 1   Date_of_Journey  2671 non-null   object\n",
      " 2   Source           2671 non-null   object\n",
      " 3   Destination      2671 non-null   object\n",
      " 4   Route            2671 non-null   object\n",
      " 5   Dep_Time         2671 non-null   object\n",
      " 6   Arrival_Time     2671 non-null   object\n",
      " 7   Duration         2671 non-null   object\n",
      " 8   Total_Stops      2671 non-null   object\n",
      " 9   Additional_Info  2671 non-null   object\n",
      "dtypes: object(10)\n",
      "memory usage: 208.8+ KB\n"
     ]
    }
   ],
   "source": [
    "test.info()"
   ]
  },
  {
   "cell_type": "code",
   "execution_count": 162,
   "metadata": {},
   "outputs": [
    {
     "data": {
      "text/plain": [
       "Airline            0\n",
       "Date_of_Journey    0\n",
       "Source             0\n",
       "Destination        0\n",
       "Route              1\n",
       "Dep_Time           0\n",
       "Arrival_Time       0\n",
       "Duration           0\n",
       "Total_Stops        1\n",
       "Additional_Info    0\n",
       "Price              0\n",
       "dtype: int64"
      ]
     },
     "execution_count": 162,
     "metadata": {},
     "output_type": "execute_result"
    }
   ],
   "source": [
    "# check for null/missing data\n",
    "train.isnull().sum()"
   ]
  },
  {
   "cell_type": "code",
   "execution_count": 163,
   "metadata": {},
   "outputs": [
    {
     "data": {
      "text/plain": [
       "Airline            0\n",
       "Date_of_Journey    0\n",
       "Source             0\n",
       "Destination        0\n",
       "Route              0\n",
       "Dep_Time           0\n",
       "Arrival_Time       0\n",
       "Duration           0\n",
       "Total_Stops        0\n",
       "Additional_Info    0\n",
       "dtype: int64"
      ]
     },
     "execution_count": 163,
     "metadata": {},
     "output_type": "execute_result"
    }
   ],
   "source": [
    "test.isnull().sum()"
   ]
  },
  {
   "attachments": {},
   "cell_type": "markdown",
   "metadata": {},
   "source": [
    "As you can see that there are 1 missing values in \"Route\" and \"Total_Stops\". After carefully observing the data we decided to fill the missing values as follows:"
   ]
  },
  {
   "cell_type": "code",
   "execution_count": 164,
   "metadata": {},
   "outputs": [],
   "source": [
    "# imputing the missing values\n",
    "train['Route'] = train['Route'].fillna(\"DEL → AMD → BOM → COK\")\n",
    "train['Total_Stops'] = train['Total_Stops'].fillna(\"2 stops\")"
   ]
  },
  {
   "cell_type": "code",
   "execution_count": 165,
   "metadata": {},
   "outputs": [],
   "source": [
    "# Date of Journey\n",
    "train[\"Date\"] = train['Date_of_Journey'].apply(lambda x:x.split(\"/\")[0])\n",
    "train[\"Month\"] = train['Date_of_Journey'].apply(lambda x:x.split(\"/\")[1])\n",
    "train[\"Year\"] = train['Date_of_Journey'].apply(lambda x:x.split(\"/\")[2])\n",
    "\n",
    "# Drop the column\n",
    "train = train.drop(['Date_of_Journey'], axis=1)\n",
    "\n",
    "# change the datatype\n",
    "train['Date'] = train['Date'].astype('int')\n",
    "train['Month'] = train['Month'].astype('int')\n",
    "train['Year'] = train['Year'].astype('int')\n"
   ]
  },
  {
   "cell_type": "code",
   "execution_count": 166,
   "metadata": {},
   "outputs": [],
   "source": [
    "# Dep_Time\n",
    "train['Dep_Hour'] = train['Dep_Time'].apply(lambda x:x.split(\":\")[0])\n",
    "train['Dep_Min'] = train['Dep_Time'].apply(lambda x:x.split(\":\")[1])\n",
    "\n",
    "# Drop the column\n",
    "train = train.drop(['Dep_Time'],axis=1)\n",
    "\n",
    "# change the datatype\n",
    "train['Dep_Hour'] = train['Dep_Hour'].astype('int')\n",
    "train['Dep_Min'] = train['Dep_Min'].astype('int')"
   ]
  },
  {
   "cell_type": "code",
   "execution_count": 167,
   "metadata": {},
   "outputs": [],
   "source": [
    "# Arrival_Time\n",
    "train['Arrival_Time'] = train['Arrival_Time'].apply(lambda x:x.split(\" \")[0])\n",
    "train['Arrival_Hour'] = train['Arrival_Time'].apply(lambda x:x.split(\":\")[0])\n",
    "train['Arrival_Min'] = train['Arrival_Time'].apply(lambda x:x.split(\":\")[1])\n",
    "\n",
    "# Drop the Column\n",
    "train = train.drop(['Arrival_Time'],axis=1)\n",
    "\n",
    "# change the datatype\n",
    "train['Arrival_Hour'] = train['Arrival_Hour'].astype('int')\n",
    "train['Arrival_Min'] = train['Arrival_Min'].astype('int')"
   ]
  },
  {
   "cell_type": "code",
   "execution_count": 168,
   "metadata": {},
   "outputs": [],
   "source": [
    "# Duration\n",
    "train['Duration_Hour']=train['Duration'].str.split(' ').str[0].str.split('h').str[0]\n",
    "train['Duration_Min']=train['Duration'].str.split(' ').str[1].str.split('m').str[0]\n",
    "\n",
    "# replace incorrect values\n",
    "train['Duration_Hour'] = train['Duration_Hour'].replace('5m','0')\n",
    "train['Duration_Min'] = train['Duration_Min'].fillna('0')\n",
    "\n",
    "# drop the column\n",
    "train = train.drop(['Duration'],axis=1)\n",
    "\n",
    "# change the datatype\n",
    "train['Duration_Hour'] = train['Duration_Hour'].astype('int')\n",
    "train['Duration_Min'] = train['Duration_Min'].astype('int')"
   ]
  },
  {
   "attachments": {},
   "cell_type": "markdown",
   "metadata": {},
   "source": [
    "Now for our analysis we will convert \"Duration_Hour\" into minutes and then add it to \"Duration_Min\" to get total minutes and then we will convert it into Duration in hour for ease of analysis."
   ]
  },
  {
   "cell_type": "code",
   "execution_count": 169,
   "metadata": {},
   "outputs": [],
   "source": [
    "# convert it into minutes\n",
    "train['Duration_Hour'] = train['Duration_Hour']*60\n",
    "\n",
    "# add columns to get total minutes\n",
    "train['Total_Travel_Time_Hour'] = train['Duration_Hour'] + train['Duration_Min']\n",
    "\n",
    "# convert it into hours\n",
    "train['Total_Travel_Time_Hour'] = round(train['Total_Travel_Time_Hour']/60,3)\n",
    "\n",
    "# drop the unnecessary columns\n",
    "train = train.drop(['Duration_Hour', 'Duration_Min'], axis=1)"
   ]
  },
  {
   "cell_type": "code",
   "execution_count": 170,
   "metadata": {},
   "outputs": [
    {
     "data": {
      "text/plain": [
       "Cochin       4537\n",
       "Banglore     2871\n",
       "Delhi        1265\n",
       "New Delhi     932\n",
       "Hyderabad     697\n",
       "Kolkata       381\n",
       "Name: Destination, dtype: int64"
      ]
     },
     "execution_count": 170,
     "metadata": {},
     "output_type": "execute_result"
    }
   ],
   "source": [
    "# Destination\n",
    "train['Destination'].value_counts()"
   ]
  },
  {
   "attachments": {},
   "cell_type": "markdown",
   "metadata": {},
   "source": [
    "here we will replace \"New Delhi\" with \"Delhi\""
   ]
  },
  {
   "cell_type": "code",
   "execution_count": 171,
   "metadata": {},
   "outputs": [],
   "source": [
    "# replacing the values\n",
    "train['Destination'] = train['Destination'].replace('New Delhi', 'Delhi')"
   ]
  },
  {
   "cell_type": "code",
   "execution_count": 172,
   "metadata": {},
   "outputs": [
    {
     "data": {
      "text/plain": [
       "2019    10683\n",
       "Name: Year, dtype: int64"
      ]
     },
     "execution_count": 172,
     "metadata": {},
     "output_type": "execute_result"
    }
   ],
   "source": [
    "# Year\n",
    "train['Year'].value_counts()"
   ]
  },
  {
   "attachments": {},
   "cell_type": "markdown",
   "metadata": {},
   "source": [
    "Since there is only single type of record for Year column i.e., Year column has only value --> \"2019\" so it is not of much use for further analysis. We will drop the \"Year\" column."
   ]
  },
  {
   "cell_type": "code",
   "execution_count": 173,
   "metadata": {},
   "outputs": [],
   "source": [
    "# drop column \"Year\"\n",
    "train = train.drop(['Year'], axis=1)"
   ]
  },
  {
   "cell_type": "code",
   "execution_count": 174,
   "metadata": {},
   "outputs": [
    {
     "data": {
      "text/plain": [
       "Airline                    object\n",
       "Source                     object\n",
       "Destination                object\n",
       "Route                      object\n",
       "Total_Stops                object\n",
       "Additional_Info            object\n",
       "Price                       int64\n",
       "Date                        int32\n",
       "Month                       int32\n",
       "Dep_Hour                    int32\n",
       "Dep_Min                     int32\n",
       "Arrival_Hour                int32\n",
       "Arrival_Min                 int32\n",
       "Total_Travel_Time_Hour    float64\n",
       "dtype: object"
      ]
     },
     "execution_count": 174,
     "metadata": {},
     "output_type": "execute_result"
    }
   ],
   "source": [
    "# check datatypes\n",
    "train.dtypes"
   ]
  },
  {
   "cell_type": "code",
   "execution_count": 175,
   "metadata": {},
   "outputs": [
    {
     "data": {
      "text/plain": [
       "Airline                   0\n",
       "Source                    0\n",
       "Destination               0\n",
       "Route                     0\n",
       "Total_Stops               0\n",
       "Additional_Info           0\n",
       "Price                     0\n",
       "Date                      0\n",
       "Month                     0\n",
       "Dep_Hour                  0\n",
       "Dep_Min                   0\n",
       "Arrival_Hour              0\n",
       "Arrival_Min               0\n",
       "Total_Travel_Time_Hour    0\n",
       "dtype: int64"
      ]
     },
     "execution_count": 175,
     "metadata": {},
     "output_type": "execute_result"
    }
   ],
   "source": [
    "# check for missing values\n",
    "train.isnull().sum()"
   ]
  },
  {
   "cell_type": "code",
   "execution_count": 176,
   "metadata": {},
   "outputs": [
    {
     "data": {
      "text/plain": [
       "222"
      ]
     },
     "execution_count": 176,
     "metadata": {},
     "output_type": "execute_result"
    }
   ],
   "source": [
    "# check for duplicated records\n",
    "train.duplicated().sum()"
   ]
  },
  {
   "cell_type": "code",
   "execution_count": 177,
   "metadata": {},
   "outputs": [],
   "source": [
    "# drop duplicated records\n",
    "train = train.drop_duplicates()"
   ]
  },
  {
   "cell_type": "code",
   "execution_count": 178,
   "metadata": {},
   "outputs": [
    {
     "data": {
      "text/plain": [
       "0"
      ]
     },
     "execution_count": 178,
     "metadata": {},
     "output_type": "execute_result"
    }
   ],
   "source": [
    "# check for duplicated records\n",
    "train.duplicated().sum()"
   ]
  },
  {
   "cell_type": "code",
   "execution_count": 179,
   "metadata": {},
   "outputs": [
    {
     "data": {
      "text/html": [
       "<div>\n",
       "<style scoped>\n",
       "    .dataframe tbody tr th:only-of-type {\n",
       "        vertical-align: middle;\n",
       "    }\n",
       "\n",
       "    .dataframe tbody tr th {\n",
       "        vertical-align: top;\n",
       "    }\n",
       "\n",
       "    .dataframe thead th {\n",
       "        text-align: right;\n",
       "    }\n",
       "</style>\n",
       "<table border=\"1\" class=\"dataframe\">\n",
       "  <thead>\n",
       "    <tr style=\"text-align: right;\">\n",
       "      <th></th>\n",
       "      <th>Airline</th>\n",
       "      <th>Source</th>\n",
       "      <th>Destination</th>\n",
       "      <th>Route</th>\n",
       "      <th>Total_Stops</th>\n",
       "      <th>Additional_Info</th>\n",
       "      <th>Price</th>\n",
       "      <th>Date</th>\n",
       "      <th>Month</th>\n",
       "      <th>Dep_Hour</th>\n",
       "      <th>Dep_Min</th>\n",
       "      <th>Arrival_Hour</th>\n",
       "      <th>Arrival_Min</th>\n",
       "      <th>Total_Travel_Time_Hour</th>\n",
       "    </tr>\n",
       "  </thead>\n",
       "  <tbody>\n",
       "    <tr>\n",
       "      <th>0</th>\n",
       "      <td>IndiGo</td>\n",
       "      <td>Banglore</td>\n",
       "      <td>Delhi</td>\n",
       "      <td>BLR → DEL</td>\n",
       "      <td>non-stop</td>\n",
       "      <td>No info</td>\n",
       "      <td>3897</td>\n",
       "      <td>24</td>\n",
       "      <td>3</td>\n",
       "      <td>22</td>\n",
       "      <td>20</td>\n",
       "      <td>1</td>\n",
       "      <td>10</td>\n",
       "      <td>2.833</td>\n",
       "    </tr>\n",
       "    <tr>\n",
       "      <th>1</th>\n",
       "      <td>Air India</td>\n",
       "      <td>Kolkata</td>\n",
       "      <td>Banglore</td>\n",
       "      <td>CCU → IXR → BBI → BLR</td>\n",
       "      <td>2 stops</td>\n",
       "      <td>No info</td>\n",
       "      <td>7662</td>\n",
       "      <td>1</td>\n",
       "      <td>5</td>\n",
       "      <td>5</td>\n",
       "      <td>50</td>\n",
       "      <td>13</td>\n",
       "      <td>15</td>\n",
       "      <td>7.417</td>\n",
       "    </tr>\n",
       "    <tr>\n",
       "      <th>2</th>\n",
       "      <td>Jet Airways</td>\n",
       "      <td>Delhi</td>\n",
       "      <td>Cochin</td>\n",
       "      <td>DEL → LKO → BOM → COK</td>\n",
       "      <td>2 stops</td>\n",
       "      <td>No info</td>\n",
       "      <td>13882</td>\n",
       "      <td>9</td>\n",
       "      <td>6</td>\n",
       "      <td>9</td>\n",
       "      <td>25</td>\n",
       "      <td>4</td>\n",
       "      <td>25</td>\n",
       "      <td>19.000</td>\n",
       "    </tr>\n",
       "    <tr>\n",
       "      <th>3</th>\n",
       "      <td>IndiGo</td>\n",
       "      <td>Kolkata</td>\n",
       "      <td>Banglore</td>\n",
       "      <td>CCU → NAG → BLR</td>\n",
       "      <td>1 stop</td>\n",
       "      <td>No info</td>\n",
       "      <td>6218</td>\n",
       "      <td>12</td>\n",
       "      <td>5</td>\n",
       "      <td>18</td>\n",
       "      <td>5</td>\n",
       "      <td>23</td>\n",
       "      <td>30</td>\n",
       "      <td>5.417</td>\n",
       "    </tr>\n",
       "    <tr>\n",
       "      <th>4</th>\n",
       "      <td>IndiGo</td>\n",
       "      <td>Banglore</td>\n",
       "      <td>Delhi</td>\n",
       "      <td>BLR → NAG → DEL</td>\n",
       "      <td>1 stop</td>\n",
       "      <td>No info</td>\n",
       "      <td>13302</td>\n",
       "      <td>1</td>\n",
       "      <td>3</td>\n",
       "      <td>16</td>\n",
       "      <td>50</td>\n",
       "      <td>21</td>\n",
       "      <td>35</td>\n",
       "      <td>4.750</td>\n",
       "    </tr>\n",
       "  </tbody>\n",
       "</table>\n",
       "</div>"
      ],
      "text/plain": [
       "       Airline    Source Destination                  Route Total_Stops  \\\n",
       "0       IndiGo  Banglore       Delhi              BLR → DEL    non-stop   \n",
       "1    Air India   Kolkata    Banglore  CCU → IXR → BBI → BLR     2 stops   \n",
       "2  Jet Airways     Delhi      Cochin  DEL → LKO → BOM → COK     2 stops   \n",
       "3       IndiGo   Kolkata    Banglore        CCU → NAG → BLR      1 stop   \n",
       "4       IndiGo  Banglore       Delhi        BLR → NAG → DEL      1 stop   \n",
       "\n",
       "  Additional_Info  Price  Date  Month  Dep_Hour  Dep_Min  Arrival_Hour  \\\n",
       "0         No info   3897    24      3        22       20             1   \n",
       "1         No info   7662     1      5         5       50            13   \n",
       "2         No info  13882     9      6         9       25             4   \n",
       "3         No info   6218    12      5        18        5            23   \n",
       "4         No info  13302     1      3        16       50            21   \n",
       "\n",
       "   Arrival_Min  Total_Travel_Time_Hour  \n",
       "0           10                   2.833  \n",
       "1           15                   7.417  \n",
       "2           25                  19.000  \n",
       "3           30                   5.417  \n",
       "4           35                   4.750  "
      ]
     },
     "execution_count": 179,
     "metadata": {},
     "output_type": "execute_result"
    }
   ],
   "source": [
    "# check train data\n",
    "train.head()"
   ]
  },
  {
   "attachments": {},
   "cell_type": "markdown",
   "metadata": {},
   "source": [
    "#### Now we will perform the same steps on test data"
   ]
  },
  {
   "cell_type": "code",
   "execution_count": 180,
   "metadata": {},
   "outputs": [],
   "source": [
    "# Date of Journey\n",
    "test[\"Date\"] = test['Date_of_Journey'].apply(lambda x:x.split(\"/\")[0])\n",
    "test[\"Month\"] = test['Date_of_Journey'].apply(lambda x:x.split(\"/\")[1])\n",
    "test[\"Year\"] = test['Date_of_Journey'].apply(lambda x:x.split(\"/\")[2])\n",
    "\n",
    "# Drop the column\n",
    "test = test.drop(['Date_of_Journey'], axis=1)\n",
    "\n",
    "# change the datatype\n",
    "test['Date'] = test['Date'].astype('int')\n",
    "test['Month'] = test['Month'].astype('int')\n",
    "test['Year'] = test['Year'].astype('int')"
   ]
  },
  {
   "cell_type": "code",
   "execution_count": 181,
   "metadata": {},
   "outputs": [],
   "source": [
    "# Dep_Time\n",
    "test['Dep_Hour'] = test['Dep_Time'].apply(lambda x:x.split(\":\")[0])\n",
    "test['Dep_Min'] = test['Dep_Time'].apply(lambda x:x.split(\":\")[1])\n",
    "\n",
    "# Drop the column\n",
    "test = test.drop(['Dep_Time'],axis=1)\n",
    "\n",
    "# change the datatype\n",
    "test['Dep_Hour'] = test['Dep_Hour'].astype('int')\n",
    "test['Dep_Min'] = test['Dep_Min'].astype('int')"
   ]
  },
  {
   "cell_type": "code",
   "execution_count": 182,
   "metadata": {},
   "outputs": [],
   "source": [
    "# Arrival_Time\n",
    "test['Arrival_Time'] = test['Arrival_Time'].apply(lambda x:x.split(\" \")[0])\n",
    "test['Arrival_Hour'] = test['Arrival_Time'].apply(lambda x:x.split(\":\")[0])\n",
    "test['Arrival_Min'] = test['Arrival_Time'].apply(lambda x:x.split(\":\")[1])\n",
    "\n",
    "# Drop the Column\n",
    "test = test.drop(['Arrival_Time'],axis=1)\n",
    "\n",
    "# change the datatype\n",
    "test['Arrival_Hour'] = test['Arrival_Hour'].astype('int')\n",
    "test['Arrival_Min'] = test['Arrival_Min'].astype('int')"
   ]
  },
  {
   "cell_type": "code",
   "execution_count": 183,
   "metadata": {},
   "outputs": [],
   "source": [
    "# Duration\n",
    "test['Duration_Hour']=test['Duration'].str.split(' ').str[0].str.split('h').str[0]\n",
    "test['Duration_Min']=test['Duration'].str.split(' ').str[1].str.split('m').str[0]\n",
    "\n",
    "# replace incorrect values\n",
    "test['Duration_Hour'] = test['Duration_Hour'].replace('5m','0')\n",
    "test['Duration_Min'] = test['Duration_Min'].fillna('0')\n",
    "\n",
    "# drop the column\n",
    "test = test.drop(['Duration'],axis=1)\n",
    "\n",
    "# change the datatype\n",
    "test['Duration_Hour'] = test['Duration_Hour'].astype('int')\n",
    "test['Duration_Min'] = test['Duration_Min'].astype('int')"
   ]
  },
  {
   "cell_type": "code",
   "execution_count": 184,
   "metadata": {},
   "outputs": [],
   "source": [
    "# convert it into minutes\n",
    "test['Duration_Hour'] = test['Duration_Hour']*60\n",
    "\n",
    "# add columns to get total minutes\n",
    "test['Total_Travel_Time_Hour'] = test['Duration_Hour'] + test['Duration_Min']\n",
    "\n",
    "# convert it into hours\n",
    "test['Total_Travel_Time_Hour'] = round(test['Total_Travel_Time_Hour']/60,3)\n",
    "\n",
    "# drop the unnecessary columns\n",
    "test = test.drop(['Duration_Hour', 'Duration_Min'], axis=1)"
   ]
  },
  {
   "cell_type": "code",
   "execution_count": 185,
   "metadata": {},
   "outputs": [
    {
     "data": {
      "text/plain": [
       "Cochin       1145\n",
       "Banglore      710\n",
       "Delhi         317\n",
       "New Delhi     238\n",
       "Hyderabad     186\n",
       "Kolkata        75\n",
       "Name: Destination, dtype: int64"
      ]
     },
     "execution_count": 185,
     "metadata": {},
     "output_type": "execute_result"
    }
   ],
   "source": [
    "# Destination\n",
    "test['Destination'].value_counts()"
   ]
  },
  {
   "cell_type": "code",
   "execution_count": 186,
   "metadata": {},
   "outputs": [],
   "source": [
    "# replacing the values\n",
    "test['Destination'] = test['Destination'].replace('New Delhi', 'Delhi')"
   ]
  },
  {
   "cell_type": "code",
   "execution_count": 187,
   "metadata": {},
   "outputs": [
    {
     "data": {
      "text/plain": [
       "2019    2671\n",
       "Name: Year, dtype: int64"
      ]
     },
     "execution_count": 187,
     "metadata": {},
     "output_type": "execute_result"
    }
   ],
   "source": [
    "# Year\n",
    "test['Year'].value_counts()"
   ]
  },
  {
   "attachments": {},
   "cell_type": "markdown",
   "metadata": {},
   "source": [
    "Since there is only single value in \"Year\" column i.e., the only record present in this column is 2019. Let's drop this column."
   ]
  },
  {
   "cell_type": "code",
   "execution_count": 188,
   "metadata": {},
   "outputs": [],
   "source": [
    "# drop column \"Year\"\n",
    "test = test.drop(['Year'],axis=1)"
   ]
  },
  {
   "cell_type": "code",
   "execution_count": 189,
   "metadata": {},
   "outputs": [
    {
     "data": {
      "text/plain": [
       "Airline                    object\n",
       "Source                     object\n",
       "Destination                object\n",
       "Route                      object\n",
       "Total_Stops                object\n",
       "Additional_Info            object\n",
       "Date                        int32\n",
       "Month                       int32\n",
       "Dep_Hour                    int32\n",
       "Dep_Min                     int32\n",
       "Arrival_Hour                int32\n",
       "Arrival_Min                 int32\n",
       "Total_Travel_Time_Hour    float64\n",
       "dtype: object"
      ]
     },
     "execution_count": 189,
     "metadata": {},
     "output_type": "execute_result"
    }
   ],
   "source": [
    "# check datatypes\n",
    "test.dtypes"
   ]
  },
  {
   "cell_type": "code",
   "execution_count": 190,
   "metadata": {},
   "outputs": [
    {
     "data": {
      "text/plain": [
       "Airline                   0\n",
       "Source                    0\n",
       "Destination               0\n",
       "Route                     0\n",
       "Total_Stops               0\n",
       "Additional_Info           0\n",
       "Date                      0\n",
       "Month                     0\n",
       "Dep_Hour                  0\n",
       "Dep_Min                   0\n",
       "Arrival_Hour              0\n",
       "Arrival_Min               0\n",
       "Total_Travel_Time_Hour    0\n",
       "dtype: int64"
      ]
     },
     "execution_count": 190,
     "metadata": {},
     "output_type": "execute_result"
    }
   ],
   "source": [
    "# check for missing values\n",
    "test.isnull().sum()"
   ]
  },
  {
   "cell_type": "code",
   "execution_count": 191,
   "metadata": {},
   "outputs": [
    {
     "data": {
      "text/plain": [
       "26"
      ]
     },
     "execution_count": 191,
     "metadata": {},
     "output_type": "execute_result"
    }
   ],
   "source": [
    "# check for duplicates\n",
    "test.duplicated().sum()"
   ]
  },
  {
   "cell_type": "code",
   "execution_count": 192,
   "metadata": {},
   "outputs": [],
   "source": [
    "# drop duplicates\n",
    "test = test.drop_duplicates()"
   ]
  },
  {
   "cell_type": "code",
   "execution_count": 193,
   "metadata": {},
   "outputs": [
    {
     "data": {
      "text/plain": [
       "0"
      ]
     },
     "execution_count": 193,
     "metadata": {},
     "output_type": "execute_result"
    }
   ],
   "source": [
    "# check for duplicates\n",
    "test.duplicated().sum()"
   ]
  },
  {
   "cell_type": "code",
   "execution_count": 194,
   "metadata": {},
   "outputs": [
    {
     "data": {
      "text/html": [
       "<div>\n",
       "<style scoped>\n",
       "    .dataframe tbody tr th:only-of-type {\n",
       "        vertical-align: middle;\n",
       "    }\n",
       "\n",
       "    .dataframe tbody tr th {\n",
       "        vertical-align: top;\n",
       "    }\n",
       "\n",
       "    .dataframe thead th {\n",
       "        text-align: right;\n",
       "    }\n",
       "</style>\n",
       "<table border=\"1\" class=\"dataframe\">\n",
       "  <thead>\n",
       "    <tr style=\"text-align: right;\">\n",
       "      <th></th>\n",
       "      <th>Airline</th>\n",
       "      <th>Source</th>\n",
       "      <th>Destination</th>\n",
       "      <th>Route</th>\n",
       "      <th>Total_Stops</th>\n",
       "      <th>Additional_Info</th>\n",
       "      <th>Date</th>\n",
       "      <th>Month</th>\n",
       "      <th>Dep_Hour</th>\n",
       "      <th>Dep_Min</th>\n",
       "      <th>Arrival_Hour</th>\n",
       "      <th>Arrival_Min</th>\n",
       "      <th>Total_Travel_Time_Hour</th>\n",
       "    </tr>\n",
       "  </thead>\n",
       "  <tbody>\n",
       "    <tr>\n",
       "      <th>0</th>\n",
       "      <td>Jet Airways</td>\n",
       "      <td>Delhi</td>\n",
       "      <td>Cochin</td>\n",
       "      <td>DEL → BOM → COK</td>\n",
       "      <td>1 stop</td>\n",
       "      <td>No info</td>\n",
       "      <td>6</td>\n",
       "      <td>6</td>\n",
       "      <td>17</td>\n",
       "      <td>30</td>\n",
       "      <td>4</td>\n",
       "      <td>25</td>\n",
       "      <td>10.917</td>\n",
       "    </tr>\n",
       "    <tr>\n",
       "      <th>1</th>\n",
       "      <td>IndiGo</td>\n",
       "      <td>Kolkata</td>\n",
       "      <td>Banglore</td>\n",
       "      <td>CCU → MAA → BLR</td>\n",
       "      <td>1 stop</td>\n",
       "      <td>No info</td>\n",
       "      <td>12</td>\n",
       "      <td>5</td>\n",
       "      <td>6</td>\n",
       "      <td>20</td>\n",
       "      <td>10</td>\n",
       "      <td>20</td>\n",
       "      <td>4.000</td>\n",
       "    </tr>\n",
       "    <tr>\n",
       "      <th>2</th>\n",
       "      <td>Jet Airways</td>\n",
       "      <td>Delhi</td>\n",
       "      <td>Cochin</td>\n",
       "      <td>DEL → BOM → COK</td>\n",
       "      <td>1 stop</td>\n",
       "      <td>In-flight meal not included</td>\n",
       "      <td>21</td>\n",
       "      <td>5</td>\n",
       "      <td>19</td>\n",
       "      <td>15</td>\n",
       "      <td>19</td>\n",
       "      <td>0</td>\n",
       "      <td>23.750</td>\n",
       "    </tr>\n",
       "    <tr>\n",
       "      <th>3</th>\n",
       "      <td>Multiple carriers</td>\n",
       "      <td>Delhi</td>\n",
       "      <td>Cochin</td>\n",
       "      <td>DEL → BOM → COK</td>\n",
       "      <td>1 stop</td>\n",
       "      <td>No info</td>\n",
       "      <td>21</td>\n",
       "      <td>5</td>\n",
       "      <td>8</td>\n",
       "      <td>0</td>\n",
       "      <td>21</td>\n",
       "      <td>0</td>\n",
       "      <td>13.000</td>\n",
       "    </tr>\n",
       "    <tr>\n",
       "      <th>4</th>\n",
       "      <td>Air Asia</td>\n",
       "      <td>Banglore</td>\n",
       "      <td>Delhi</td>\n",
       "      <td>BLR → DEL</td>\n",
       "      <td>non-stop</td>\n",
       "      <td>No info</td>\n",
       "      <td>24</td>\n",
       "      <td>6</td>\n",
       "      <td>23</td>\n",
       "      <td>55</td>\n",
       "      <td>2</td>\n",
       "      <td>45</td>\n",
       "      <td>2.833</td>\n",
       "    </tr>\n",
       "  </tbody>\n",
       "</table>\n",
       "</div>"
      ],
      "text/plain": [
       "             Airline    Source Destination            Route Total_Stops  \\\n",
       "0        Jet Airways     Delhi      Cochin  DEL → BOM → COK      1 stop   \n",
       "1             IndiGo   Kolkata    Banglore  CCU → MAA → BLR      1 stop   \n",
       "2        Jet Airways     Delhi      Cochin  DEL → BOM → COK      1 stop   \n",
       "3  Multiple carriers     Delhi      Cochin  DEL → BOM → COK      1 stop   \n",
       "4           Air Asia  Banglore       Delhi        BLR → DEL    non-stop   \n",
       "\n",
       "               Additional_Info  Date  Month  Dep_Hour  Dep_Min  Arrival_Hour  \\\n",
       "0                      No info     6      6        17       30             4   \n",
       "1                      No info    12      5         6       20            10   \n",
       "2  In-flight meal not included    21      5        19       15            19   \n",
       "3                      No info    21      5         8        0            21   \n",
       "4                      No info    24      6        23       55             2   \n",
       "\n",
       "   Arrival_Min  Total_Travel_Time_Hour  \n",
       "0           25                  10.917  \n",
       "1           20                   4.000  \n",
       "2            0                  23.750  \n",
       "3            0                  13.000  \n",
       "4           45                   2.833  "
      ]
     },
     "execution_count": 194,
     "metadata": {},
     "output_type": "execute_result"
    }
   ],
   "source": [
    "# check test data\n",
    "test.head()"
   ]
  },
  {
   "attachments": {},
   "cell_type": "markdown",
   "metadata": {},
   "source": [
    "Now that we are done with data cleaning let's move towards a detailed EDA to gain insights from data."
   ]
  },
  {
   "cell_type": "code",
   "execution_count": 195,
   "metadata": {},
   "outputs": [
    {
     "data": {
      "text/plain": [
       "Jet Airways                          3700\n",
       "IndiGo                               2043\n",
       "Air India                            1695\n",
       "Multiple carriers                    1196\n",
       "SpiceJet                              815\n",
       "Vistara                               477\n",
       "Air Asia                              318\n",
       "GoAir                                 194\n",
       "Multiple carriers Premium economy      13\n",
       "Jet Airways Business                    6\n",
       "Vistara Premium economy                 3\n",
       "Trujet                                  1\n",
       "Name: Airline, dtype: int64"
      ]
     },
     "execution_count": 195,
     "metadata": {},
     "output_type": "execute_result"
    }
   ],
   "source": [
    "# Airline\n",
    "train['Airline'].value_counts()"
   ]
  },
  {
   "attachments": {},
   "cell_type": "markdown",
   "metadata": {},
   "source": [
    "For our analysis we will replace \"Multiple carriers Premium economy\", \"Jet Airways Business\", \"Vistara Premium economy\" with their original names."
   ]
  },
  {
   "cell_type": "code",
   "execution_count": 196,
   "metadata": {},
   "outputs": [],
   "source": [
    "# replacing airline names with their original (For train data)\n",
    "train['Airline'] = train['Airline'].replace(['Multiple carriers Premium economy', 'Jet Airways Business','Vistara Premium economy'],\n",
    "                                            ['Multiple carriers', 'Jet Airways','Vistara'])"
   ]
  },
  {
   "cell_type": "code",
   "execution_count": 197,
   "metadata": {},
   "outputs": [],
   "source": [
    "# replacing airline names with their original (For test data)\n",
    "test['Airline'] = test['Airline'].replace(['Multiple carriers Premium economy', 'Jet Airways Business','Vistara Premium economy'],\n",
    "                                            ['Multiple carriers', 'Jet Airways','Vistara'])"
   ]
  },
  {
   "cell_type": "code",
   "execution_count": 198,
   "metadata": {},
   "outputs": [
    {
     "data": {
      "text/plain": [
       "Jet Airways          3706\n",
       "IndiGo               2043\n",
       "Air India            1695\n",
       "Multiple carriers    1209\n",
       "SpiceJet              815\n",
       "Vistara               480\n",
       "Air Asia              318\n",
       "GoAir                 194\n",
       "Trujet                  1\n",
       "Name: Airline, dtype: int64"
      ]
     },
     "execution_count": 198,
     "metadata": {},
     "output_type": "execute_result"
    }
   ],
   "source": [
    "train['Airline'].value_counts()"
   ]
  },
  {
   "attachments": {},
   "cell_type": "markdown",
   "metadata": {},
   "source": [
    "As you can see that \"Jet Airways\" has maximum number of records in data."
   ]
  },
  {
   "cell_type": "code",
   "execution_count": 199,
   "metadata": {},
   "outputs": [
    {
     "data": {
      "text/html": [
       "<div>\n",
       "<style scoped>\n",
       "    .dataframe tbody tr th:only-of-type {\n",
       "        vertical-align: middle;\n",
       "    }\n",
       "\n",
       "    .dataframe tbody tr th {\n",
       "        vertical-align: top;\n",
       "    }\n",
       "\n",
       "    .dataframe thead th {\n",
       "        text-align: right;\n",
       "    }\n",
       "</style>\n",
       "<table border=\"1\" class=\"dataframe\">\n",
       "  <thead>\n",
       "    <tr style=\"text-align: right;\">\n",
       "      <th></th>\n",
       "      <th>Airline</th>\n",
       "      <th>Price</th>\n",
       "    </tr>\n",
       "  </thead>\n",
       "  <tbody>\n",
       "    <tr>\n",
       "      <th>0</th>\n",
       "      <td>Jet Airways</td>\n",
       "      <td>11674.72</td>\n",
       "    </tr>\n",
       "    <tr>\n",
       "      <th>1</th>\n",
       "      <td>Multiple carriers</td>\n",
       "      <td>10908.23</td>\n",
       "    </tr>\n",
       "    <tr>\n",
       "      <th>2</th>\n",
       "      <td>Air India</td>\n",
       "      <td>9555.38</td>\n",
       "    </tr>\n",
       "    <tr>\n",
       "      <th>3</th>\n",
       "      <td>Vistara</td>\n",
       "      <td>7809.01</td>\n",
       "    </tr>\n",
       "    <tr>\n",
       "      <th>4</th>\n",
       "      <td>GoAir</td>\n",
       "      <td>5861.06</td>\n",
       "    </tr>\n",
       "    <tr>\n",
       "      <th>5</th>\n",
       "      <td>IndiGo</td>\n",
       "      <td>5668.47</td>\n",
       "    </tr>\n",
       "    <tr>\n",
       "      <th>6</th>\n",
       "      <td>Air Asia</td>\n",
       "      <td>5593.75</td>\n",
       "    </tr>\n",
       "    <tr>\n",
       "      <th>7</th>\n",
       "      <td>SpiceJet</td>\n",
       "      <td>4335.84</td>\n",
       "    </tr>\n",
       "    <tr>\n",
       "      <th>8</th>\n",
       "      <td>Trujet</td>\n",
       "      <td>4140.00</td>\n",
       "    </tr>\n",
       "  </tbody>\n",
       "</table>\n",
       "</div>"
      ],
      "text/plain": [
       "             Airline     Price\n",
       "0        Jet Airways  11674.72\n",
       "1  Multiple carriers  10908.23\n",
       "2          Air India   9555.38\n",
       "3            Vistara   7809.01\n",
       "4              GoAir   5861.06\n",
       "5             IndiGo   5668.47\n",
       "6           Air Asia   5593.75\n",
       "7           SpiceJet   4335.84\n",
       "8             Trujet   4140.00"
      ]
     },
     "execution_count": 199,
     "metadata": {},
     "output_type": "execute_result"
    }
   ],
   "source": [
    "# Airlines and their average prices.\n",
    "airline_avg_price = train.groupby(['Airline'])['Price'].mean().round(2).sort_values(ascending=False).reset_index()\n",
    "airline_avg_price"
   ]
  },
  {
   "cell_type": "code",
   "execution_count": 200,
   "metadata": {},
   "outputs": [
    {
     "data": {
      "image/png": "[encoded data removed]",
      "text/plain": [
       "<Figure size 1200x400 with 1 Axes>"
      ]
     },
     "metadata": {},
     "output_type": "display_data"
    }
   ],
   "source": [
    "# let's visualize above data\n",
    "# function to add value labels\n",
    "def add_labels(x,y):\n",
    "    for i in range(len(x)):\n",
    "        plt.text(i, y[i]//2, y[i], ha='center')\n",
    "if __name__=='__main__':\n",
    "    x = airline_avg_price['Airline'].values\n",
    "    y = airline_avg_price['Price'].values\n",
    "    plt.figure(figsize=(12,4))\n",
    "    sns.barplot(x='Airline',y='Price', data=airline_avg_price, ci=None, dodge=False, estimator=np.mean)\n",
    "    add_labels(x,y)\n",
    "    plt.title(\"Airline Average Prices\")\n",
    "    plt.show()"
   ]
  },
  {
   "attachments": {},
   "cell_type": "markdown",
   "metadata": {},
   "source": [
    "#### From above barchart we can see that for \"Jet Airways\", \"Multiple Carriers\", \"Air India\", \"Vistara\" airlines the flight ticket prices are expensive and for \"Spicejet\", \"Trujet\" the flight ticket prices are comparatively cheaper."
   ]
  },
  {
   "cell_type": "code",
   "execution_count": 201,
   "metadata": {},
   "outputs": [
    {
     "data": {
      "text/html": [
       "<div>\n",
       "<style scoped>\n",
       "    .dataframe tbody tr th:only-of-type {\n",
       "        vertical-align: middle;\n",
       "    }\n",
       "\n",
       "    .dataframe tbody tr th {\n",
       "        vertical-align: top;\n",
       "    }\n",
       "\n",
       "    .dataframe thead th {\n",
       "        text-align: right;\n",
       "    }\n",
       "</style>\n",
       "<table border=\"1\" class=\"dataframe\">\n",
       "  <thead>\n",
       "    <tr style=\"text-align: right;\">\n",
       "      <th></th>\n",
       "      <th>Source</th>\n",
       "      <th>Destination</th>\n",
       "      <th>Price</th>\n",
       "    </tr>\n",
       "  </thead>\n",
       "  <tbody>\n",
       "    <tr>\n",
       "      <th>0</th>\n",
       "      <td>Delhi</td>\n",
       "      <td>Cochin</td>\n",
       "      <td>10460.91</td>\n",
       "    </tr>\n",
       "    <tr>\n",
       "      <th>1</th>\n",
       "      <td>Kolkata</td>\n",
       "      <td>Banglore</td>\n",
       "      <td>9143.08</td>\n",
       "    </tr>\n",
       "    <tr>\n",
       "      <th>2</th>\n",
       "      <td>Banglore</td>\n",
       "      <td>Delhi</td>\n",
       "      <td>8024.69</td>\n",
       "    </tr>\n",
       "    <tr>\n",
       "      <th>3</th>\n",
       "      <td>Mumbai</td>\n",
       "      <td>Hyderabad</td>\n",
       "      <td>5059.71</td>\n",
       "    </tr>\n",
       "    <tr>\n",
       "      <th>4</th>\n",
       "      <td>Chennai</td>\n",
       "      <td>Kolkata</td>\n",
       "      <td>4789.89</td>\n",
       "    </tr>\n",
       "  </tbody>\n",
       "</table>\n",
       "</div>"
      ],
      "text/plain": [
       "     Source Destination     Price\n",
       "0     Delhi      Cochin  10460.91\n",
       "1   Kolkata    Banglore   9143.08\n",
       "2  Banglore       Delhi   8024.69\n",
       "3    Mumbai   Hyderabad   5059.71\n",
       "4   Chennai     Kolkata   4789.89"
      ]
     },
     "execution_count": 201,
     "metadata": {},
     "output_type": "execute_result"
    }
   ],
   "source": [
    "# Source to Destination Average Prices\n",
    "source_avg_price = train.groupby(['Source', 'Destination'])['Price'].mean().round(2).sort_values(ascending=False).reset_index()\n",
    "source_avg_price"
   ]
  },
  {
   "cell_type": "code",
   "execution_count": 202,
   "metadata": {},
   "outputs": [
    {
     "data": {
      "image/png": "[encoded data removed]",
      "text/plain": [
       "<Figure size 800x400 with 1 Axes>"
      ]
     },
     "metadata": {},
     "output_type": "display_data"
    }
   ],
   "source": [
    "# let's visualize above data\n",
    "# function to add value labels\n",
    "def add_labels(x,y):\n",
    "    for i in range(len(x)):\n",
    "        plt.text(i, y[i]//2, y[i], ha='center')\n",
    "if __name__=='__main__':\n",
    "    x = source_avg_price['Source'].values\n",
    "    y = source_avg_price['Price'].values\n",
    "    plt.figure(figsize=(8,4))\n",
    "    sns.barplot(x='Source',y='Price', hue='Destination', data=source_avg_price, ci=None, dodge=False, estimator=np.mean, palette='viridis')\n",
    "    add_labels(x,y)\n",
    "    plt.title(\"Source to Destination Average Prices\")\n",
    "    plt.show()"
   ]
  },
  {
   "attachments": {},
   "cell_type": "markdown",
   "metadata": {},
   "source": [
    "#### From above barchart we can see that for \"Delhi --> Cochin\", \"Kolkata --> Bangalore\", \"Bangalore --> Delhi\" the flight ticket prices are  expensive and for \"Mumbai --> Hyderabad\", \"Chennai --> Kolkata\" the flight tickets are cheaper."
   ]
  },
  {
   "cell_type": "code",
   "execution_count": 203,
   "metadata": {},
   "outputs": [
    {
     "data": {
      "text/html": [
       "<div>\n",
       "<style scoped>\n",
       "    .dataframe tbody tr th:only-of-type {\n",
       "        vertical-align: middle;\n",
       "    }\n",
       "\n",
       "    .dataframe tbody tr th {\n",
       "        vertical-align: top;\n",
       "    }\n",
       "\n",
       "    .dataframe thead th {\n",
       "        text-align: right;\n",
       "    }\n",
       "</style>\n",
       "<table border=\"1\" class=\"dataframe\">\n",
       "  <thead>\n",
       "    <tr style=\"text-align: right;\">\n",
       "      <th></th>\n",
       "      <th>Source</th>\n",
       "      <th>Destination</th>\n",
       "      <th>Total_Travel_Time_Hour</th>\n",
       "    </tr>\n",
       "  </thead>\n",
       "  <tbody>\n",
       "    <tr>\n",
       "      <th>0</th>\n",
       "      <td>Delhi</td>\n",
       "      <td>Cochin</td>\n",
       "      <td>13.23</td>\n",
       "    </tr>\n",
       "    <tr>\n",
       "      <th>1</th>\n",
       "      <td>Kolkata</td>\n",
       "      <td>Banglore</td>\n",
       "      <td>12.43</td>\n",
       "    </tr>\n",
       "    <tr>\n",
       "      <th>2</th>\n",
       "      <td>Banglore</td>\n",
       "      <td>Delhi</td>\n",
       "      <td>6.28</td>\n",
       "    </tr>\n",
       "    <tr>\n",
       "      <th>3</th>\n",
       "      <td>Mumbai</td>\n",
       "      <td>Hyderabad</td>\n",
       "      <td>3.20</td>\n",
       "    </tr>\n",
       "    <tr>\n",
       "      <th>4</th>\n",
       "      <td>Chennai</td>\n",
       "      <td>Kolkata</td>\n",
       "      <td>2.33</td>\n",
       "    </tr>\n",
       "  </tbody>\n",
       "</table>\n",
       "</div>"
      ],
      "text/plain": [
       "     Source Destination  Total_Travel_Time_Hour\n",
       "0     Delhi      Cochin                   13.23\n",
       "1   Kolkata    Banglore                   12.43\n",
       "2  Banglore       Delhi                    6.28\n",
       "3    Mumbai   Hyderabad                    3.20\n",
       "4   Chennai     Kolkata                    2.33"
      ]
     },
     "execution_count": 203,
     "metadata": {},
     "output_type": "execute_result"
    }
   ],
   "source": [
    "# Source to Destination Average Travel Time\n",
    "source_travel_time = train.groupby(['Source', 'Destination'])['Total_Travel_Time_Hour'].mean().round(2).sort_values(\n",
    "    ascending=False).reset_index()\n",
    "source_travel_time"
   ]
  },
  {
   "cell_type": "code",
   "execution_count": 204,
   "metadata": {},
   "outputs": [
    {
     "data": {
      "image/png": "[encoded data removed]",
      "text/plain": [
       "<Figure size 800x400 with 1 Axes>"
      ]
     },
     "metadata": {},
     "output_type": "display_data"
    }
   ],
   "source": [
    "# let's visualize above data\n",
    "# function to add value labels\n",
    "def add_labels(x,y):\n",
    "    for i in range(len(x)):\n",
    "        plt.text(i, y[i]//2, y[i], ha='center')\n",
    "if __name__=='__main__':\n",
    "    x = source_travel_time['Source'].values\n",
    "    y = source_travel_time['Total_Travel_Time_Hour'].values\n",
    "    plt.figure(figsize=(8,4))\n",
    "    sns.barplot(x='Source',y='Total_Travel_Time_Hour', hue='Destination', data=source_travel_time, ci=None, dodge=False, \n",
    "                estimator=np.mean, palette='viridis')\n",
    "    add_labels(x,y)\n",
    "    plt.ylabel(\"Total Travel Time (Hours)\")\n",
    "    plt.title(\"Source to Destination Average Travel Time\")\n",
    "    plt.show()"
   ]
  },
  {
   "attachments": {},
   "cell_type": "markdown",
   "metadata": {},
   "source": [
    "#### The average travel time for \"Delhi --> Cochin\" and \"Kolkata --> Bangalore\" is higher compared to \"Mumbai --> Hyderabad\" and \"Chennai --> Kolkata\"."
   ]
  },
  {
   "cell_type": "code",
   "execution_count": 205,
   "metadata": {},
   "outputs": [
    {
     "name": "stderr",
     "output_type": "stream",
     "text": [
      "C:\\Users\\LENOVO\\AppData\\Local\\Temp\\ipykernel_7616\\744487864.py:2: FutureWarning: Indexing with multiple keys (implicitly converted to a tuple of keys) will be deprecated, use a list instead.\n",
      "  fast_travel_time_price = train.groupby(['Airline','Source','Destination'])['Total_Travel_Time_Hour','Price'].mean().round(2).sort_values(\n"
     ]
    },
    {
     "data": {
      "text/html": [
       "<div>\n",
       "<style scoped>\n",
       "    .dataframe tbody tr th:only-of-type {\n",
       "        vertical-align: middle;\n",
       "    }\n",
       "\n",
       "    .dataframe tbody tr th {\n",
       "        vertical-align: top;\n",
       "    }\n",
       "\n",
       "    .dataframe thead th {\n",
       "        text-align: right;\n",
       "    }\n",
       "</style>\n",
       "<table border=\"1\" class=\"dataframe\">\n",
       "  <thead>\n",
       "    <tr style=\"text-align: right;\">\n",
       "      <th></th>\n",
       "      <th>Airline</th>\n",
       "      <th>Source</th>\n",
       "      <th>Destination</th>\n",
       "      <th>Total_Travel_Time_Hour</th>\n",
       "      <th>Price</th>\n",
       "    </tr>\n",
       "  </thead>\n",
       "  <tbody>\n",
       "    <tr>\n",
       "      <th>0</th>\n",
       "      <td>IndiGo</td>\n",
       "      <td>Mumbai</td>\n",
       "      <td>Hyderabad</td>\n",
       "      <td>1.52</td>\n",
       "      <td>3659.82</td>\n",
       "    </tr>\n",
       "    <tr>\n",
       "      <th>1</th>\n",
       "      <td>SpiceJet</td>\n",
       "      <td>Mumbai</td>\n",
       "      <td>Hyderabad</td>\n",
       "      <td>1.53</td>\n",
       "      <td>2511.11</td>\n",
       "    </tr>\n",
       "    <tr>\n",
       "      <th>2</th>\n",
       "      <td>Air India</td>\n",
       "      <td>Chennai</td>\n",
       "      <td>Kolkata</td>\n",
       "      <td>2.25</td>\n",
       "      <td>5895.64</td>\n",
       "    </tr>\n",
       "    <tr>\n",
       "      <th>3</th>\n",
       "      <td>Vistara</td>\n",
       "      <td>Chennai</td>\n",
       "      <td>Kolkata</td>\n",
       "      <td>2.28</td>\n",
       "      <td>7528.50</td>\n",
       "    </tr>\n",
       "    <tr>\n",
       "      <th>4</th>\n",
       "      <td>SpiceJet</td>\n",
       "      <td>Chennai</td>\n",
       "      <td>Kolkata</td>\n",
       "      <td>2.31</td>\n",
       "      <td>3993.52</td>\n",
       "    </tr>\n",
       "    <tr>\n",
       "      <th>5</th>\n",
       "      <td>IndiGo</td>\n",
       "      <td>Chennai</td>\n",
       "      <td>Kolkata</td>\n",
       "      <td>2.36</td>\n",
       "      <td>4538.77</td>\n",
       "    </tr>\n",
       "    <tr>\n",
       "      <th>6</th>\n",
       "      <td>Jet Airways</td>\n",
       "      <td>Mumbai</td>\n",
       "      <td>Hyderabad</td>\n",
       "      <td>2.44</td>\n",
       "      <td>6227.95</td>\n",
       "    </tr>\n",
       "    <tr>\n",
       "      <th>7</th>\n",
       "      <td>Air Asia</td>\n",
       "      <td>Banglore</td>\n",
       "      <td>Delhi</td>\n",
       "      <td>2.80</td>\n",
       "      <td>4575.33</td>\n",
       "    </tr>\n",
       "    <tr>\n",
       "      <th>8</th>\n",
       "      <td>GoAir</td>\n",
       "      <td>Banglore</td>\n",
       "      <td>Delhi</td>\n",
       "      <td>2.92</td>\n",
       "      <td>4948.88</td>\n",
       "    </tr>\n",
       "    <tr>\n",
       "      <th>9</th>\n",
       "      <td>IndiGo</td>\n",
       "      <td>Banglore</td>\n",
       "      <td>Delhi</td>\n",
       "      <td>3.01</td>\n",
       "      <td>5245.56</td>\n",
       "    </tr>\n",
       "    <tr>\n",
       "      <th>10</th>\n",
       "      <td>SpiceJet</td>\n",
       "      <td>Banglore</td>\n",
       "      <td>Delhi</td>\n",
       "      <td>3.05</td>\n",
       "      <td>4542.68</td>\n",
       "    </tr>\n",
       "    <tr>\n",
       "      <th>11</th>\n",
       "      <td>Vistara</td>\n",
       "      <td>Delhi</td>\n",
       "      <td>Cochin</td>\n",
       "      <td>3.14</td>\n",
       "      <td>6465.64</td>\n",
       "    </tr>\n",
       "    <tr>\n",
       "      <th>12</th>\n",
       "      <td>SpiceJet</td>\n",
       "      <td>Kolkata</td>\n",
       "      <td>Banglore</td>\n",
       "      <td>3.18</td>\n",
       "      <td>4642.88</td>\n",
       "    </tr>\n",
       "    <tr>\n",
       "      <th>13</th>\n",
       "      <td>IndiGo</td>\n",
       "      <td>Kolkata</td>\n",
       "      <td>Banglore</td>\n",
       "      <td>3.22</td>\n",
       "      <td>5075.24</td>\n",
       "    </tr>\n",
       "    <tr>\n",
       "      <th>14</th>\n",
       "      <td>Trujet</td>\n",
       "      <td>Mumbai</td>\n",
       "      <td>Hyderabad</td>\n",
       "      <td>3.25</td>\n",
       "      <td>4140.00</td>\n",
       "    </tr>\n",
       "    <tr>\n",
       "      <th>15</th>\n",
       "      <td>Vistara</td>\n",
       "      <td>Banglore</td>\n",
       "      <td>Delhi</td>\n",
       "      <td>3.51</td>\n",
       "      <td>6207.85</td>\n",
       "    </tr>\n",
       "  </tbody>\n",
       "</table>\n",
       "</div>"
      ],
      "text/plain": [
       "        Airline    Source Destination  Total_Travel_Time_Hour    Price\n",
       "0        IndiGo    Mumbai   Hyderabad                    1.52  3659.82\n",
       "1      SpiceJet    Mumbai   Hyderabad                    1.53  2511.11\n",
       "2     Air India   Chennai     Kolkata                    2.25  5895.64\n",
       "3       Vistara   Chennai     Kolkata                    2.28  7528.50\n",
       "4      SpiceJet   Chennai     Kolkata                    2.31  3993.52\n",
       "5        IndiGo   Chennai     Kolkata                    2.36  4538.77\n",
       "6   Jet Airways    Mumbai   Hyderabad                    2.44  6227.95\n",
       "7      Air Asia  Banglore       Delhi                    2.80  4575.33\n",
       "8         GoAir  Banglore       Delhi                    2.92  4948.88\n",
       "9        IndiGo  Banglore       Delhi                    3.01  5245.56\n",
       "10     SpiceJet  Banglore       Delhi                    3.05  4542.68\n",
       "11      Vistara     Delhi      Cochin                    3.14  6465.64\n",
       "12     SpiceJet   Kolkata    Banglore                    3.18  4642.88\n",
       "13       IndiGo   Kolkata    Banglore                    3.22  5075.24\n",
       "14       Trujet    Mumbai   Hyderabad                    3.25  4140.00\n",
       "15      Vistara  Banglore       Delhi                    3.51  6207.85"
      ]
     },
     "execution_count": 205,
     "metadata": {},
     "output_type": "execute_result"
    }
   ],
   "source": [
    "# Airlines with Less Travel Time(<4 Hours)\n",
    "fast_travel_time_price = train.groupby(['Airline','Source','Destination'])['Total_Travel_Time_Hour','Price'].mean().round(2).sort_values(\n",
    "    ascending=True,by='Total_Travel_Time_Hour').reset_index().head(16)\n",
    "fast_travel_time_price"
   ]
  },
  {
   "cell_type": "code",
   "execution_count": 206,
   "metadata": {},
   "outputs": [
    {
     "data": {
      "image/png": "[encoded data removed]",
      "text/plain": [
       "<Figure size 1600x600 with 2 Axes>"
      ]
     },
     "metadata": {},
     "output_type": "display_data"
    }
   ],
   "source": [
    "# let's visualize above data\n",
    "fig = plt.figure(figsize=(16,6))\n",
    "\n",
    "ax1 = fig.add_subplot(121)\n",
    "sns.stripplot(x='Source', y='Total_Travel_Time_Hour', hue='Airline', data=fast_travel_time_price, size=10, ax=ax1)\n",
    "plt.ylabel(\"Average Travel Time (Hours)\")\n",
    "plt.title(\"Airlines with Less Travel Time(<4 Hours)\")\n",
    "\n",
    "ax2 = fig.add_subplot(122)\n",
    "sns.stripplot(x='Destination', y='Price', hue='Airline', data=fast_travel_time_price, size=10, ax=ax2)\n",
    "plt.ylabel(\"Average Flight Prices\")\n",
    "plt.title(\"Airlines with Less Travel Time(Prices)\")\n",
    "\n",
    "plt.show()"
   ]
  },
  {
   "attachments": {},
   "cell_type": "markdown",
   "metadata": {},
   "source": [
    "#### The above 2 barcharts gives information about which airlines take less travel time from Source --> Destination as well as which airlines have cheaper flight ticket prices."
   ]
  },
  {
   "cell_type": "code",
   "execution_count": 207,
   "metadata": {},
   "outputs": [
    {
     "data": {
      "text/html": [
       "<div>\n",
       "<style scoped>\n",
       "    .dataframe tbody tr th:only-of-type {\n",
       "        vertical-align: middle;\n",
       "    }\n",
       "\n",
       "    .dataframe tbody tr th {\n",
       "        vertical-align: top;\n",
       "    }\n",
       "\n",
       "    .dataframe thead th {\n",
       "        text-align: right;\n",
       "    }\n",
       "</style>\n",
       "<table border=\"1\" class=\"dataframe\">\n",
       "  <thead>\n",
       "    <tr style=\"text-align: right;\">\n",
       "      <th></th>\n",
       "      <th>Airline</th>\n",
       "      <th>Month</th>\n",
       "      <th>Price</th>\n",
       "    </tr>\n",
       "  </thead>\n",
       "  <tbody>\n",
       "    <tr>\n",
       "      <th>0</th>\n",
       "      <td>SpiceJet</td>\n",
       "      <td>6</td>\n",
       "      <td>3942.29</td>\n",
       "    </tr>\n",
       "    <tr>\n",
       "      <th>1</th>\n",
       "      <td>SpiceJet</td>\n",
       "      <td>5</td>\n",
       "      <td>4060.43</td>\n",
       "    </tr>\n",
       "    <tr>\n",
       "      <th>2</th>\n",
       "      <td>Trujet</td>\n",
       "      <td>3</td>\n",
       "      <td>4140.00</td>\n",
       "    </tr>\n",
       "    <tr>\n",
       "      <th>3</th>\n",
       "      <td>SpiceJet</td>\n",
       "      <td>4</td>\n",
       "      <td>4248.40</td>\n",
       "    </tr>\n",
       "    <tr>\n",
       "      <th>4</th>\n",
       "      <td>Air Asia</td>\n",
       "      <td>4</td>\n",
       "      <td>4729.36</td>\n",
       "    </tr>\n",
       "    <tr>\n",
       "      <th>5</th>\n",
       "      <td>IndiGo</td>\n",
       "      <td>4</td>\n",
       "      <td>4779.93</td>\n",
       "    </tr>\n",
       "    <tr>\n",
       "      <th>6</th>\n",
       "      <td>GoAir</td>\n",
       "      <td>4</td>\n",
       "      <td>4953.43</td>\n",
       "    </tr>\n",
       "    <tr>\n",
       "      <th>7</th>\n",
       "      <td>GoAir</td>\n",
       "      <td>6</td>\n",
       "      <td>5058.53</td>\n",
       "    </tr>\n",
       "    <tr>\n",
       "      <th>8</th>\n",
       "      <td>IndiGo</td>\n",
       "      <td>6</td>\n",
       "      <td>5112.08</td>\n",
       "    </tr>\n",
       "    <tr>\n",
       "      <th>9</th>\n",
       "      <td>Air Asia</td>\n",
       "      <td>5</td>\n",
       "      <td>5174.35</td>\n",
       "    </tr>\n",
       "    <tr>\n",
       "      <th>10</th>\n",
       "      <td>IndiGo</td>\n",
       "      <td>5</td>\n",
       "      <td>5229.69</td>\n",
       "    </tr>\n",
       "    <tr>\n",
       "      <th>11</th>\n",
       "      <td>SpiceJet</td>\n",
       "      <td>3</td>\n",
       "      <td>5327.58</td>\n",
       "    </tr>\n",
       "    <tr>\n",
       "      <th>12</th>\n",
       "      <td>GoAir</td>\n",
       "      <td>5</td>\n",
       "      <td>5812.22</td>\n",
       "    </tr>\n",
       "    <tr>\n",
       "      <th>13</th>\n",
       "      <td>Air Asia</td>\n",
       "      <td>3</td>\n",
       "      <td>6013.54</td>\n",
       "    </tr>\n",
       "    <tr>\n",
       "      <th>14</th>\n",
       "      <td>Air India</td>\n",
       "      <td>4</td>\n",
       "      <td>6222.30</td>\n",
       "    </tr>\n",
       "    <tr>\n",
       "      <th>15</th>\n",
       "      <td>Vistara</td>\n",
       "      <td>4</td>\n",
       "      <td>6302.30</td>\n",
       "    </tr>\n",
       "    <tr>\n",
       "      <th>16</th>\n",
       "      <td>Air Asia</td>\n",
       "      <td>6</td>\n",
       "      <td>6304.92</td>\n",
       "    </tr>\n",
       "    <tr>\n",
       "      <th>17</th>\n",
       "      <td>Vistara</td>\n",
       "      <td>6</td>\n",
       "      <td>6910.90</td>\n",
       "    </tr>\n",
       "    <tr>\n",
       "      <th>18</th>\n",
       "      <td>IndiGo</td>\n",
       "      <td>3</td>\n",
       "      <td>7220.83</td>\n",
       "    </tr>\n",
       "    <tr>\n",
       "      <th>19</th>\n",
       "      <td>Jet Airways</td>\n",
       "      <td>4</td>\n",
       "      <td>7578.85</td>\n",
       "    </tr>\n",
       "    <tr>\n",
       "      <th>20</th>\n",
       "      <td>Vistara</td>\n",
       "      <td>5</td>\n",
       "      <td>7664.73</td>\n",
       "    </tr>\n",
       "    <tr>\n",
       "      <th>21</th>\n",
       "      <td>GoAir</td>\n",
       "      <td>3</td>\n",
       "      <td>8124.28</td>\n",
       "    </tr>\n",
       "    <tr>\n",
       "      <th>22</th>\n",
       "      <td>Multiple carriers</td>\n",
       "      <td>4</td>\n",
       "      <td>8617.19</td>\n",
       "    </tr>\n",
       "    <tr>\n",
       "      <th>23</th>\n",
       "      <td>Air India</td>\n",
       "      <td>6</td>\n",
       "      <td>9196.43</td>\n",
       "    </tr>\n",
       "    <tr>\n",
       "      <th>24</th>\n",
       "      <td>Air India</td>\n",
       "      <td>5</td>\n",
       "      <td>9685.47</td>\n",
       "    </tr>\n",
       "    <tr>\n",
       "      <th>25</th>\n",
       "      <td>Vistara</td>\n",
       "      <td>3</td>\n",
       "      <td>9917.22</td>\n",
       "    </tr>\n",
       "    <tr>\n",
       "      <th>26</th>\n",
       "      <td>Multiple carriers</td>\n",
       "      <td>5</td>\n",
       "      <td>10151.74</td>\n",
       "    </tr>\n",
       "    <tr>\n",
       "      <th>27</th>\n",
       "      <td>Multiple carriers</td>\n",
       "      <td>6</td>\n",
       "      <td>10394.06</td>\n",
       "    </tr>\n",
       "    <tr>\n",
       "      <th>28</th>\n",
       "      <td>Air India</td>\n",
       "      <td>3</td>\n",
       "      <td>10688.30</td>\n",
       "    </tr>\n",
       "    <tr>\n",
       "      <th>29</th>\n",
       "      <td>Jet Airways</td>\n",
       "      <td>6</td>\n",
       "      <td>11184.26</td>\n",
       "    </tr>\n",
       "    <tr>\n",
       "      <th>30</th>\n",
       "      <td>Jet Airways</td>\n",
       "      <td>5</td>\n",
       "      <td>11554.20</td>\n",
       "    </tr>\n",
       "    <tr>\n",
       "      <th>31</th>\n",
       "      <td>Multiple carriers</td>\n",
       "      <td>3</td>\n",
       "      <td>12657.92</td>\n",
       "    </tr>\n",
       "    <tr>\n",
       "      <th>32</th>\n",
       "      <td>Jet Airways</td>\n",
       "      <td>3</td>\n",
       "      <td>13779.18</td>\n",
       "    </tr>\n",
       "  </tbody>\n",
       "</table>\n",
       "</div>"
      ],
      "text/plain": [
       "              Airline  Month     Price\n",
       "0            SpiceJet      6   3942.29\n",
       "1            SpiceJet      5   4060.43\n",
       "2              Trujet      3   4140.00\n",
       "3            SpiceJet      4   4248.40\n",
       "4            Air Asia      4   4729.36\n",
       "5              IndiGo      4   4779.93\n",
       "6               GoAir      4   4953.43\n",
       "7               GoAir      6   5058.53\n",
       "8              IndiGo      6   5112.08\n",
       "9            Air Asia      5   5174.35\n",
       "10             IndiGo      5   5229.69\n",
       "11           SpiceJet      3   5327.58\n",
       "12              GoAir      5   5812.22\n",
       "13           Air Asia      3   6013.54\n",
       "14          Air India      4   6222.30\n",
       "15            Vistara      4   6302.30\n",
       "16           Air Asia      6   6304.92\n",
       "17            Vistara      6   6910.90\n",
       "18             IndiGo      3   7220.83\n",
       "19        Jet Airways      4   7578.85\n",
       "20            Vistara      5   7664.73\n",
       "21              GoAir      3   8124.28\n",
       "22  Multiple carriers      4   8617.19\n",
       "23          Air India      6   9196.43\n",
       "24          Air India      5   9685.47\n",
       "25            Vistara      3   9917.22\n",
       "26  Multiple carriers      5  10151.74\n",
       "27  Multiple carriers      6  10394.06\n",
       "28          Air India      3  10688.30\n",
       "29        Jet Airways      6  11184.26\n",
       "30        Jet Airways      5  11554.20\n",
       "31  Multiple carriers      3  12657.92\n",
       "32        Jet Airways      3  13779.18"
      ]
     },
     "execution_count": 207,
     "metadata": {},
     "output_type": "execute_result"
    }
   ],
   "source": [
    "# Airlines Flight Prices compared with Month\n",
    "airline_monthly_price = train.groupby(['Airline','Month'])['Price'].mean().round(2).sort_values(ascending=True).reset_index()\n",
    "airline_monthly_price"
   ]
  },
  {
   "cell_type": "code",
   "execution_count": 208,
   "metadata": {},
   "outputs": [
    {
     "data": {
      "image/png": "[encoded data removed]",
      "text/plain": [
       "<Figure size 1200x600 with 1 Axes>"
      ]
     },
     "metadata": {},
     "output_type": "display_data"
    }
   ],
   "source": [
    "# Let's visualize above data\n",
    "fig = plt.figure(figsize=(12,6))\n",
    "\n",
    "ax1 = fig.add_subplot(111)\n",
    "sns.stripplot(x='Airline', y='Price', hue='Month', data=airline_monthly_price, ax=ax1, size=10)\n",
    "plt.ylabel(\"Average Flight Prices\")\n",
    "plt.title(\"Airlines Flight Prices compared with Month\")\n",
    "plt.show()"
   ]
  },
  {
   "attachments": {},
   "cell_type": "markdown",
   "metadata": {},
   "source": [
    "#### The above stripplot gives information on the months where flight ticket prices are cheaper for the airlines. i.e., if you carefully observe you can see that \"March\" month records expensive flight ticket prices for most of the airlines while \"April\" month records cheaper flight ticket prices."
   ]
  },
  {
   "cell_type": "code",
   "execution_count": 209,
   "metadata": {},
   "outputs": [
    {
     "data": {
      "text/html": [
       "<div>\n",
       "<style scoped>\n",
       "    .dataframe tbody tr th:only-of-type {\n",
       "        vertical-align: middle;\n",
       "    }\n",
       "\n",
       "    .dataframe tbody tr th {\n",
       "        vertical-align: top;\n",
       "    }\n",
       "\n",
       "    .dataframe thead th {\n",
       "        text-align: right;\n",
       "    }\n",
       "</style>\n",
       "<table border=\"1\" class=\"dataframe\">\n",
       "  <thead>\n",
       "    <tr style=\"text-align: right;\">\n",
       "      <th></th>\n",
       "      <th>Airline</th>\n",
       "      <th>Date</th>\n",
       "      <th>Price</th>\n",
       "    </tr>\n",
       "  </thead>\n",
       "  <tbody>\n",
       "    <tr>\n",
       "      <th>0</th>\n",
       "      <td>SpiceJet</td>\n",
       "      <td>27</td>\n",
       "      <td>3757.22</td>\n",
       "    </tr>\n",
       "    <tr>\n",
       "      <th>1</th>\n",
       "      <td>SpiceJet</td>\n",
       "      <td>18</td>\n",
       "      <td>3914.27</td>\n",
       "    </tr>\n",
       "    <tr>\n",
       "      <th>2</th>\n",
       "      <td>SpiceJet</td>\n",
       "      <td>21</td>\n",
       "      <td>4089.90</td>\n",
       "    </tr>\n",
       "    <tr>\n",
       "      <th>3</th>\n",
       "      <td>Trujet</td>\n",
       "      <td>6</td>\n",
       "      <td>4140.00</td>\n",
       "    </tr>\n",
       "    <tr>\n",
       "      <th>4</th>\n",
       "      <td>SpiceJet</td>\n",
       "      <td>15</td>\n",
       "      <td>4275.46</td>\n",
       "    </tr>\n",
       "    <tr>\n",
       "      <th>...</th>\n",
       "      <td>...</td>\n",
       "      <td>...</td>\n",
       "      <td>...</td>\n",
       "    </tr>\n",
       "    <tr>\n",
       "      <th>76</th>\n",
       "      <td>Multiple carriers</td>\n",
       "      <td>1</td>\n",
       "      <td>12003.44</td>\n",
       "    </tr>\n",
       "    <tr>\n",
       "      <th>77</th>\n",
       "      <td>Multiple carriers</td>\n",
       "      <td>6</td>\n",
       "      <td>12538.58</td>\n",
       "    </tr>\n",
       "    <tr>\n",
       "      <th>78</th>\n",
       "      <td>Jet Airways</td>\n",
       "      <td>6</td>\n",
       "      <td>12880.42</td>\n",
       "    </tr>\n",
       "    <tr>\n",
       "      <th>79</th>\n",
       "      <td>Multiple carriers</td>\n",
       "      <td>3</td>\n",
       "      <td>13208.57</td>\n",
       "    </tr>\n",
       "    <tr>\n",
       "      <th>80</th>\n",
       "      <td>Jet Airways</td>\n",
       "      <td>1</td>\n",
       "      <td>13512.54</td>\n",
       "    </tr>\n",
       "  </tbody>\n",
       "</table>\n",
       "<p>81 rows × 3 columns</p>\n",
       "</div>"
      ],
      "text/plain": [
       "              Airline  Date     Price\n",
       "0            SpiceJet    27   3757.22\n",
       "1            SpiceJet    18   3914.27\n",
       "2            SpiceJet    21   4089.90\n",
       "3              Trujet     6   4140.00\n",
       "4            SpiceJet    15   4275.46\n",
       "..                ...   ...       ...\n",
       "76  Multiple carriers     1  12003.44\n",
       "77  Multiple carriers     6  12538.58\n",
       "78        Jet Airways     6  12880.42\n",
       "79  Multiple carriers     3  13208.57\n",
       "80        Jet Airways     1  13512.54\n",
       "\n",
       "[81 rows x 3 columns]"
      ]
     },
     "execution_count": 209,
     "metadata": {},
     "output_type": "execute_result"
    }
   ],
   "source": [
    "# Airlines Flight Prices compared with Date\n",
    "airline_daily_price = train.groupby(['Airline','Date'])['Price'].mean().round(2).sort_values(ascending=True).reset_index()\n",
    "airline_daily_price"
   ]
  },
  {
   "cell_type": "code",
   "execution_count": 210,
   "metadata": {},
   "outputs": [
    {
     "data": {
      "image/png": "[encoded data removed]",
      "text/plain": [
       "<Figure size 1200x600 with 1 Axes>"
      ]
     },
     "metadata": {},
     "output_type": "display_data"
    }
   ],
   "source": [
    "# Let's visualize above data\n",
    "fig = plt.figure(figsize=(12,6))\n",
    "\n",
    "ax1 = fig.add_subplot(111)\n",
    "sns.stripplot(x='Airline', y='Price', hue='Date', data=airline_daily_price, ax=ax1, size=6)\n",
    "plt.ylabel(\"Average Flight Prices\")\n",
    "plt.title(\"Airlines Flight Prices compared with Date\")\n",
    "plt.show()"
   ]
  },
  {
   "attachments": {},
   "cell_type": "markdown",
   "metadata": {},
   "source": [
    "#### Above stripplot gives details on cheaper and expensive flight ticket prices for airlines w.r.t. Date of the month. i.e., for \"Vistara\" the flight ticket prices are cheaper on 27th day of the month and expensive on 6th and 24th day of the month."
   ]
  },
  {
   "cell_type": "code",
   "execution_count": 211,
   "metadata": {},
   "outputs": [
    {
     "data": {
      "text/html": [
       "<div>\n",
       "<style scoped>\n",
       "    .dataframe tbody tr th:only-of-type {\n",
       "        vertical-align: middle;\n",
       "    }\n",
       "\n",
       "    .dataframe tbody tr th {\n",
       "        vertical-align: top;\n",
       "    }\n",
       "\n",
       "    .dataframe thead th {\n",
       "        text-align: right;\n",
       "    }\n",
       "</style>\n",
       "<table border=\"1\" class=\"dataframe\">\n",
       "  <thead>\n",
       "    <tr style=\"text-align: right;\">\n",
       "      <th></th>\n",
       "      <th>Airline</th>\n",
       "      <th>Total_Stops</th>\n",
       "      <th>Price</th>\n",
       "    </tr>\n",
       "  </thead>\n",
       "  <tbody>\n",
       "    <tr>\n",
       "      <th>0</th>\n",
       "      <td>SpiceJet</td>\n",
       "      <td>non-stop</td>\n",
       "      <td>3800.04</td>\n",
       "    </tr>\n",
       "    <tr>\n",
       "      <th>1</th>\n",
       "      <td>Trujet</td>\n",
       "      <td>1 stop</td>\n",
       "      <td>4140.00</td>\n",
       "    </tr>\n",
       "    <tr>\n",
       "      <th>2</th>\n",
       "      <td>Air Asia</td>\n",
       "      <td>non-stop</td>\n",
       "      <td>4492.39</td>\n",
       "    </tr>\n",
       "    <tr>\n",
       "      <th>3</th>\n",
       "      <td>IndiGo</td>\n",
       "      <td>non-stop</td>\n",
       "      <td>4714.87</td>\n",
       "    </tr>\n",
       "    <tr>\n",
       "      <th>4</th>\n",
       "      <td>GoAir</td>\n",
       "      <td>non-stop</td>\n",
       "      <td>4726.17</td>\n",
       "    </tr>\n",
       "    <tr>\n",
       "      <th>5</th>\n",
       "      <td>Air India</td>\n",
       "      <td>non-stop</td>\n",
       "      <td>5600.55</td>\n",
       "    </tr>\n",
       "    <tr>\n",
       "      <th>6</th>\n",
       "      <td>Jet Airways</td>\n",
       "      <td>non-stop</td>\n",
       "      <td>6173.38</td>\n",
       "    </tr>\n",
       "    <tr>\n",
       "      <th>7</th>\n",
       "      <td>Vistara</td>\n",
       "      <td>non-stop</td>\n",
       "      <td>6322.57</td>\n",
       "    </tr>\n",
       "    <tr>\n",
       "      <th>8</th>\n",
       "      <td>Air Asia</td>\n",
       "      <td>2 stops</td>\n",
       "      <td>6341.89</td>\n",
       "    </tr>\n",
       "    <tr>\n",
       "      <th>9</th>\n",
       "      <td>SpiceJet</td>\n",
       "      <td>1 stop</td>\n",
       "      <td>6750.56</td>\n",
       "    </tr>\n",
       "    <tr>\n",
       "      <th>10</th>\n",
       "      <td>GoAir</td>\n",
       "      <td>1 stop</td>\n",
       "      <td>6884.68</td>\n",
       "    </tr>\n",
       "    <tr>\n",
       "      <th>11</th>\n",
       "      <td>Air Asia</td>\n",
       "      <td>1 stop</td>\n",
       "      <td>7078.33</td>\n",
       "    </tr>\n",
       "    <tr>\n",
       "      <th>12</th>\n",
       "      <td>IndiGo</td>\n",
       "      <td>1 stop</td>\n",
       "      <td>7104.72</td>\n",
       "    </tr>\n",
       "    <tr>\n",
       "      <th>13</th>\n",
       "      <td>IndiGo</td>\n",
       "      <td>2 stops</td>\n",
       "      <td>7507.53</td>\n",
       "    </tr>\n",
       "    <tr>\n",
       "      <th>14</th>\n",
       "      <td>Air India</td>\n",
       "      <td>1 stop</td>\n",
       "      <td>9041.51</td>\n",
       "    </tr>\n",
       "    <tr>\n",
       "      <th>15</th>\n",
       "      <td>Vistara</td>\n",
       "      <td>1 stop</td>\n",
       "      <td>9641.15</td>\n",
       "    </tr>\n",
       "    <tr>\n",
       "      <th>16</th>\n",
       "      <td>Multiple carriers</td>\n",
       "      <td>1 stop</td>\n",
       "      <td>10719.26</td>\n",
       "    </tr>\n",
       "    <tr>\n",
       "      <th>17</th>\n",
       "      <td>Air India</td>\n",
       "      <td>2 stops</td>\n",
       "      <td>12140.22</td>\n",
       "    </tr>\n",
       "    <tr>\n",
       "      <th>18</th>\n",
       "      <td>Air India</td>\n",
       "      <td>3 stops</td>\n",
       "      <td>12339.06</td>\n",
       "    </tr>\n",
       "    <tr>\n",
       "      <th>19</th>\n",
       "      <td>Jet Airways</td>\n",
       "      <td>1 stop</td>\n",
       "      <td>12592.03</td>\n",
       "    </tr>\n",
       "    <tr>\n",
       "      <th>20</th>\n",
       "      <td>Jet Airways</td>\n",
       "      <td>2 stops</td>\n",
       "      <td>13679.83</td>\n",
       "    </tr>\n",
       "    <tr>\n",
       "      <th>21</th>\n",
       "      <td>Multiple carriers</td>\n",
       "      <td>2 stops</td>\n",
       "      <td>14809.40</td>\n",
       "    </tr>\n",
       "    <tr>\n",
       "      <th>22</th>\n",
       "      <td>Multiple carriers</td>\n",
       "      <td>3 stops</td>\n",
       "      <td>17292.75</td>\n",
       "    </tr>\n",
       "    <tr>\n",
       "      <th>23</th>\n",
       "      <td>Air India</td>\n",
       "      <td>4 stops</td>\n",
       "      <td>17686.00</td>\n",
       "    </tr>\n",
       "  </tbody>\n",
       "</table>\n",
       "</div>"
      ],
      "text/plain": [
       "              Airline Total_Stops     Price\n",
       "0            SpiceJet    non-stop   3800.04\n",
       "1              Trujet      1 stop   4140.00\n",
       "2            Air Asia    non-stop   4492.39\n",
       "3              IndiGo    non-stop   4714.87\n",
       "4               GoAir    non-stop   4726.17\n",
       "5           Air India    non-stop   5600.55\n",
       "6         Jet Airways    non-stop   6173.38\n",
       "7             Vistara    non-stop   6322.57\n",
       "8            Air Asia     2 stops   6341.89\n",
       "9            SpiceJet      1 stop   6750.56\n",
       "10              GoAir      1 stop   6884.68\n",
       "11           Air Asia      1 stop   7078.33\n",
       "12             IndiGo      1 stop   7104.72\n",
       "13             IndiGo     2 stops   7507.53\n",
       "14          Air India      1 stop   9041.51\n",
       "15            Vistara      1 stop   9641.15\n",
       "16  Multiple carriers      1 stop  10719.26\n",
       "17          Air India     2 stops  12140.22\n",
       "18          Air India     3 stops  12339.06\n",
       "19        Jet Airways      1 stop  12592.03\n",
       "20        Jet Airways     2 stops  13679.83\n",
       "21  Multiple carriers     2 stops  14809.40\n",
       "22  Multiple carriers     3 stops  17292.75\n",
       "23          Air India     4 stops  17686.00"
      ]
     },
     "execution_count": 211,
     "metadata": {},
     "output_type": "execute_result"
    }
   ],
   "source": [
    "# Total_Stops\n",
    "total_stops_avg_price = train.groupby(['Airline', 'Total_Stops'])['Price'].mean().round(2).sort_values(ascending=True).reset_index()\n",
    "total_stops_avg_price"
   ]
  },
  {
   "cell_type": "code",
   "execution_count": 212,
   "metadata": {},
   "outputs": [
    {
     "data": {
      "image/png": "[encoded data removed]",
      "text/plain": [
       "<Figure size 1200x600 with 1 Axes>"
      ]
     },
     "metadata": {},
     "output_type": "display_data"
    }
   ],
   "source": [
    "# Let's visualize above data\n",
    "fig = plt.figure(figsize=(12,6))\n",
    "\n",
    "ax1 = fig.add_subplot(111)\n",
    "sns.stripplot(x='Airline', y='Price', hue='Total_Stops', data=total_stops_avg_price, ax=ax1, size=10)\n",
    "plt.ylabel(\"Average Flight Prices\")\n",
    "plt.title(\"Airlines Flight Prices compared with Total Stops\")\n",
    "plt.show()"
   ]
  },
  {
   "attachments": {},
   "cell_type": "markdown",
   "metadata": {},
   "source": [
    "#### From above stripplot we observed that flight ticket prices are cheaper for \"non-stop\" travel and it increases with the no of stops."
   ]
  }
 ],
 "metadata": {
  "kernelspec": {
   "display_name": "machinelearning",
   "language": "python",
   "name": "python3"
  },
  "language_info": {
   "codemirror_mode": {
    "name": "ipython",
    "version": 3
   },
   "file_extension": ".py",
   "mimetype": "text/x-python",
   "name": "python",
   "nbconvert_exporter": "python",
   "pygments_lexer": "ipython3",
   "version": "3.9.15"
  },
  "orig_nbformat": 4
 },
 "nbformat": 4,
 "nbformat_minor": 2
}
