{
 "cells": [
  {
   "attachments": {},
   "cell_type": "markdown",
   "metadata": {},
   "source": [
    "### Flight Price Prediction EDA & Feature Engineering"
   ]
  },
  {
   "cell_type": "code",
   "execution_count": 1,
   "metadata": {},
   "outputs": [],
   "source": [
    "# import required libraries\n",
    "import numpy as np\n",
    "import pandas as pd\n",
    "import matplotlib.pyplot as plt\n",
    "%matplotlib inline\n",
    "import seaborn as sns"
   ]
  },
  {
   "cell_type": "code",
   "execution_count": 2,
   "metadata": {},
   "outputs": [],
   "source": [
    "# read the datasets\n",
    "train = pd.read_excel(\"Data_Train.xlsx\")\n",
    "test = pd.read_excel(\"Test_set.xlsx\")"
   ]
  },
  {
   "cell_type": "code",
   "execution_count": 3,
   "metadata": {},
   "outputs": [
    {
     "data": {
      "text/html": [
       "<div>\n",
       "<style scoped>\n",
       "    .dataframe tbody tr th:only-of-type {\n",
       "        vertical-align: middle;\n",
       "    }\n",
       "\n",
       "    .dataframe tbody tr th {\n",
       "        vertical-align: top;\n",
       "    }\n",
       "\n",
       "    .dataframe thead th {\n",
       "        text-align: right;\n",
       "    }\n",
       "</style>\n",
       "<table border=\"1\" class=\"dataframe\">\n",
       "  <thead>\n",
       "    <tr style=\"text-align: right;\">\n",
       "      <th></th>\n",
       "      <th>Airline</th>\n",
       "      <th>Date_of_Journey</th>\n",
       "      <th>Source</th>\n",
       "      <th>Destination</th>\n",
       "      <th>Route</th>\n",
       "      <th>Dep_Time</th>\n",
       "      <th>Arrival_Time</th>\n",
       "      <th>Duration</th>\n",
       "      <th>Total_Stops</th>\n",
       "      <th>Additional_Info</th>\n",
       "      <th>Price</th>\n",
       "    </tr>\n",
       "  </thead>\n",
       "  <tbody>\n",
       "    <tr>\n",
       "      <th>0</th>\n",
       "      <td>IndiGo</td>\n",
       "      <td>24/03/2019</td>\n",
       "      <td>Banglore</td>\n",
       "      <td>New Delhi</td>\n",
       "      <td>BLR → DEL</td>\n",
       "      <td>22:20</td>\n",
       "      <td>01:10 22 Mar</td>\n",
       "      <td>2h 50m</td>\n",
       "      <td>non-stop</td>\n",
       "      <td>No info</td>\n",
       "      <td>3897</td>\n",
       "    </tr>\n",
       "    <tr>\n",
       "      <th>1</th>\n",
       "      <td>Air India</td>\n",
       "      <td>1/05/2019</td>\n",
       "      <td>Kolkata</td>\n",
       "      <td>Banglore</td>\n",
       "      <td>CCU → IXR → BBI → BLR</td>\n",
       "      <td>05:50</td>\n",
       "      <td>13:15</td>\n",
       "      <td>7h 25m</td>\n",
       "      <td>2 stops</td>\n",
       "      <td>No info</td>\n",
       "      <td>7662</td>\n",
       "    </tr>\n",
       "    <tr>\n",
       "      <th>2</th>\n",
       "      <td>Jet Airways</td>\n",
       "      <td>9/06/2019</td>\n",
       "      <td>Delhi</td>\n",
       "      <td>Cochin</td>\n",
       "      <td>DEL → LKO → BOM → COK</td>\n",
       "      <td>09:25</td>\n",
       "      <td>04:25 10 Jun</td>\n",
       "      <td>19h</td>\n",
       "      <td>2 stops</td>\n",
       "      <td>No info</td>\n",
       "      <td>13882</td>\n",
       "    </tr>\n",
       "    <tr>\n",
       "      <th>3</th>\n",
       "      <td>IndiGo</td>\n",
       "      <td>12/05/2019</td>\n",
       "      <td>Kolkata</td>\n",
       "      <td>Banglore</td>\n",
       "      <td>CCU → NAG → BLR</td>\n",
       "      <td>18:05</td>\n",
       "      <td>23:30</td>\n",
       "      <td>5h 25m</td>\n",
       "      <td>1 stop</td>\n",
       "      <td>No info</td>\n",
       "      <td>6218</td>\n",
       "    </tr>\n",
       "    <tr>\n",
       "      <th>4</th>\n",
       "      <td>IndiGo</td>\n",
       "      <td>01/03/2019</td>\n",
       "      <td>Banglore</td>\n",
       "      <td>New Delhi</td>\n",
       "      <td>BLR → NAG → DEL</td>\n",
       "      <td>16:50</td>\n",
       "      <td>21:35</td>\n",
       "      <td>4h 45m</td>\n",
       "      <td>1 stop</td>\n",
       "      <td>No info</td>\n",
       "      <td>13302</td>\n",
       "    </tr>\n",
       "  </tbody>\n",
       "</table>\n",
       "</div>"
      ],
      "text/plain": [
       "       Airline Date_of_Journey    Source Destination                  Route  \\\n",
       "0       IndiGo      24/03/2019  Banglore   New Delhi              BLR → DEL   \n",
       "1    Air India       1/05/2019   Kolkata    Banglore  CCU → IXR → BBI → BLR   \n",
       "2  Jet Airways       9/06/2019     Delhi      Cochin  DEL → LKO → BOM → COK   \n",
       "3       IndiGo      12/05/2019   Kolkata    Banglore        CCU → NAG → BLR   \n",
       "4       IndiGo      01/03/2019  Banglore   New Delhi        BLR → NAG → DEL   \n",
       "\n",
       "  Dep_Time  Arrival_Time Duration Total_Stops Additional_Info  Price  \n",
       "0    22:20  01:10 22 Mar   2h 50m    non-stop         No info   3897  \n",
       "1    05:50         13:15   7h 25m     2 stops         No info   7662  \n",
       "2    09:25  04:25 10 Jun      19h     2 stops         No info  13882  \n",
       "3    18:05         23:30   5h 25m      1 stop         No info   6218  \n",
       "4    16:50         21:35   4h 45m      1 stop         No info  13302  "
      ]
     },
     "execution_count": 3,
     "metadata": {},
     "output_type": "execute_result"
    }
   ],
   "source": [
    "# let's take a look at our datasets\n",
    "train.head()"
   ]
  },
  {
   "cell_type": "code",
   "execution_count": 4,
   "metadata": {},
   "outputs": [
    {
     "data": {
      "text/html": [
       "<div>\n",
       "<style scoped>\n",
       "    .dataframe tbody tr th:only-of-type {\n",
       "        vertical-align: middle;\n",
       "    }\n",
       "\n",
       "    .dataframe tbody tr th {\n",
       "        vertical-align: top;\n",
       "    }\n",
       "\n",
       "    .dataframe thead th {\n",
       "        text-align: right;\n",
       "    }\n",
       "</style>\n",
       "<table border=\"1\" class=\"dataframe\">\n",
       "  <thead>\n",
       "    <tr style=\"text-align: right;\">\n",
       "      <th></th>\n",
       "      <th>Airline</th>\n",
       "      <th>Date_of_Journey</th>\n",
       "      <th>Source</th>\n",
       "      <th>Destination</th>\n",
       "      <th>Route</th>\n",
       "      <th>Dep_Time</th>\n",
       "      <th>Arrival_Time</th>\n",
       "      <th>Duration</th>\n",
       "      <th>Total_Stops</th>\n",
       "      <th>Additional_Info</th>\n",
       "    </tr>\n",
       "  </thead>\n",
       "  <tbody>\n",
       "    <tr>\n",
       "      <th>0</th>\n",
       "      <td>Jet Airways</td>\n",
       "      <td>6/06/2019</td>\n",
       "      <td>Delhi</td>\n",
       "      <td>Cochin</td>\n",
       "      <td>DEL → BOM → COK</td>\n",
       "      <td>17:30</td>\n",
       "      <td>04:25 07 Jun</td>\n",
       "      <td>10h 55m</td>\n",
       "      <td>1 stop</td>\n",
       "      <td>No info</td>\n",
       "    </tr>\n",
       "    <tr>\n",
       "      <th>1</th>\n",
       "      <td>IndiGo</td>\n",
       "      <td>12/05/2019</td>\n",
       "      <td>Kolkata</td>\n",
       "      <td>Banglore</td>\n",
       "      <td>CCU → MAA → BLR</td>\n",
       "      <td>06:20</td>\n",
       "      <td>10:20</td>\n",
       "      <td>4h</td>\n",
       "      <td>1 stop</td>\n",
       "      <td>No info</td>\n",
       "    </tr>\n",
       "    <tr>\n",
       "      <th>2</th>\n",
       "      <td>Jet Airways</td>\n",
       "      <td>21/05/2019</td>\n",
       "      <td>Delhi</td>\n",
       "      <td>Cochin</td>\n",
       "      <td>DEL → BOM → COK</td>\n",
       "      <td>19:15</td>\n",
       "      <td>19:00 22 May</td>\n",
       "      <td>23h 45m</td>\n",
       "      <td>1 stop</td>\n",
       "      <td>In-flight meal not included</td>\n",
       "    </tr>\n",
       "    <tr>\n",
       "      <th>3</th>\n",
       "      <td>Multiple carriers</td>\n",
       "      <td>21/05/2019</td>\n",
       "      <td>Delhi</td>\n",
       "      <td>Cochin</td>\n",
       "      <td>DEL → BOM → COK</td>\n",
       "      <td>08:00</td>\n",
       "      <td>21:00</td>\n",
       "      <td>13h</td>\n",
       "      <td>1 stop</td>\n",
       "      <td>No info</td>\n",
       "    </tr>\n",
       "    <tr>\n",
       "      <th>4</th>\n",
       "      <td>Air Asia</td>\n",
       "      <td>24/06/2019</td>\n",
       "      <td>Banglore</td>\n",
       "      <td>Delhi</td>\n",
       "      <td>BLR → DEL</td>\n",
       "      <td>23:55</td>\n",
       "      <td>02:45 25 Jun</td>\n",
       "      <td>2h 50m</td>\n",
       "      <td>non-stop</td>\n",
       "      <td>No info</td>\n",
       "    </tr>\n",
       "  </tbody>\n",
       "</table>\n",
       "</div>"
      ],
      "text/plain": [
       "             Airline Date_of_Journey    Source Destination            Route  \\\n",
       "0        Jet Airways       6/06/2019     Delhi      Cochin  DEL → BOM → COK   \n",
       "1             IndiGo      12/05/2019   Kolkata    Banglore  CCU → MAA → BLR   \n",
       "2        Jet Airways      21/05/2019     Delhi      Cochin  DEL → BOM → COK   \n",
       "3  Multiple carriers      21/05/2019     Delhi      Cochin  DEL → BOM → COK   \n",
       "4           Air Asia      24/06/2019  Banglore       Delhi        BLR → DEL   \n",
       "\n",
       "  Dep_Time  Arrival_Time Duration Total_Stops              Additional_Info  \n",
       "0    17:30  04:25 07 Jun  10h 55m      1 stop                      No info  \n",
       "1    06:20         10:20       4h      1 stop                      No info  \n",
       "2    19:15  19:00 22 May  23h 45m      1 stop  In-flight meal not included  \n",
       "3    08:00         21:00      13h      1 stop                      No info  \n",
       "4    23:55  02:45 25 Jun   2h 50m    non-stop                      No info  "
      ]
     },
     "execution_count": 4,
     "metadata": {},
     "output_type": "execute_result"
    }
   ],
   "source": [
    "test.head()"
   ]
  },
  {
   "cell_type": "code",
   "execution_count": 5,
   "metadata": {},
   "outputs": [
    {
     "name": "stdout",
     "output_type": "stream",
     "text": [
      "Train Data: (10683, 11)\n",
      "Test Data: (2671, 10)\n"
     ]
    }
   ],
   "source": [
    "# check the dimensions of the datasets\n",
    "print(\"Train Data:\", train.shape)\n",
    "print(\"Test Data:\", test.shape)"
   ]
  },
  {
   "cell_type": "code",
   "execution_count": 6,
   "metadata": {},
   "outputs": [
    {
     "data": {
      "text/plain": [
       "Airline            object\n",
       "Date_of_Journey    object\n",
       "Source             object\n",
       "Destination        object\n",
       "Route              object\n",
       "Dep_Time           object\n",
       "Arrival_Time       object\n",
       "Duration           object\n",
       "Total_Stops        object\n",
       "Additional_Info    object\n",
       "Price               int64\n",
       "dtype: object"
      ]
     },
     "execution_count": 6,
     "metadata": {},
     "output_type": "execute_result"
    }
   ],
   "source": [
    "# check the datatypes\n",
    "train.dtypes"
   ]
  },
  {
   "cell_type": "code",
   "execution_count": 7,
   "metadata": {},
   "outputs": [
    {
     "data": {
      "text/plain": [
       "Airline            object\n",
       "Date_of_Journey    object\n",
       "Source             object\n",
       "Destination        object\n",
       "Route              object\n",
       "Dep_Time           object\n",
       "Arrival_Time       object\n",
       "Duration           object\n",
       "Total_Stops        object\n",
       "Additional_Info    object\n",
       "dtype: object"
      ]
     },
     "execution_count": 7,
     "metadata": {},
     "output_type": "execute_result"
    }
   ],
   "source": [
    "test.dtypes"
   ]
  },
  {
   "cell_type": "code",
   "execution_count": 8,
   "metadata": {},
   "outputs": [
    {
     "data": {
      "text/html": [
       "<div>\n",
       "<style scoped>\n",
       "    .dataframe tbody tr th:only-of-type {\n",
       "        vertical-align: middle;\n",
       "    }\n",
       "\n",
       "    .dataframe tbody tr th {\n",
       "        vertical-align: top;\n",
       "    }\n",
       "\n",
       "    .dataframe thead th {\n",
       "        text-align: right;\n",
       "    }\n",
       "</style>\n",
       "<table border=\"1\" class=\"dataframe\">\n",
       "  <thead>\n",
       "    <tr style=\"text-align: right;\">\n",
       "      <th></th>\n",
       "      <th>count</th>\n",
       "      <th>unique</th>\n",
       "      <th>top</th>\n",
       "      <th>freq</th>\n",
       "      <th>mean</th>\n",
       "      <th>std</th>\n",
       "      <th>min</th>\n",
       "      <th>25%</th>\n",
       "      <th>50%</th>\n",
       "      <th>75%</th>\n",
       "      <th>max</th>\n",
       "    </tr>\n",
       "  </thead>\n",
       "  <tbody>\n",
       "    <tr>\n",
       "      <th>Airline</th>\n",
       "      <td>10683</td>\n",
       "      <td>12</td>\n",
       "      <td>Jet Airways</td>\n",
       "      <td>3849</td>\n",
       "      <td>NaN</td>\n",
       "      <td>NaN</td>\n",
       "      <td>NaN</td>\n",
       "      <td>NaN</td>\n",
       "      <td>NaN</td>\n",
       "      <td>NaN</td>\n",
       "      <td>NaN</td>\n",
       "    </tr>\n",
       "    <tr>\n",
       "      <th>Date_of_Journey</th>\n",
       "      <td>10683</td>\n",
       "      <td>44</td>\n",
       "      <td>18/05/2019</td>\n",
       "      <td>504</td>\n",
       "      <td>NaN</td>\n",
       "      <td>NaN</td>\n",
       "      <td>NaN</td>\n",
       "      <td>NaN</td>\n",
       "      <td>NaN</td>\n",
       "      <td>NaN</td>\n",
       "      <td>NaN</td>\n",
       "    </tr>\n",
       "    <tr>\n",
       "      <th>Source</th>\n",
       "      <td>10683</td>\n",
       "      <td>5</td>\n",
       "      <td>Delhi</td>\n",
       "      <td>4537</td>\n",
       "      <td>NaN</td>\n",
       "      <td>NaN</td>\n",
       "      <td>NaN</td>\n",
       "      <td>NaN</td>\n",
       "      <td>NaN</td>\n",
       "      <td>NaN</td>\n",
       "      <td>NaN</td>\n",
       "    </tr>\n",
       "    <tr>\n",
       "      <th>Destination</th>\n",
       "      <td>10683</td>\n",
       "      <td>6</td>\n",
       "      <td>Cochin</td>\n",
       "      <td>4537</td>\n",
       "      <td>NaN</td>\n",
       "      <td>NaN</td>\n",
       "      <td>NaN</td>\n",
       "      <td>NaN</td>\n",
       "      <td>NaN</td>\n",
       "      <td>NaN</td>\n",
       "      <td>NaN</td>\n",
       "    </tr>\n",
       "    <tr>\n",
       "      <th>Route</th>\n",
       "      <td>10682</td>\n",
       "      <td>128</td>\n",
       "      <td>DEL → BOM → COK</td>\n",
       "      <td>2376</td>\n",
       "      <td>NaN</td>\n",
       "      <td>NaN</td>\n",
       "      <td>NaN</td>\n",
       "      <td>NaN</td>\n",
       "      <td>NaN</td>\n",
       "      <td>NaN</td>\n",
       "      <td>NaN</td>\n",
       "    </tr>\n",
       "    <tr>\n",
       "      <th>Dep_Time</th>\n",
       "      <td>10683</td>\n",
       "      <td>222</td>\n",
       "      <td>18:55</td>\n",
       "      <td>233</td>\n",
       "      <td>NaN</td>\n",
       "      <td>NaN</td>\n",
       "      <td>NaN</td>\n",
       "      <td>NaN</td>\n",
       "      <td>NaN</td>\n",
       "      <td>NaN</td>\n",
       "      <td>NaN</td>\n",
       "    </tr>\n",
       "    <tr>\n",
       "      <th>Arrival_Time</th>\n",
       "      <td>10683</td>\n",
       "      <td>1343</td>\n",
       "      <td>19:00</td>\n",
       "      <td>423</td>\n",
       "      <td>NaN</td>\n",
       "      <td>NaN</td>\n",
       "      <td>NaN</td>\n",
       "      <td>NaN</td>\n",
       "      <td>NaN</td>\n",
       "      <td>NaN</td>\n",
       "      <td>NaN</td>\n",
       "    </tr>\n",
       "    <tr>\n",
       "      <th>Duration</th>\n",
       "      <td>10683</td>\n",
       "      <td>368</td>\n",
       "      <td>2h 50m</td>\n",
       "      <td>550</td>\n",
       "      <td>NaN</td>\n",
       "      <td>NaN</td>\n",
       "      <td>NaN</td>\n",
       "      <td>NaN</td>\n",
       "      <td>NaN</td>\n",
       "      <td>NaN</td>\n",
       "      <td>NaN</td>\n",
       "    </tr>\n",
       "    <tr>\n",
       "      <th>Total_Stops</th>\n",
       "      <td>10682</td>\n",
       "      <td>5</td>\n",
       "      <td>1 stop</td>\n",
       "      <td>5625</td>\n",
       "      <td>NaN</td>\n",
       "      <td>NaN</td>\n",
       "      <td>NaN</td>\n",
       "      <td>NaN</td>\n",
       "      <td>NaN</td>\n",
       "      <td>NaN</td>\n",
       "      <td>NaN</td>\n",
       "    </tr>\n",
       "    <tr>\n",
       "      <th>Additional_Info</th>\n",
       "      <td>10683</td>\n",
       "      <td>10</td>\n",
       "      <td>No info</td>\n",
       "      <td>8345</td>\n",
       "      <td>NaN</td>\n",
       "      <td>NaN</td>\n",
       "      <td>NaN</td>\n",
       "      <td>NaN</td>\n",
       "      <td>NaN</td>\n",
       "      <td>NaN</td>\n",
       "      <td>NaN</td>\n",
       "    </tr>\n",
       "    <tr>\n",
       "      <th>Price</th>\n",
       "      <td>10683.0</td>\n",
       "      <td>NaN</td>\n",
       "      <td>NaN</td>\n",
       "      <td>NaN</td>\n",
       "      <td>9087.064121</td>\n",
       "      <td>4611.359167</td>\n",
       "      <td>1759.0</td>\n",
       "      <td>5277.0</td>\n",
       "      <td>8372.0</td>\n",
       "      <td>12373.0</td>\n",
       "      <td>79512.0</td>\n",
       "    </tr>\n",
       "  </tbody>\n",
       "</table>\n",
       "</div>"
      ],
      "text/plain": [
       "                   count unique              top  freq         mean  \\\n",
       "Airline            10683     12      Jet Airways  3849          NaN   \n",
       "Date_of_Journey    10683     44       18/05/2019   504          NaN   \n",
       "Source             10683      5            Delhi  4537          NaN   \n",
       "Destination        10683      6           Cochin  4537          NaN   \n",
       "Route              10682    128  DEL → BOM → COK  2376          NaN   \n",
       "Dep_Time           10683    222            18:55   233          NaN   \n",
       "Arrival_Time       10683   1343            19:00   423          NaN   \n",
       "Duration           10683    368           2h 50m   550          NaN   \n",
       "Total_Stops        10682      5           1 stop  5625          NaN   \n",
       "Additional_Info    10683     10          No info  8345          NaN   \n",
       "Price            10683.0    NaN              NaN   NaN  9087.064121   \n",
       "\n",
       "                         std     min     25%     50%      75%      max  \n",
       "Airline                  NaN     NaN     NaN     NaN      NaN      NaN  \n",
       "Date_of_Journey          NaN     NaN     NaN     NaN      NaN      NaN  \n",
       "Source                   NaN     NaN     NaN     NaN      NaN      NaN  \n",
       "Destination              NaN     NaN     NaN     NaN      NaN      NaN  \n",
       "Route                    NaN     NaN     NaN     NaN      NaN      NaN  \n",
       "Dep_Time                 NaN     NaN     NaN     NaN      NaN      NaN  \n",
       "Arrival_Time             NaN     NaN     NaN     NaN      NaN      NaN  \n",
       "Duration                 NaN     NaN     NaN     NaN      NaN      NaN  \n",
       "Total_Stops              NaN     NaN     NaN     NaN      NaN      NaN  \n",
       "Additional_Info          NaN     NaN     NaN     NaN      NaN      NaN  \n",
       "Price            4611.359167  1759.0  5277.0  8372.0  12373.0  79512.0  "
      ]
     },
     "execution_count": 8,
     "metadata": {},
     "output_type": "execute_result"
    }
   ],
   "source": [
    "# Descriptive Statistics\n",
    "train.describe(include='all').transpose()"
   ]
  },
  {
   "cell_type": "code",
   "execution_count": 9,
   "metadata": {},
   "outputs": [
    {
     "name": "stdout",
     "output_type": "stream",
     "text": [
      "<class 'pandas.core.frame.DataFrame'>\n",
      "RangeIndex: 10683 entries, 0 to 10682\n",
      "Data columns (total 11 columns):\n",
      " #   Column           Non-Null Count  Dtype \n",
      "---  ------           --------------  ----- \n",
      " 0   Airline          10683 non-null  object\n",
      " 1   Date_of_Journey  10683 non-null  object\n",
      " 2   Source           10683 non-null  object\n",
      " 3   Destination      10683 non-null  object\n",
      " 4   Route            10682 non-null  object\n",
      " 5   Dep_Time         10683 non-null  object\n",
      " 6   Arrival_Time     10683 non-null  object\n",
      " 7   Duration         10683 non-null  object\n",
      " 8   Total_Stops      10682 non-null  object\n",
      " 9   Additional_Info  10683 non-null  object\n",
      " 10  Price            10683 non-null  int64 \n",
      "dtypes: int64(1), object(10)\n",
      "memory usage: 918.2+ KB\n"
     ]
    }
   ],
   "source": [
    "# Concise Summary \n",
    "train.info()"
   ]
  },
  {
   "cell_type": "code",
   "execution_count": 10,
   "metadata": {},
   "outputs": [
    {
     "name": "stdout",
     "output_type": "stream",
     "text": [
      "<class 'pandas.core.frame.DataFrame'>\n",
      "RangeIndex: 2671 entries, 0 to 2670\n",
      "Data columns (total 10 columns):\n",
      " #   Column           Non-Null Count  Dtype \n",
      "---  ------           --------------  ----- \n",
      " 0   Airline          2671 non-null   object\n",
      " 1   Date_of_Journey  2671 non-null   object\n",
      " 2   Source           2671 non-null   object\n",
      " 3   Destination      2671 non-null   object\n",
      " 4   Route            2671 non-null   object\n",
      " 5   Dep_Time         2671 non-null   object\n",
      " 6   Arrival_Time     2671 non-null   object\n",
      " 7   Duration         2671 non-null   object\n",
      " 8   Total_Stops      2671 non-null   object\n",
      " 9   Additional_Info  2671 non-null   object\n",
      "dtypes: object(10)\n",
      "memory usage: 208.8+ KB\n"
     ]
    }
   ],
   "source": [
    "test.info()"
   ]
  },
  {
   "cell_type": "code",
   "execution_count": 11,
   "metadata": {},
   "outputs": [
    {
     "data": {
      "text/plain": [
       "Airline            0\n",
       "Date_of_Journey    0\n",
       "Source             0\n",
       "Destination        0\n",
       "Route              1\n",
       "Dep_Time           0\n",
       "Arrival_Time       0\n",
       "Duration           0\n",
       "Total_Stops        1\n",
       "Additional_Info    0\n",
       "Price              0\n",
       "dtype: int64"
      ]
     },
     "execution_count": 11,
     "metadata": {},
     "output_type": "execute_result"
    }
   ],
   "source": [
    "# check for null/missing data\n",
    "train.isnull().sum()"
   ]
  },
  {
   "cell_type": "code",
   "execution_count": 12,
   "metadata": {},
   "outputs": [
    {
     "data": {
      "text/plain": [
       "Airline            0\n",
       "Date_of_Journey    0\n",
       "Source             0\n",
       "Destination        0\n",
       "Route              0\n",
       "Dep_Time           0\n",
       "Arrival_Time       0\n",
       "Duration           0\n",
       "Total_Stops        0\n",
       "Additional_Info    0\n",
       "dtype: int64"
      ]
     },
     "execution_count": 12,
     "metadata": {},
     "output_type": "execute_result"
    }
   ],
   "source": [
    "test.isnull().sum()"
   ]
  },
  {
   "attachments": {},
   "cell_type": "markdown",
   "metadata": {},
   "source": [
    "As you can see that there are 1 missing values in \"Route\" and \"Total_Stops\". After carefully observing the data we decided to fill the missing values as follows:"
   ]
  },
  {
   "cell_type": "code",
   "execution_count": 13,
   "metadata": {},
   "outputs": [],
   "source": [
    "# imputing the missing values\n",
    "train['Route'] = train['Route'].fillna(\"DEL → AMD → BOM → COK\")\n",
    "train['Total_Stops'] = train['Total_Stops'].fillna(\"2 stops\")"
   ]
  },
  {
   "cell_type": "code",
   "execution_count": 14,
   "metadata": {},
   "outputs": [],
   "source": [
    "# Date of Journey\n",
    "train[\"Date\"] = train['Date_of_Journey'].apply(lambda x:x.split(\"/\")[0])\n",
    "train[\"Month\"] = train['Date_of_Journey'].apply(lambda x:x.split(\"/\")[1])\n",
    "train[\"Year\"] = train['Date_of_Journey'].apply(lambda x:x.split(\"/\")[2])\n",
    "\n",
    "# Drop the column\n",
    "train = train.drop(['Date_of_Journey'], axis=1)\n",
    "\n",
    "# change the datatype\n",
    "train['Date'] = train['Date'].astype('int')\n",
    "train['Month'] = train['Month'].astype('int')\n",
    "train['Year'] = train['Year'].astype('int')\n"
   ]
  },
  {
   "cell_type": "code",
   "execution_count": 15,
   "metadata": {},
   "outputs": [],
   "source": [
    "# Dep_Time\n",
    "train['Dep_Hour'] = train['Dep_Time'].apply(lambda x:x.split(\":\")[0])\n",
    "train['Dep_Min'] = train['Dep_Time'].apply(lambda x:x.split(\":\")[1])\n",
    "\n",
    "# Drop the column\n",
    "train = train.drop(['Dep_Time'],axis=1)\n",
    "\n",
    "# change the datatype\n",
    "train['Dep_Hour'] = train['Dep_Hour'].astype('int')\n",
    "train['Dep_Min'] = train['Dep_Min'].astype('int')"
   ]
  },
  {
   "cell_type": "code",
   "execution_count": 16,
   "metadata": {},
   "outputs": [],
   "source": [
    "# Arrival_Time\n",
    "train['Arrival_Time'] = train['Arrival_Time'].apply(lambda x:x.split(\" \")[0])\n",
    "train['Arrival_Hour'] = train['Arrival_Time'].apply(lambda x:x.split(\":\")[0])\n",
    "train['Arrival_Min'] = train['Arrival_Time'].apply(lambda x:x.split(\":\")[1])\n",
    "\n",
    "# Drop the Column\n",
    "train = train.drop(['Arrival_Time'],axis=1)\n",
    "\n",
    "# change the datatype\n",
    "train['Arrival_Hour'] = train['Arrival_Hour'].astype('int')\n",
    "train['Arrival_Min'] = train['Arrival_Min'].astype('int')"
   ]
  },
  {
   "cell_type": "code",
   "execution_count": 17,
   "metadata": {},
   "outputs": [],
   "source": [
    "# Duration\n",
    "train['Duration_Hour']=train['Duration'].str.split(' ').str[0].str.split('h').str[0]\n",
    "train['Duration_Min']=train['Duration'].str.split(' ').str[1].str.split('m').str[0]\n",
    "\n",
    "# replace incorrect values\n",
    "train['Duration_Hour'] = train['Duration_Hour'].replace('5m','0')\n",
    "train['Duration_Min'] = train['Duration_Min'].fillna('0')\n",
    "\n",
    "# drop the column\n",
    "train = train.drop(['Duration'],axis=1)\n",
    "\n",
    "# change the datatype\n",
    "train['Duration_Hour'] = train['Duration_Hour'].astype('int')\n",
    "train['Duration_Min'] = train['Duration_Min'].astype('int')"
   ]
  },
  {
   "attachments": {},
   "cell_type": "markdown",
   "metadata": {},
   "source": [
    "Now for our analysis we will convert \"Duration_Hour\" into minutes and then add it to \"Duration_Min\" to get total minutes and then we will convert it into Duration in hour for ease of analysis."
   ]
  },
  {
   "cell_type": "code",
   "execution_count": 18,
   "metadata": {},
   "outputs": [],
   "source": [
    "# convert it into minutes\n",
    "train['Duration_Hour'] = train['Duration_Hour']*60\n",
    "\n",
    "# add columns to get total minutes\n",
    "train['Total_Travel_Time_Hour'] = train['Duration_Hour'] + train['Duration_Min']\n",
    "\n",
    "# convert it into hours\n",
    "train['Total_Travel_Time_Hour'] = round(train['Total_Travel_Time_Hour']/60,3)\n",
    "\n",
    "# drop the unnecessary columns\n",
    "train = train.drop(['Duration_Hour', 'Duration_Min'], axis=1)"
   ]
  },
  {
   "cell_type": "code",
   "execution_count": 19,
   "metadata": {},
   "outputs": [
    {
     "data": {
      "text/plain": [
       "Cochin       4537\n",
       "Banglore     2871\n",
       "Delhi        1265\n",
       "New Delhi     932\n",
       "Hyderabad     697\n",
       "Kolkata       381\n",
       "Name: Destination, dtype: int64"
      ]
     },
     "execution_count": 19,
     "metadata": {},
     "output_type": "execute_result"
    }
   ],
   "source": [
    "# Destination\n",
    "train['Destination'].value_counts()"
   ]
  },
  {
   "attachments": {},
   "cell_type": "markdown",
   "metadata": {},
   "source": [
    "here we will replace \"New Delhi\" with \"Delhi\""
   ]
  },
  {
   "cell_type": "code",
   "execution_count": 20,
   "metadata": {},
   "outputs": [],
   "source": [
    "# replacing the values\n",
    "train['Destination'] = train['Destination'].replace('New Delhi', 'Delhi')"
   ]
  },
  {
   "cell_type": "code",
   "execution_count": 21,
   "metadata": {},
   "outputs": [
    {
     "data": {
      "text/plain": [
       "2019    10683\n",
       "Name: Year, dtype: int64"
      ]
     },
     "execution_count": 21,
     "metadata": {},
     "output_type": "execute_result"
    }
   ],
   "source": [
    "# Year\n",
    "train['Year'].value_counts()"
   ]
  },
  {
   "attachments": {},
   "cell_type": "markdown",
   "metadata": {},
   "source": [
    "Since there is only single type of record for Year column i.e., Year column has only value --> \"2019\" so it is not of much use for further analysis. We will drop the \"Year\" column."
   ]
  },
  {
   "cell_type": "code",
   "execution_count": 22,
   "metadata": {},
   "outputs": [],
   "source": [
    "# drop column \"Year\"\n",
    "train = train.drop(['Year'], axis=1)"
   ]
  },
  {
   "cell_type": "code",
   "execution_count": 23,
   "metadata": {},
   "outputs": [
    {
     "data": {
      "text/plain": [
       "Airline                    object\n",
       "Source                     object\n",
       "Destination                object\n",
       "Route                      object\n",
       "Total_Stops                object\n",
       "Additional_Info            object\n",
       "Price                       int64\n",
       "Date                        int32\n",
       "Month                       int32\n",
       "Dep_Hour                    int32\n",
       "Dep_Min                     int32\n",
       "Arrival_Hour                int32\n",
       "Arrival_Min                 int32\n",
       "Total_Travel_Time_Hour    float64\n",
       "dtype: object"
      ]
     },
     "execution_count": 23,
     "metadata": {},
     "output_type": "execute_result"
    }
   ],
   "source": [
    "# check datatypes\n",
    "train.dtypes"
   ]
  },
  {
   "cell_type": "code",
   "execution_count": 24,
   "metadata": {},
   "outputs": [
    {
     "data": {
      "text/plain": [
       "Airline                   0\n",
       "Source                    0\n",
       "Destination               0\n",
       "Route                     0\n",
       "Total_Stops               0\n",
       "Additional_Info           0\n",
       "Price                     0\n",
       "Date                      0\n",
       "Month                     0\n",
       "Dep_Hour                  0\n",
       "Dep_Min                   0\n",
       "Arrival_Hour              0\n",
       "Arrival_Min               0\n",
       "Total_Travel_Time_Hour    0\n",
       "dtype: int64"
      ]
     },
     "execution_count": 24,
     "metadata": {},
     "output_type": "execute_result"
    }
   ],
   "source": [
    "# check for missing values\n",
    "train.isnull().sum()"
   ]
  },
  {
   "cell_type": "code",
   "execution_count": 25,
   "metadata": {},
   "outputs": [
    {
     "data": {
      "text/plain": [
       "222"
      ]
     },
     "execution_count": 25,
     "metadata": {},
     "output_type": "execute_result"
    }
   ],
   "source": [
    "# check for duplicated records\n",
    "train.duplicated().sum()"
   ]
  },
  {
   "cell_type": "code",
   "execution_count": 26,
   "metadata": {},
   "outputs": [],
   "source": [
    "# drop duplicated records\n",
    "train = train.drop_duplicates()"
   ]
  },
  {
   "cell_type": "code",
   "execution_count": 27,
   "metadata": {},
   "outputs": [
    {
     "data": {
      "text/plain": [
       "0"
      ]
     },
     "execution_count": 27,
     "metadata": {},
     "output_type": "execute_result"
    }
   ],
   "source": [
    "# check for duplicated records\n",
    "train.duplicated().sum()"
   ]
  },
  {
   "cell_type": "code",
   "execution_count": 28,
   "metadata": {},
   "outputs": [
    {
     "data": {
      "text/html": [
       "<div>\n",
       "<style scoped>\n",
       "    .dataframe tbody tr th:only-of-type {\n",
       "        vertical-align: middle;\n",
       "    }\n",
       "\n",
       "    .dataframe tbody tr th {\n",
       "        vertical-align: top;\n",
       "    }\n",
       "\n",
       "    .dataframe thead th {\n",
       "        text-align: right;\n",
       "    }\n",
       "</style>\n",
       "<table border=\"1\" class=\"dataframe\">\n",
       "  <thead>\n",
       "    <tr style=\"text-align: right;\">\n",
       "      <th></th>\n",
       "      <th>Airline</th>\n",
       "      <th>Source</th>\n",
       "      <th>Destination</th>\n",
       "      <th>Route</th>\n",
       "      <th>Total_Stops</th>\n",
       "      <th>Additional_Info</th>\n",
       "      <th>Price</th>\n",
       "      <th>Date</th>\n",
       "      <th>Month</th>\n",
       "      <th>Dep_Hour</th>\n",
       "      <th>Dep_Min</th>\n",
       "      <th>Arrival_Hour</th>\n",
       "      <th>Arrival_Min</th>\n",
       "      <th>Total_Travel_Time_Hour</th>\n",
       "    </tr>\n",
       "  </thead>\n",
       "  <tbody>\n",
       "    <tr>\n",
       "      <th>0</th>\n",
       "      <td>IndiGo</td>\n",
       "      <td>Banglore</td>\n",
       "      <td>Delhi</td>\n",
       "      <td>BLR → DEL</td>\n",
       "      <td>non-stop</td>\n",
       "      <td>No info</td>\n",
       "      <td>3897</td>\n",
       "      <td>24</td>\n",
       "      <td>3</td>\n",
       "      <td>22</td>\n",
       "      <td>20</td>\n",
       "      <td>1</td>\n",
       "      <td>10</td>\n",
       "      <td>2.833</td>\n",
       "    </tr>\n",
       "    <tr>\n",
       "      <th>1</th>\n",
       "      <td>Air India</td>\n",
       "      <td>Kolkata</td>\n",
       "      <td>Banglore</td>\n",
       "      <td>CCU → IXR → BBI → BLR</td>\n",
       "      <td>2 stops</td>\n",
       "      <td>No info</td>\n",
       "      <td>7662</td>\n",
       "      <td>1</td>\n",
       "      <td>5</td>\n",
       "      <td>5</td>\n",
       "      <td>50</td>\n",
       "      <td>13</td>\n",
       "      <td>15</td>\n",
       "      <td>7.417</td>\n",
       "    </tr>\n",
       "    <tr>\n",
       "      <th>2</th>\n",
       "      <td>Jet Airways</td>\n",
       "      <td>Delhi</td>\n",
       "      <td>Cochin</td>\n",
       "      <td>DEL → LKO → BOM → COK</td>\n",
       "      <td>2 stops</td>\n",
       "      <td>No info</td>\n",
       "      <td>13882</td>\n",
       "      <td>9</td>\n",
       "      <td>6</td>\n",
       "      <td>9</td>\n",
       "      <td>25</td>\n",
       "      <td>4</td>\n",
       "      <td>25</td>\n",
       "      <td>19.000</td>\n",
       "    </tr>\n",
       "    <tr>\n",
       "      <th>3</th>\n",
       "      <td>IndiGo</td>\n",
       "      <td>Kolkata</td>\n",
       "      <td>Banglore</td>\n",
       "      <td>CCU → NAG → BLR</td>\n",
       "      <td>1 stop</td>\n",
       "      <td>No info</td>\n",
       "      <td>6218</td>\n",
       "      <td>12</td>\n",
       "      <td>5</td>\n",
       "      <td>18</td>\n",
       "      <td>5</td>\n",
       "      <td>23</td>\n",
       "      <td>30</td>\n",
       "      <td>5.417</td>\n",
       "    </tr>\n",
       "    <tr>\n",
       "      <th>4</th>\n",
       "      <td>IndiGo</td>\n",
       "      <td>Banglore</td>\n",
       "      <td>Delhi</td>\n",
       "      <td>BLR → NAG → DEL</td>\n",
       "      <td>1 stop</td>\n",
       "      <td>No info</td>\n",
       "      <td>13302</td>\n",
       "      <td>1</td>\n",
       "      <td>3</td>\n",
       "      <td>16</td>\n",
       "      <td>50</td>\n",
       "      <td>21</td>\n",
       "      <td>35</td>\n",
       "      <td>4.750</td>\n",
       "    </tr>\n",
       "  </tbody>\n",
       "</table>\n",
       "</div>"
      ],
      "text/plain": [
       "       Airline    Source Destination                  Route Total_Stops  \\\n",
       "0       IndiGo  Banglore       Delhi              BLR → DEL    non-stop   \n",
       "1    Air India   Kolkata    Banglore  CCU → IXR → BBI → BLR     2 stops   \n",
       "2  Jet Airways     Delhi      Cochin  DEL → LKO → BOM → COK     2 stops   \n",
       "3       IndiGo   Kolkata    Banglore        CCU → NAG → BLR      1 stop   \n",
       "4       IndiGo  Banglore       Delhi        BLR → NAG → DEL      1 stop   \n",
       "\n",
       "  Additional_Info  Price  Date  Month  Dep_Hour  Dep_Min  Arrival_Hour  \\\n",
       "0         No info   3897    24      3        22       20             1   \n",
       "1         No info   7662     1      5         5       50            13   \n",
       "2         No info  13882     9      6         9       25             4   \n",
       "3         No info   6218    12      5        18        5            23   \n",
       "4         No info  13302     1      3        16       50            21   \n",
       "\n",
       "   Arrival_Min  Total_Travel_Time_Hour  \n",
       "0           10                   2.833  \n",
       "1           15                   7.417  \n",
       "2           25                  19.000  \n",
       "3           30                   5.417  \n",
       "4           35                   4.750  "
      ]
     },
     "execution_count": 28,
     "metadata": {},
     "output_type": "execute_result"
    }
   ],
   "source": [
    "# check train data\n",
    "train.head()"
   ]
  },
  {
   "attachments": {},
   "cell_type": "markdown",
   "metadata": {},
   "source": [
    "#### Now we will perform the same steps on test data"
   ]
  },
  {
   "cell_type": "code",
   "execution_count": 29,
   "metadata": {},
   "outputs": [],
   "source": [
    "# Date of Journey\n",
    "test[\"Date\"] = test['Date_of_Journey'].apply(lambda x:x.split(\"/\")[0])\n",
    "test[\"Month\"] = test['Date_of_Journey'].apply(lambda x:x.split(\"/\")[1])\n",
    "test[\"Year\"] = test['Date_of_Journey'].apply(lambda x:x.split(\"/\")[2])\n",
    "\n",
    "# Drop the column\n",
    "test = test.drop(['Date_of_Journey'], axis=1)\n",
    "\n",
    "# change the datatype\n",
    "test['Date'] = test['Date'].astype('int')\n",
    "test['Month'] = test['Month'].astype('int')\n",
    "test['Year'] = test['Year'].astype('int')"
   ]
  },
  {
   "cell_type": "code",
   "execution_count": 30,
   "metadata": {},
   "outputs": [],
   "source": [
    "# Dep_Time\n",
    "test['Dep_Hour'] = test['Dep_Time'].apply(lambda x:x.split(\":\")[0])\n",
    "test['Dep_Min'] = test['Dep_Time'].apply(lambda x:x.split(\":\")[1])\n",
    "\n",
    "# Drop the column\n",
    "test = test.drop(['Dep_Time'],axis=1)\n",
    "\n",
    "# change the datatype\n",
    "test['Dep_Hour'] = test['Dep_Hour'].astype('int')\n",
    "test['Dep_Min'] = test['Dep_Min'].astype('int')"
   ]
  },
  {
   "cell_type": "code",
   "execution_count": 31,
   "metadata": {},
   "outputs": [],
   "source": [
    "# Arrival_Time\n",
    "test['Arrival_Time'] = test['Arrival_Time'].apply(lambda x:x.split(\" \")[0])\n",
    "test['Arrival_Hour'] = test['Arrival_Time'].apply(lambda x:x.split(\":\")[0])\n",
    "test['Arrival_Min'] = test['Arrival_Time'].apply(lambda x:x.split(\":\")[1])\n",
    "\n",
    "# Drop the Column\n",
    "test = test.drop(['Arrival_Time'],axis=1)\n",
    "\n",
    "# change the datatype\n",
    "test['Arrival_Hour'] = test['Arrival_Hour'].astype('int')\n",
    "test['Arrival_Min'] = test['Arrival_Min'].astype('int')"
   ]
  },
  {
   "cell_type": "code",
   "execution_count": 32,
   "metadata": {},
   "outputs": [],
   "source": [
    "# Duration\n",
    "test['Duration_Hour']=test['Duration'].str.split(' ').str[0].str.split('h').str[0]\n",
    "test['Duration_Min']=test['Duration'].str.split(' ').str[1].str.split('m').str[0]\n",
    "\n",
    "# replace incorrect values\n",
    "test['Duration_Hour'] = test['Duration_Hour'].replace('5m','0')\n",
    "test['Duration_Min'] = test['Duration_Min'].fillna('0')\n",
    "\n",
    "# drop the column\n",
    "test = test.drop(['Duration'],axis=1)\n",
    "\n",
    "# change the datatype\n",
    "test['Duration_Hour'] = test['Duration_Hour'].astype('int')\n",
    "test['Duration_Min'] = test['Duration_Min'].astype('int')"
   ]
  },
  {
   "cell_type": "code",
   "execution_count": 33,
   "metadata": {},
   "outputs": [],
   "source": [
    "# convert it into minutes\n",
    "test['Duration_Hour'] = test['Duration_Hour']*60\n",
    "\n",
    "# add columns to get total minutes\n",
    "test['Total_Travel_Time_Hour'] = test['Duration_Hour'] + test['Duration_Min']\n",
    "\n",
    "# convert it into hours\n",
    "test['Total_Travel_Time_Hour'] = round(test['Total_Travel_Time_Hour']/60,3)\n",
    "\n",
    "# drop the unnecessary columns\n",
    "test = test.drop(['Duration_Hour', 'Duration_Min'], axis=1)"
   ]
  },
  {
   "cell_type": "code",
   "execution_count": 34,
   "metadata": {},
   "outputs": [
    {
     "data": {
      "text/plain": [
       "Cochin       1145\n",
       "Banglore      710\n",
       "Delhi         317\n",
       "New Delhi     238\n",
       "Hyderabad     186\n",
       "Kolkata        75\n",
       "Name: Destination, dtype: int64"
      ]
     },
     "execution_count": 34,
     "metadata": {},
     "output_type": "execute_result"
    }
   ],
   "source": [
    "# Destination\n",
    "test['Destination'].value_counts()"
   ]
  },
  {
   "cell_type": "code",
   "execution_count": 35,
   "metadata": {},
   "outputs": [],
   "source": [
    "# replacing the values\n",
    "test['Destination'] = test['Destination'].replace('New Delhi', 'Delhi')"
   ]
  },
  {
   "cell_type": "code",
   "execution_count": 36,
   "metadata": {},
   "outputs": [
    {
     "data": {
      "text/plain": [
       "2019    2671\n",
       "Name: Year, dtype: int64"
      ]
     },
     "execution_count": 36,
     "metadata": {},
     "output_type": "execute_result"
    }
   ],
   "source": [
    "# Year\n",
    "test['Year'].value_counts()"
   ]
  },
  {
   "attachments": {},
   "cell_type": "markdown",
   "metadata": {},
   "source": [
    "Since there is only single value in \"Year\" column i.e., the only record present in this column is 2019. Let's drop this column."
   ]
  },
  {
   "cell_type": "code",
   "execution_count": 37,
   "metadata": {},
   "outputs": [],
   "source": [
    "# drop column \"Year\"\n",
    "test = test.drop(['Year'],axis=1)"
   ]
  },
  {
   "cell_type": "code",
   "execution_count": 38,
   "metadata": {},
   "outputs": [
    {
     "data": {
      "text/plain": [
       "Airline                    object\n",
       "Source                     object\n",
       "Destination                object\n",
       "Route                      object\n",
       "Total_Stops                object\n",
       "Additional_Info            object\n",
       "Date                        int32\n",
       "Month                       int32\n",
       "Dep_Hour                    int32\n",
       "Dep_Min                     int32\n",
       "Arrival_Hour                int32\n",
       "Arrival_Min                 int32\n",
       "Total_Travel_Time_Hour    float64\n",
       "dtype: object"
      ]
     },
     "execution_count": 38,
     "metadata": {},
     "output_type": "execute_result"
    }
   ],
   "source": [
    "# check datatypes\n",
    "test.dtypes"
   ]
  },
  {
   "cell_type": "code",
   "execution_count": 39,
   "metadata": {},
   "outputs": [
    {
     "data": {
      "text/plain": [
       "Airline                   0\n",
       "Source                    0\n",
       "Destination               0\n",
       "Route                     0\n",
       "Total_Stops               0\n",
       "Additional_Info           0\n",
       "Date                      0\n",
       "Month                     0\n",
       "Dep_Hour                  0\n",
       "Dep_Min                   0\n",
       "Arrival_Hour              0\n",
       "Arrival_Min               0\n",
       "Total_Travel_Time_Hour    0\n",
       "dtype: int64"
      ]
     },
     "execution_count": 39,
     "metadata": {},
     "output_type": "execute_result"
    }
   ],
   "source": [
    "# check for missing values\n",
    "test.isnull().sum()"
   ]
  },
  {
   "cell_type": "code",
   "execution_count": 40,
   "metadata": {},
   "outputs": [
    {
     "data": {
      "text/plain": [
       "26"
      ]
     },
     "execution_count": 40,
     "metadata": {},
     "output_type": "execute_result"
    }
   ],
   "source": [
    "# check for duplicates\n",
    "test.duplicated().sum()"
   ]
  },
  {
   "cell_type": "code",
   "execution_count": 41,
   "metadata": {},
   "outputs": [],
   "source": [
    "# drop duplicates\n",
    "test = test.drop_duplicates()"
   ]
  },
  {
   "cell_type": "code",
   "execution_count": 42,
   "metadata": {},
   "outputs": [
    {
     "data": {
      "text/plain": [
       "0"
      ]
     },
     "execution_count": 42,
     "metadata": {},
     "output_type": "execute_result"
    }
   ],
   "source": [
    "# check for duplicates\n",
    "test.duplicated().sum()"
   ]
  },
  {
   "cell_type": "code",
   "execution_count": 43,
   "metadata": {},
   "outputs": [
    {
     "data": {
      "text/html": [
       "<div>\n",
       "<style scoped>\n",
       "    .dataframe tbody tr th:only-of-type {\n",
       "        vertical-align: middle;\n",
       "    }\n",
       "\n",
       "    .dataframe tbody tr th {\n",
       "        vertical-align: top;\n",
       "    }\n",
       "\n",
       "    .dataframe thead th {\n",
       "        text-align: right;\n",
       "    }\n",
       "</style>\n",
       "<table border=\"1\" class=\"dataframe\">\n",
       "  <thead>\n",
       "    <tr style=\"text-align: right;\">\n",
       "      <th></th>\n",
       "      <th>Airline</th>\n",
       "      <th>Source</th>\n",
       "      <th>Destination</th>\n",
       "      <th>Route</th>\n",
       "      <th>Total_Stops</th>\n",
       "      <th>Additional_Info</th>\n",
       "      <th>Date</th>\n",
       "      <th>Month</th>\n",
       "      <th>Dep_Hour</th>\n",
       "      <th>Dep_Min</th>\n",
       "      <th>Arrival_Hour</th>\n",
       "      <th>Arrival_Min</th>\n",
       "      <th>Total_Travel_Time_Hour</th>\n",
       "    </tr>\n",
       "  </thead>\n",
       "  <tbody>\n",
       "    <tr>\n",
       "      <th>0</th>\n",
       "      <td>Jet Airways</td>\n",
       "      <td>Delhi</td>\n",
       "      <td>Cochin</td>\n",
       "      <td>DEL → BOM → COK</td>\n",
       "      <td>1 stop</td>\n",
       "      <td>No info</td>\n",
       "      <td>6</td>\n",
       "      <td>6</td>\n",
       "      <td>17</td>\n",
       "      <td>30</td>\n",
       "      <td>4</td>\n",
       "      <td>25</td>\n",
       "      <td>10.917</td>\n",
       "    </tr>\n",
       "    <tr>\n",
       "      <th>1</th>\n",
       "      <td>IndiGo</td>\n",
       "      <td>Kolkata</td>\n",
       "      <td>Banglore</td>\n",
       "      <td>CCU → MAA → BLR</td>\n",
       "      <td>1 stop</td>\n",
       "      <td>No info</td>\n",
       "      <td>12</td>\n",
       "      <td>5</td>\n",
       "      <td>6</td>\n",
       "      <td>20</td>\n",
       "      <td>10</td>\n",
       "      <td>20</td>\n",
       "      <td>4.000</td>\n",
       "    </tr>\n",
       "    <tr>\n",
       "      <th>2</th>\n",
       "      <td>Jet Airways</td>\n",
       "      <td>Delhi</td>\n",
       "      <td>Cochin</td>\n",
       "      <td>DEL → BOM → COK</td>\n",
       "      <td>1 stop</td>\n",
       "      <td>In-flight meal not included</td>\n",
       "      <td>21</td>\n",
       "      <td>5</td>\n",
       "      <td>19</td>\n",
       "      <td>15</td>\n",
       "      <td>19</td>\n",
       "      <td>0</td>\n",
       "      <td>23.750</td>\n",
       "    </tr>\n",
       "    <tr>\n",
       "      <th>3</th>\n",
       "      <td>Multiple carriers</td>\n",
       "      <td>Delhi</td>\n",
       "      <td>Cochin</td>\n",
       "      <td>DEL → BOM → COK</td>\n",
       "      <td>1 stop</td>\n",
       "      <td>No info</td>\n",
       "      <td>21</td>\n",
       "      <td>5</td>\n",
       "      <td>8</td>\n",
       "      <td>0</td>\n",
       "      <td>21</td>\n",
       "      <td>0</td>\n",
       "      <td>13.000</td>\n",
       "    </tr>\n",
       "    <tr>\n",
       "      <th>4</th>\n",
       "      <td>Air Asia</td>\n",
       "      <td>Banglore</td>\n",
       "      <td>Delhi</td>\n",
       "      <td>BLR → DEL</td>\n",
       "      <td>non-stop</td>\n",
       "      <td>No info</td>\n",
       "      <td>24</td>\n",
       "      <td>6</td>\n",
       "      <td>23</td>\n",
       "      <td>55</td>\n",
       "      <td>2</td>\n",
       "      <td>45</td>\n",
       "      <td>2.833</td>\n",
       "    </tr>\n",
       "  </tbody>\n",
       "</table>\n",
       "</div>"
      ],
      "text/plain": [
       "             Airline    Source Destination            Route Total_Stops  \\\n",
       "0        Jet Airways     Delhi      Cochin  DEL → BOM → COK      1 stop   \n",
       "1             IndiGo   Kolkata    Banglore  CCU → MAA → BLR      1 stop   \n",
       "2        Jet Airways     Delhi      Cochin  DEL → BOM → COK      1 stop   \n",
       "3  Multiple carriers     Delhi      Cochin  DEL → BOM → COK      1 stop   \n",
       "4           Air Asia  Banglore       Delhi        BLR → DEL    non-stop   \n",
       "\n",
       "               Additional_Info  Date  Month  Dep_Hour  Dep_Min  Arrival_Hour  \\\n",
       "0                      No info     6      6        17       30             4   \n",
       "1                      No info    12      5         6       20            10   \n",
       "2  In-flight meal not included    21      5        19       15            19   \n",
       "3                      No info    21      5         8        0            21   \n",
       "4                      No info    24      6        23       55             2   \n",
       "\n",
       "   Arrival_Min  Total_Travel_Time_Hour  \n",
       "0           25                  10.917  \n",
       "1           20                   4.000  \n",
       "2            0                  23.750  \n",
       "3            0                  13.000  \n",
       "4           45                   2.833  "
      ]
     },
     "execution_count": 43,
     "metadata": {},
     "output_type": "execute_result"
    }
   ],
   "source": [
    "# check test data\n",
    "test.head()"
   ]
  },
  {
   "cell_type": "code",
   "execution_count": 44,
   "metadata": {},
   "outputs": [
    {
     "data": {
      "text/plain": [
       "Jet Airways                          886\n",
       "IndiGo                               509\n",
       "Air India                            432\n",
       "Multiple carriers                    343\n",
       "SpiceJet                             208\n",
       "Vistara                              129\n",
       "Air Asia                              86\n",
       "GoAir                                 45\n",
       "Multiple carriers Premium economy      3\n",
       "Vistara Premium economy                2\n",
       "Jet Airways Business                   2\n",
       "Name: Airline, dtype: int64"
      ]
     },
     "execution_count": 44,
     "metadata": {},
     "output_type": "execute_result"
    }
   ],
   "source": [
    "test['Airline'].value_counts()"
   ]
  },
  {
   "attachments": {},
   "cell_type": "markdown",
   "metadata": {},
   "source": [
    "Now that we are done with data cleaning let's move towards a detailed EDA to gain insights from data."
   ]
  },
  {
   "cell_type": "code",
   "execution_count": 45,
   "metadata": {},
   "outputs": [
    {
     "data": {
      "text/plain": [
       "Jet Airways                          3700\n",
       "IndiGo                               2043\n",
       "Air India                            1695\n",
       "Multiple carriers                    1196\n",
       "SpiceJet                              815\n",
       "Vistara                               477\n",
       "Air Asia                              318\n",
       "GoAir                                 194\n",
       "Multiple carriers Premium economy      13\n",
       "Jet Airways Business                    6\n",
       "Vistara Premium economy                 3\n",
       "Trujet                                  1\n",
       "Name: Airline, dtype: int64"
      ]
     },
     "execution_count": 45,
     "metadata": {},
     "output_type": "execute_result"
    }
   ],
   "source": [
    "# Airline\n",
    "train['Airline'].value_counts()"
   ]
  },
  {
   "attachments": {},
   "cell_type": "markdown",
   "metadata": {},
   "source": [
    "Since \"Trujet\" has only one record we will drop that records"
   ]
  },
  {
   "cell_type": "code",
   "execution_count": 46,
   "metadata": {},
   "outputs": [],
   "source": [
    "train = train[train['Airline']!=\"Trujet\"]"
   ]
  },
  {
   "attachments": {},
   "cell_type": "markdown",
   "metadata": {},
   "source": [
    "For our analysis we will replace \"Multiple carriers Premium economy\", \"Jet Airways Business\", \"Vistara Premium economy\" with their original names."
   ]
  },
  {
   "cell_type": "code",
   "execution_count": 47,
   "metadata": {},
   "outputs": [],
   "source": [
    "# replacing airline names with their original (For train data)\n",
    "train['Airline'] = train['Airline'].replace(['Multiple carriers Premium economy', 'Jet Airways Business','Vistara Premium economy'],\n",
    "                                            ['Multiple carriers', 'Jet Airways','Vistara'])"
   ]
  },
  {
   "cell_type": "code",
   "execution_count": 48,
   "metadata": {},
   "outputs": [],
   "source": [
    "# replacing airline names with their original (For test data)\n",
    "test['Airline'] = test['Airline'].replace(['Multiple carriers Premium economy', 'Jet Airways Business','Vistara Premium economy'],\n",
    "                                            ['Multiple carriers', 'Jet Airways','Vistara'])"
   ]
  },
  {
   "cell_type": "code",
   "execution_count": 49,
   "metadata": {},
   "outputs": [
    {
     "data": {
      "text/plain": [
       "Jet Airways          3706\n",
       "IndiGo               2043\n",
       "Air India            1695\n",
       "Multiple carriers    1209\n",
       "SpiceJet              815\n",
       "Vistara               480\n",
       "Air Asia              318\n",
       "GoAir                 194\n",
       "Name: Airline, dtype: int64"
      ]
     },
     "execution_count": 49,
     "metadata": {},
     "output_type": "execute_result"
    }
   ],
   "source": [
    "train['Airline'].value_counts()"
   ]
  },
  {
   "attachments": {},
   "cell_type": "markdown",
   "metadata": {},
   "source": [
    "As you can see that \"Jet Airways\" has maximum number of records in data."
   ]
  },
  {
   "cell_type": "code",
   "execution_count": 50,
   "metadata": {},
   "outputs": [
    {
     "data": {
      "text/html": [
       "<div>\n",
       "<style scoped>\n",
       "    .dataframe tbody tr th:only-of-type {\n",
       "        vertical-align: middle;\n",
       "    }\n",
       "\n",
       "    .dataframe tbody tr th {\n",
       "        vertical-align: top;\n",
       "    }\n",
       "\n",
       "    .dataframe thead th {\n",
       "        text-align: right;\n",
       "    }\n",
       "</style>\n",
       "<table border=\"1\" class=\"dataframe\">\n",
       "  <thead>\n",
       "    <tr style=\"text-align: right;\">\n",
       "      <th></th>\n",
       "      <th>Airline</th>\n",
       "      <th>Price</th>\n",
       "    </tr>\n",
       "  </thead>\n",
       "  <tbody>\n",
       "    <tr>\n",
       "      <th>0</th>\n",
       "      <td>Jet Airways</td>\n",
       "      <td>11674.72</td>\n",
       "    </tr>\n",
       "    <tr>\n",
       "      <th>1</th>\n",
       "      <td>Multiple carriers</td>\n",
       "      <td>10908.23</td>\n",
       "    </tr>\n",
       "    <tr>\n",
       "      <th>2</th>\n",
       "      <td>Air India</td>\n",
       "      <td>9555.38</td>\n",
       "    </tr>\n",
       "    <tr>\n",
       "      <th>3</th>\n",
       "      <td>Vistara</td>\n",
       "      <td>7809.01</td>\n",
       "    </tr>\n",
       "    <tr>\n",
       "      <th>4</th>\n",
       "      <td>GoAir</td>\n",
       "      <td>5861.06</td>\n",
       "    </tr>\n",
       "    <tr>\n",
       "      <th>5</th>\n",
       "      <td>IndiGo</td>\n",
       "      <td>5668.47</td>\n",
       "    </tr>\n",
       "    <tr>\n",
       "      <th>6</th>\n",
       "      <td>Air Asia</td>\n",
       "      <td>5593.75</td>\n",
       "    </tr>\n",
       "    <tr>\n",
       "      <th>7</th>\n",
       "      <td>SpiceJet</td>\n",
       "      <td>4335.84</td>\n",
       "    </tr>\n",
       "  </tbody>\n",
       "</table>\n",
       "</div>"
      ],
      "text/plain": [
       "             Airline     Price\n",
       "0        Jet Airways  11674.72\n",
       "1  Multiple carriers  10908.23\n",
       "2          Air India   9555.38\n",
       "3            Vistara   7809.01\n",
       "4              GoAir   5861.06\n",
       "5             IndiGo   5668.47\n",
       "6           Air Asia   5593.75\n",
       "7           SpiceJet   4335.84"
      ]
     },
     "execution_count": 50,
     "metadata": {},
     "output_type": "execute_result"
    }
   ],
   "source": [
    "# Airlines and their average prices.\n",
    "airline_avg_price = train.groupby(['Airline'])['Price'].mean().round(2).sort_values(ascending=False).reset_index()\n",
    "airline_avg_price"
   ]
  },
  {
   "cell_type": "code",
   "execution_count": 51,
   "metadata": {},
   "outputs": [
    {
     "data": {
      "image/png": "[encoded data removed]",
      "text/plain": [
       "<Figure size 1200x400 with 1 Axes>"
      ]
     },
     "metadata": {},
     "output_type": "display_data"
    }
   ],
   "source": [
    "# let's visualize above data\n",
    "# function to add value labels\n",
    "def add_labels(x,y):\n",
    "    for i in range(len(x)):\n",
    "        plt.text(i, y[i]//2, y[i], ha='center')\n",
    "if __name__=='__main__':\n",
    "    x = airline_avg_price['Airline'].values\n",
    "    y = airline_avg_price['Price'].values\n",
    "    plt.figure(figsize=(12,4))\n",
    "    sns.barplot(x='Airline',y='Price', data=airline_avg_price, ci=None, dodge=False, estimator=np.mean)\n",
    "    add_labels(x,y)\n",
    "    plt.title(\"Airline Average Prices\")\n",
    "    plt.show()"
   ]
  },
  {
   "attachments": {},
   "cell_type": "markdown",
   "metadata": {},
   "source": [
    "#### From above barchart we can see that for \"Jet Airways\", \"Multiple Carriers\", \"Air India\", \"Vistara\" airlines the flight ticket prices are expensive and for \"Spicejet\" the flight ticket prices are comparatively cheaper."
   ]
  },
  {
   "cell_type": "code",
   "execution_count": 52,
   "metadata": {},
   "outputs": [
    {
     "data": {
      "text/html": [
       "<div>\n",
       "<style scoped>\n",
       "    .dataframe tbody tr th:only-of-type {\n",
       "        vertical-align: middle;\n",
       "    }\n",
       "\n",
       "    .dataframe tbody tr th {\n",
       "        vertical-align: top;\n",
       "    }\n",
       "\n",
       "    .dataframe thead th {\n",
       "        text-align: right;\n",
       "    }\n",
       "</style>\n",
       "<table border=\"1\" class=\"dataframe\">\n",
       "  <thead>\n",
       "    <tr style=\"text-align: right;\">\n",
       "      <th></th>\n",
       "      <th>Source</th>\n",
       "      <th>Destination</th>\n",
       "      <th>Price</th>\n",
       "    </tr>\n",
       "  </thead>\n",
       "  <tbody>\n",
       "    <tr>\n",
       "      <th>0</th>\n",
       "      <td>Delhi</td>\n",
       "      <td>Cochin</td>\n",
       "      <td>10460.91</td>\n",
       "    </tr>\n",
       "    <tr>\n",
       "      <th>1</th>\n",
       "      <td>Kolkata</td>\n",
       "      <td>Banglore</td>\n",
       "      <td>9143.08</td>\n",
       "    </tr>\n",
       "    <tr>\n",
       "      <th>2</th>\n",
       "      <td>Banglore</td>\n",
       "      <td>Delhi</td>\n",
       "      <td>8024.69</td>\n",
       "    </tr>\n",
       "    <tr>\n",
       "      <th>3</th>\n",
       "      <td>Mumbai</td>\n",
       "      <td>Hyderabad</td>\n",
       "      <td>5061.03</td>\n",
       "    </tr>\n",
       "    <tr>\n",
       "      <th>4</th>\n",
       "      <td>Chennai</td>\n",
       "      <td>Kolkata</td>\n",
       "      <td>4789.89</td>\n",
       "    </tr>\n",
       "  </tbody>\n",
       "</table>\n",
       "</div>"
      ],
      "text/plain": [
       "     Source Destination     Price\n",
       "0     Delhi      Cochin  10460.91\n",
       "1   Kolkata    Banglore   9143.08\n",
       "2  Banglore       Delhi   8024.69\n",
       "3    Mumbai   Hyderabad   5061.03\n",
       "4   Chennai     Kolkata   4789.89"
      ]
     },
     "execution_count": 52,
     "metadata": {},
     "output_type": "execute_result"
    }
   ],
   "source": [
    "# Source to Destination Average Prices\n",
    "source_avg_price = train.groupby(['Source', 'Destination'])['Price'].mean().round(2).sort_values(ascending=False).reset_index()\n",
    "source_avg_price"
   ]
  },
  {
   "cell_type": "code",
   "execution_count": 53,
   "metadata": {},
   "outputs": [
    {
     "data": {
      "image/png": "[encoded data removed]",
      "text/plain": [
       "<Figure size 800x400 with 1 Axes>"
      ]
     },
     "metadata": {},
     "output_type": "display_data"
    }
   ],
   "source": [
    "# let's visualize above data\n",
    "# function to add value labels\n",
    "def add_labels(x,y):\n",
    "    for i in range(len(x)):\n",
    "        plt.text(i, y[i]//2, y[i], ha='center')\n",
    "if __name__=='__main__':\n",
    "    x = source_avg_price['Source'].values\n",
    "    y = source_avg_price['Price'].values\n",
    "    plt.figure(figsize=(8,4))\n",
    "    sns.barplot(x='Source',y='Price', hue='Destination', data=source_avg_price, ci=None, dodge=False, estimator=np.mean, palette='viridis')\n",
    "    add_labels(x,y)\n",
    "    plt.title(\"Source to Destination Average Prices\")\n",
    "    plt.show()"
   ]
  },
  {
   "attachments": {},
   "cell_type": "markdown",
   "metadata": {},
   "source": [
    "#### From above barchart we can see that for \"Delhi --> Cochin\", \"Kolkata --> Bangalore\", \"Bangalore --> Delhi\" the flight ticket prices are  expensive and for \"Mumbai --> Hyderabad\", \"Chennai --> Kolkata\" the flight tickets are cheaper."
   ]
  },
  {
   "cell_type": "code",
   "execution_count": 54,
   "metadata": {},
   "outputs": [
    {
     "data": {
      "text/html": [
       "<div>\n",
       "<style scoped>\n",
       "    .dataframe tbody tr th:only-of-type {\n",
       "        vertical-align: middle;\n",
       "    }\n",
       "\n",
       "    .dataframe tbody tr th {\n",
       "        vertical-align: top;\n",
       "    }\n",
       "\n",
       "    .dataframe thead th {\n",
       "        text-align: right;\n",
       "    }\n",
       "</style>\n",
       "<table border=\"1\" class=\"dataframe\">\n",
       "  <thead>\n",
       "    <tr style=\"text-align: right;\">\n",
       "      <th></th>\n",
       "      <th>Source</th>\n",
       "      <th>Destination</th>\n",
       "      <th>Total_Travel_Time_Hour</th>\n",
       "    </tr>\n",
       "  </thead>\n",
       "  <tbody>\n",
       "    <tr>\n",
       "      <th>0</th>\n",
       "      <td>Delhi</td>\n",
       "      <td>Cochin</td>\n",
       "      <td>13.23</td>\n",
       "    </tr>\n",
       "    <tr>\n",
       "      <th>1</th>\n",
       "      <td>Kolkata</td>\n",
       "      <td>Banglore</td>\n",
       "      <td>12.43</td>\n",
       "    </tr>\n",
       "    <tr>\n",
       "      <th>2</th>\n",
       "      <td>Banglore</td>\n",
       "      <td>Delhi</td>\n",
       "      <td>6.28</td>\n",
       "    </tr>\n",
       "    <tr>\n",
       "      <th>3</th>\n",
       "      <td>Mumbai</td>\n",
       "      <td>Hyderabad</td>\n",
       "      <td>3.20</td>\n",
       "    </tr>\n",
       "    <tr>\n",
       "      <th>4</th>\n",
       "      <td>Chennai</td>\n",
       "      <td>Kolkata</td>\n",
       "      <td>2.33</td>\n",
       "    </tr>\n",
       "  </tbody>\n",
       "</table>\n",
       "</div>"
      ],
      "text/plain": [
       "     Source Destination  Total_Travel_Time_Hour\n",
       "0     Delhi      Cochin                   13.23\n",
       "1   Kolkata    Banglore                   12.43\n",
       "2  Banglore       Delhi                    6.28\n",
       "3    Mumbai   Hyderabad                    3.20\n",
       "4   Chennai     Kolkata                    2.33"
      ]
     },
     "execution_count": 54,
     "metadata": {},
     "output_type": "execute_result"
    }
   ],
   "source": [
    "# Source to Destination Average Travel Time\n",
    "source_travel_time = train.groupby(['Source', 'Destination'])['Total_Travel_Time_Hour'].mean().round(2).sort_values(\n",
    "    ascending=False).reset_index()\n",
    "source_travel_time"
   ]
  },
  {
   "cell_type": "code",
   "execution_count": 55,
   "metadata": {},
   "outputs": [
    {
     "data": {
      "image/png": "[encoded data removed]",
      "text/plain": [
       "<Figure size 800x400 with 1 Axes>"
      ]
     },
     "metadata": {},
     "output_type": "display_data"
    }
   ],
   "source": [
    "# let's visualize above data\n",
    "# function to add value labels\n",
    "def add_labels(x,y):\n",
    "    for i in range(len(x)):\n",
    "        plt.text(i, y[i]//2, y[i], ha='center')\n",
    "if __name__=='__main__':\n",
    "    x = source_travel_time['Source'].values\n",
    "    y = source_travel_time['Total_Travel_Time_Hour'].values\n",
    "    plt.figure(figsize=(8,4))\n",
    "    sns.barplot(x='Source',y='Total_Travel_Time_Hour', hue='Destination', data=source_travel_time, ci=None, dodge=False, \n",
    "                estimator=np.mean, palette='viridis')\n",
    "    add_labels(x,y)\n",
    "    plt.ylabel(\"Total Travel Time (Hours)\")\n",
    "    plt.title(\"Source to Destination Average Travel Time\")\n",
    "    plt.show()"
   ]
  },
  {
   "attachments": {},
   "cell_type": "markdown",
   "metadata": {},
   "source": [
    "#### The average travel time for \"Delhi --> Cochin\" and \"Kolkata --> Bangalore\" is higher compared to \"Mumbai --> Hyderabad\" and \"Chennai --> Kolkata\"."
   ]
  },
  {
   "cell_type": "code",
   "execution_count": 56,
   "metadata": {},
   "outputs": [
    {
     "name": "stderr",
     "output_type": "stream",
     "text": [
      "C:\\Users\\LENOVO\\AppData\\Local\\Temp\\ipykernel_13364\\744487864.py:2: FutureWarning: Indexing with multiple keys (implicitly converted to a tuple of keys) will be deprecated, use a list instead.\n",
      "  fast_travel_time_price = train.groupby(['Airline','Source','Destination'])['Total_Travel_Time_Hour','Price'].mean().round(2).sort_values(\n"
     ]
    },
    {
     "data": {
      "text/html": [
       "<div>\n",
       "<style scoped>\n",
       "    .dataframe tbody tr th:only-of-type {\n",
       "        vertical-align: middle;\n",
       "    }\n",
       "\n",
       "    .dataframe tbody tr th {\n",
       "        vertical-align: top;\n",
       "    }\n",
       "\n",
       "    .dataframe thead th {\n",
       "        text-align: right;\n",
       "    }\n",
       "</style>\n",
       "<table border=\"1\" class=\"dataframe\">\n",
       "  <thead>\n",
       "    <tr style=\"text-align: right;\">\n",
       "      <th></th>\n",
       "      <th>Airline</th>\n",
       "      <th>Source</th>\n",
       "      <th>Destination</th>\n",
       "      <th>Total_Travel_Time_Hour</th>\n",
       "      <th>Price</th>\n",
       "    </tr>\n",
       "  </thead>\n",
       "  <tbody>\n",
       "    <tr>\n",
       "      <th>0</th>\n",
       "      <td>IndiGo</td>\n",
       "      <td>Mumbai</td>\n",
       "      <td>Hyderabad</td>\n",
       "      <td>1.52</td>\n",
       "      <td>3659.82</td>\n",
       "    </tr>\n",
       "    <tr>\n",
       "      <th>1</th>\n",
       "      <td>SpiceJet</td>\n",
       "      <td>Mumbai</td>\n",
       "      <td>Hyderabad</td>\n",
       "      <td>1.53</td>\n",
       "      <td>2511.11</td>\n",
       "    </tr>\n",
       "    <tr>\n",
       "      <th>2</th>\n",
       "      <td>Air India</td>\n",
       "      <td>Chennai</td>\n",
       "      <td>Kolkata</td>\n",
       "      <td>2.25</td>\n",
       "      <td>5895.64</td>\n",
       "    </tr>\n",
       "    <tr>\n",
       "      <th>3</th>\n",
       "      <td>Vistara</td>\n",
       "      <td>Chennai</td>\n",
       "      <td>Kolkata</td>\n",
       "      <td>2.28</td>\n",
       "      <td>7528.50</td>\n",
       "    </tr>\n",
       "    <tr>\n",
       "      <th>4</th>\n",
       "      <td>SpiceJet</td>\n",
       "      <td>Chennai</td>\n",
       "      <td>Kolkata</td>\n",
       "      <td>2.31</td>\n",
       "      <td>3993.52</td>\n",
       "    </tr>\n",
       "    <tr>\n",
       "      <th>5</th>\n",
       "      <td>IndiGo</td>\n",
       "      <td>Chennai</td>\n",
       "      <td>Kolkata</td>\n",
       "      <td>2.36</td>\n",
       "      <td>4538.77</td>\n",
       "    </tr>\n",
       "    <tr>\n",
       "      <th>6</th>\n",
       "      <td>Jet Airways</td>\n",
       "      <td>Mumbai</td>\n",
       "      <td>Hyderabad</td>\n",
       "      <td>2.44</td>\n",
       "      <td>6227.95</td>\n",
       "    </tr>\n",
       "    <tr>\n",
       "      <th>7</th>\n",
       "      <td>Air Asia</td>\n",
       "      <td>Banglore</td>\n",
       "      <td>Delhi</td>\n",
       "      <td>2.80</td>\n",
       "      <td>4575.33</td>\n",
       "    </tr>\n",
       "    <tr>\n",
       "      <th>8</th>\n",
       "      <td>GoAir</td>\n",
       "      <td>Banglore</td>\n",
       "      <td>Delhi</td>\n",
       "      <td>2.92</td>\n",
       "      <td>4948.88</td>\n",
       "    </tr>\n",
       "    <tr>\n",
       "      <th>9</th>\n",
       "      <td>IndiGo</td>\n",
       "      <td>Banglore</td>\n",
       "      <td>Delhi</td>\n",
       "      <td>3.01</td>\n",
       "      <td>5245.56</td>\n",
       "    </tr>\n",
       "    <tr>\n",
       "      <th>10</th>\n",
       "      <td>SpiceJet</td>\n",
       "      <td>Banglore</td>\n",
       "      <td>Delhi</td>\n",
       "      <td>3.05</td>\n",
       "      <td>4542.68</td>\n",
       "    </tr>\n",
       "    <tr>\n",
       "      <th>11</th>\n",
       "      <td>Vistara</td>\n",
       "      <td>Delhi</td>\n",
       "      <td>Cochin</td>\n",
       "      <td>3.14</td>\n",
       "      <td>6465.64</td>\n",
       "    </tr>\n",
       "    <tr>\n",
       "      <th>12</th>\n",
       "      <td>SpiceJet</td>\n",
       "      <td>Kolkata</td>\n",
       "      <td>Banglore</td>\n",
       "      <td>3.18</td>\n",
       "      <td>4642.88</td>\n",
       "    </tr>\n",
       "    <tr>\n",
       "      <th>13</th>\n",
       "      <td>IndiGo</td>\n",
       "      <td>Kolkata</td>\n",
       "      <td>Banglore</td>\n",
       "      <td>3.22</td>\n",
       "      <td>5075.24</td>\n",
       "    </tr>\n",
       "    <tr>\n",
       "      <th>14</th>\n",
       "      <td>Vistara</td>\n",
       "      <td>Banglore</td>\n",
       "      <td>Delhi</td>\n",
       "      <td>3.51</td>\n",
       "      <td>6207.85</td>\n",
       "    </tr>\n",
       "    <tr>\n",
       "      <th>15</th>\n",
       "      <td>SpiceJet</td>\n",
       "      <td>Delhi</td>\n",
       "      <td>Cochin</td>\n",
       "      <td>5.14</td>\n",
       "      <td>5916.36</td>\n",
       "    </tr>\n",
       "  </tbody>\n",
       "</table>\n",
       "</div>"
      ],
      "text/plain": [
       "        Airline    Source Destination  Total_Travel_Time_Hour    Price\n",
       "0        IndiGo    Mumbai   Hyderabad                    1.52  3659.82\n",
       "1      SpiceJet    Mumbai   Hyderabad                    1.53  2511.11\n",
       "2     Air India   Chennai     Kolkata                    2.25  5895.64\n",
       "3       Vistara   Chennai     Kolkata                    2.28  7528.50\n",
       "4      SpiceJet   Chennai     Kolkata                    2.31  3993.52\n",
       "5        IndiGo   Chennai     Kolkata                    2.36  4538.77\n",
       "6   Jet Airways    Mumbai   Hyderabad                    2.44  6227.95\n",
       "7      Air Asia  Banglore       Delhi                    2.80  4575.33\n",
       "8         GoAir  Banglore       Delhi                    2.92  4948.88\n",
       "9        IndiGo  Banglore       Delhi                    3.01  5245.56\n",
       "10     SpiceJet  Banglore       Delhi                    3.05  4542.68\n",
       "11      Vistara     Delhi      Cochin                    3.14  6465.64\n",
       "12     SpiceJet   Kolkata    Banglore                    3.18  4642.88\n",
       "13       IndiGo   Kolkata    Banglore                    3.22  5075.24\n",
       "14      Vistara  Banglore       Delhi                    3.51  6207.85\n",
       "15     SpiceJet     Delhi      Cochin                    5.14  5916.36"
      ]
     },
     "execution_count": 56,
     "metadata": {},
     "output_type": "execute_result"
    }
   ],
   "source": [
    "# Airlines with Less Travel Time(<4 Hours)\n",
    "fast_travel_time_price = train.groupby(['Airline','Source','Destination'])['Total_Travel_Time_Hour','Price'].mean().round(2).sort_values(\n",
    "    ascending=True,by='Total_Travel_Time_Hour').reset_index().head(16)\n",
    "fast_travel_time_price"
   ]
  },
  {
   "cell_type": "code",
   "execution_count": 57,
   "metadata": {},
   "outputs": [
    {
     "data": {
      "image/png": "[encoded data removed]",
      "text/plain": [
       "<Figure size 1600x600 with 2 Axes>"
      ]
     },
     "metadata": {},
     "output_type": "display_data"
    }
   ],
   "source": [
    "# let's visualize above data\n",
    "fig = plt.figure(figsize=(16,6))\n",
    "\n",
    "ax1 = fig.add_subplot(121)\n",
    "sns.stripplot(x='Source', y='Total_Travel_Time_Hour', hue='Airline', data=fast_travel_time_price, size=10, ax=ax1)\n",
    "plt.ylabel(\"Average Travel Time (Hours)\")\n",
    "plt.title(\"Airlines with Less Travel Time(<4 Hours)\")\n",
    "\n",
    "ax2 = fig.add_subplot(122)\n",
    "sns.stripplot(x='Destination', y='Price', hue='Airline', data=fast_travel_time_price, size=10, ax=ax2)\n",
    "plt.ylabel(\"Average Flight Prices\")\n",
    "plt.title(\"Airlines with Less Travel Time(Prices)\")\n",
    "\n",
    "plt.show()"
   ]
  },
  {
   "attachments": {},
   "cell_type": "markdown",
   "metadata": {},
   "source": [
    "#### The above 2 barcharts gives information about which airlines take less travel time from Source --> Destination as well as which airlines have cheaper flight ticket prices."
   ]
  },
  {
   "cell_type": "code",
   "execution_count": 58,
   "metadata": {},
   "outputs": [
    {
     "data": {
      "text/html": [
       "<div>\n",
       "<style scoped>\n",
       "    .dataframe tbody tr th:only-of-type {\n",
       "        vertical-align: middle;\n",
       "    }\n",
       "\n",
       "    .dataframe tbody tr th {\n",
       "        vertical-align: top;\n",
       "    }\n",
       "\n",
       "    .dataframe thead th {\n",
       "        text-align: right;\n",
       "    }\n",
       "</style>\n",
       "<table border=\"1\" class=\"dataframe\">\n",
       "  <thead>\n",
       "    <tr style=\"text-align: right;\">\n",
       "      <th></th>\n",
       "      <th>Airline</th>\n",
       "      <th>Month</th>\n",
       "      <th>Price</th>\n",
       "    </tr>\n",
       "  </thead>\n",
       "  <tbody>\n",
       "    <tr>\n",
       "      <th>0</th>\n",
       "      <td>SpiceJet</td>\n",
       "      <td>6</td>\n",
       "      <td>3942.29</td>\n",
       "    </tr>\n",
       "    <tr>\n",
       "      <th>1</th>\n",
       "      <td>SpiceJet</td>\n",
       "      <td>5</td>\n",
       "      <td>4060.43</td>\n",
       "    </tr>\n",
       "    <tr>\n",
       "      <th>2</th>\n",
       "      <td>SpiceJet</td>\n",
       "      <td>4</td>\n",
       "      <td>4248.40</td>\n",
       "    </tr>\n",
       "    <tr>\n",
       "      <th>3</th>\n",
       "      <td>Air Asia</td>\n",
       "      <td>4</td>\n",
       "      <td>4729.36</td>\n",
       "    </tr>\n",
       "    <tr>\n",
       "      <th>4</th>\n",
       "      <td>IndiGo</td>\n",
       "      <td>4</td>\n",
       "      <td>4779.93</td>\n",
       "    </tr>\n",
       "    <tr>\n",
       "      <th>5</th>\n",
       "      <td>GoAir</td>\n",
       "      <td>4</td>\n",
       "      <td>4953.43</td>\n",
       "    </tr>\n",
       "    <tr>\n",
       "      <th>6</th>\n",
       "      <td>GoAir</td>\n",
       "      <td>6</td>\n",
       "      <td>5058.53</td>\n",
       "    </tr>\n",
       "    <tr>\n",
       "      <th>7</th>\n",
       "      <td>IndiGo</td>\n",
       "      <td>6</td>\n",
       "      <td>5112.08</td>\n",
       "    </tr>\n",
       "    <tr>\n",
       "      <th>8</th>\n",
       "      <td>Air Asia</td>\n",
       "      <td>5</td>\n",
       "      <td>5174.35</td>\n",
       "    </tr>\n",
       "    <tr>\n",
       "      <th>9</th>\n",
       "      <td>IndiGo</td>\n",
       "      <td>5</td>\n",
       "      <td>5229.69</td>\n",
       "    </tr>\n",
       "    <tr>\n",
       "      <th>10</th>\n",
       "      <td>SpiceJet</td>\n",
       "      <td>3</td>\n",
       "      <td>5327.58</td>\n",
       "    </tr>\n",
       "    <tr>\n",
       "      <th>11</th>\n",
       "      <td>GoAir</td>\n",
       "      <td>5</td>\n",
       "      <td>5812.22</td>\n",
       "    </tr>\n",
       "    <tr>\n",
       "      <th>12</th>\n",
       "      <td>Air Asia</td>\n",
       "      <td>3</td>\n",
       "      <td>6013.54</td>\n",
       "    </tr>\n",
       "    <tr>\n",
       "      <th>13</th>\n",
       "      <td>Air India</td>\n",
       "      <td>4</td>\n",
       "      <td>6222.30</td>\n",
       "    </tr>\n",
       "    <tr>\n",
       "      <th>14</th>\n",
       "      <td>Vistara</td>\n",
       "      <td>4</td>\n",
       "      <td>6302.30</td>\n",
       "    </tr>\n",
       "    <tr>\n",
       "      <th>15</th>\n",
       "      <td>Air Asia</td>\n",
       "      <td>6</td>\n",
       "      <td>6304.92</td>\n",
       "    </tr>\n",
       "    <tr>\n",
       "      <th>16</th>\n",
       "      <td>Vistara</td>\n",
       "      <td>6</td>\n",
       "      <td>6910.90</td>\n",
       "    </tr>\n",
       "    <tr>\n",
       "      <th>17</th>\n",
       "      <td>IndiGo</td>\n",
       "      <td>3</td>\n",
       "      <td>7220.83</td>\n",
       "    </tr>\n",
       "    <tr>\n",
       "      <th>18</th>\n",
       "      <td>Jet Airways</td>\n",
       "      <td>4</td>\n",
       "      <td>7578.85</td>\n",
       "    </tr>\n",
       "    <tr>\n",
       "      <th>19</th>\n",
       "      <td>Vistara</td>\n",
       "      <td>5</td>\n",
       "      <td>7664.73</td>\n",
       "    </tr>\n",
       "    <tr>\n",
       "      <th>20</th>\n",
       "      <td>GoAir</td>\n",
       "      <td>3</td>\n",
       "      <td>8124.28</td>\n",
       "    </tr>\n",
       "    <tr>\n",
       "      <th>21</th>\n",
       "      <td>Multiple carriers</td>\n",
       "      <td>4</td>\n",
       "      <td>8617.19</td>\n",
       "    </tr>\n",
       "    <tr>\n",
       "      <th>22</th>\n",
       "      <td>Air India</td>\n",
       "      <td>6</td>\n",
       "      <td>9196.43</td>\n",
       "    </tr>\n",
       "    <tr>\n",
       "      <th>23</th>\n",
       "      <td>Air India</td>\n",
       "      <td>5</td>\n",
       "      <td>9685.47</td>\n",
       "    </tr>\n",
       "    <tr>\n",
       "      <th>24</th>\n",
       "      <td>Vistara</td>\n",
       "      <td>3</td>\n",
       "      <td>9917.22</td>\n",
       "    </tr>\n",
       "    <tr>\n",
       "      <th>25</th>\n",
       "      <td>Multiple carriers</td>\n",
       "      <td>5</td>\n",
       "      <td>10151.74</td>\n",
       "    </tr>\n",
       "    <tr>\n",
       "      <th>26</th>\n",
       "      <td>Multiple carriers</td>\n",
       "      <td>6</td>\n",
       "      <td>10394.06</td>\n",
       "    </tr>\n",
       "    <tr>\n",
       "      <th>27</th>\n",
       "      <td>Air India</td>\n",
       "      <td>3</td>\n",
       "      <td>10688.30</td>\n",
       "    </tr>\n",
       "    <tr>\n",
       "      <th>28</th>\n",
       "      <td>Jet Airways</td>\n",
       "      <td>6</td>\n",
       "      <td>11184.26</td>\n",
       "    </tr>\n",
       "    <tr>\n",
       "      <th>29</th>\n",
       "      <td>Jet Airways</td>\n",
       "      <td>5</td>\n",
       "      <td>11554.20</td>\n",
       "    </tr>\n",
       "    <tr>\n",
       "      <th>30</th>\n",
       "      <td>Multiple carriers</td>\n",
       "      <td>3</td>\n",
       "      <td>12657.92</td>\n",
       "    </tr>\n",
       "    <tr>\n",
       "      <th>31</th>\n",
       "      <td>Jet Airways</td>\n",
       "      <td>3</td>\n",
       "      <td>13779.18</td>\n",
       "    </tr>\n",
       "  </tbody>\n",
       "</table>\n",
       "</div>"
      ],
      "text/plain": [
       "              Airline  Month     Price\n",
       "0            SpiceJet      6   3942.29\n",
       "1            SpiceJet      5   4060.43\n",
       "2            SpiceJet      4   4248.40\n",
       "3            Air Asia      4   4729.36\n",
       "4              IndiGo      4   4779.93\n",
       "5               GoAir      4   4953.43\n",
       "6               GoAir      6   5058.53\n",
       "7              IndiGo      6   5112.08\n",
       "8            Air Asia      5   5174.35\n",
       "9              IndiGo      5   5229.69\n",
       "10           SpiceJet      3   5327.58\n",
       "11              GoAir      5   5812.22\n",
       "12           Air Asia      3   6013.54\n",
       "13          Air India      4   6222.30\n",
       "14            Vistara      4   6302.30\n",
       "15           Air Asia      6   6304.92\n",
       "16            Vistara      6   6910.90\n",
       "17             IndiGo      3   7220.83\n",
       "18        Jet Airways      4   7578.85\n",
       "19            Vistara      5   7664.73\n",
       "20              GoAir      3   8124.28\n",
       "21  Multiple carriers      4   8617.19\n",
       "22          Air India      6   9196.43\n",
       "23          Air India      5   9685.47\n",
       "24            Vistara      3   9917.22\n",
       "25  Multiple carriers      5  10151.74\n",
       "26  Multiple carriers      6  10394.06\n",
       "27          Air India      3  10688.30\n",
       "28        Jet Airways      6  11184.26\n",
       "29        Jet Airways      5  11554.20\n",
       "30  Multiple carriers      3  12657.92\n",
       "31        Jet Airways      3  13779.18"
      ]
     },
     "execution_count": 58,
     "metadata": {},
     "output_type": "execute_result"
    }
   ],
   "source": [
    "# Airlines Flight Prices compared with Month\n",
    "airline_monthly_price = train.groupby(['Airline','Month'])['Price'].mean().round(2).sort_values(ascending=True).reset_index()\n",
    "airline_monthly_price"
   ]
  },
  {
   "cell_type": "code",
   "execution_count": 59,
   "metadata": {},
   "outputs": [
    {
     "data": {
      "image/png": "[encoded data removed]",
      "text/plain": [
       "<Figure size 1200x600 with 1 Axes>"
      ]
     },
     "metadata": {},
     "output_type": "display_data"
    }
   ],
   "source": [
    "# Let's visualize above data\n",
    "fig = plt.figure(figsize=(12,6))\n",
    "\n",
    "ax1 = fig.add_subplot(111)\n",
    "sns.stripplot(x='Airline', y='Price', hue='Month', data=airline_monthly_price, ax=ax1, size=10)\n",
    "plt.ylabel(\"Average Flight Prices\")\n",
    "plt.title(\"Airlines Flight Prices compared with Month\")\n",
    "plt.show()"
   ]
  },
  {
   "attachments": {},
   "cell_type": "markdown",
   "metadata": {},
   "source": [
    "#### The above stripplot gives information on the months where flight ticket prices are cheaper for the airlines. i.e., if you carefully observe you can see that \"March\" month records expensive flight ticket prices for most of the airlines while \"April\" month records cheaper flight ticket prices."
   ]
  },
  {
   "cell_type": "code",
   "execution_count": 60,
   "metadata": {},
   "outputs": [
    {
     "data": {
      "text/html": [
       "<div>\n",
       "<style scoped>\n",
       "    .dataframe tbody tr th:only-of-type {\n",
       "        vertical-align: middle;\n",
       "    }\n",
       "\n",
       "    .dataframe tbody tr th {\n",
       "        vertical-align: top;\n",
       "    }\n",
       "\n",
       "    .dataframe thead th {\n",
       "        text-align: right;\n",
       "    }\n",
       "</style>\n",
       "<table border=\"1\" class=\"dataframe\">\n",
       "  <thead>\n",
       "    <tr style=\"text-align: right;\">\n",
       "      <th></th>\n",
       "      <th>Airline</th>\n",
       "      <th>Date</th>\n",
       "      <th>Price</th>\n",
       "    </tr>\n",
       "  </thead>\n",
       "  <tbody>\n",
       "    <tr>\n",
       "      <th>0</th>\n",
       "      <td>SpiceJet</td>\n",
       "      <td>27</td>\n",
       "      <td>3757.22</td>\n",
       "    </tr>\n",
       "    <tr>\n",
       "      <th>1</th>\n",
       "      <td>SpiceJet</td>\n",
       "      <td>18</td>\n",
       "      <td>3914.27</td>\n",
       "    </tr>\n",
       "    <tr>\n",
       "      <th>2</th>\n",
       "      <td>SpiceJet</td>\n",
       "      <td>21</td>\n",
       "      <td>4089.90</td>\n",
       "    </tr>\n",
       "    <tr>\n",
       "      <th>3</th>\n",
       "      <td>SpiceJet</td>\n",
       "      <td>15</td>\n",
       "      <td>4275.46</td>\n",
       "    </tr>\n",
       "    <tr>\n",
       "      <th>4</th>\n",
       "      <td>SpiceJet</td>\n",
       "      <td>24</td>\n",
       "      <td>4376.05</td>\n",
       "    </tr>\n",
       "    <tr>\n",
       "      <th>...</th>\n",
       "      <td>...</td>\n",
       "      <td>...</td>\n",
       "      <td>...</td>\n",
       "    </tr>\n",
       "    <tr>\n",
       "      <th>75</th>\n",
       "      <td>Multiple carriers</td>\n",
       "      <td>1</td>\n",
       "      <td>12003.44</td>\n",
       "    </tr>\n",
       "    <tr>\n",
       "      <th>76</th>\n",
       "      <td>Multiple carriers</td>\n",
       "      <td>6</td>\n",
       "      <td>12538.58</td>\n",
       "    </tr>\n",
       "    <tr>\n",
       "      <th>77</th>\n",
       "      <td>Jet Airways</td>\n",
       "      <td>6</td>\n",
       "      <td>12880.42</td>\n",
       "    </tr>\n",
       "    <tr>\n",
       "      <th>78</th>\n",
       "      <td>Multiple carriers</td>\n",
       "      <td>3</td>\n",
       "      <td>13208.57</td>\n",
       "    </tr>\n",
       "    <tr>\n",
       "      <th>79</th>\n",
       "      <td>Jet Airways</td>\n",
       "      <td>1</td>\n",
       "      <td>13512.54</td>\n",
       "    </tr>\n",
       "  </tbody>\n",
       "</table>\n",
       "<p>80 rows × 3 columns</p>\n",
       "</div>"
      ],
      "text/plain": [
       "              Airline  Date     Price\n",
       "0            SpiceJet    27   3757.22\n",
       "1            SpiceJet    18   3914.27\n",
       "2            SpiceJet    21   4089.90\n",
       "3            SpiceJet    15   4275.46\n",
       "4            SpiceJet    24   4376.05\n",
       "..                ...   ...       ...\n",
       "75  Multiple carriers     1  12003.44\n",
       "76  Multiple carriers     6  12538.58\n",
       "77        Jet Airways     6  12880.42\n",
       "78  Multiple carriers     3  13208.57\n",
       "79        Jet Airways     1  13512.54\n",
       "\n",
       "[80 rows x 3 columns]"
      ]
     },
     "execution_count": 60,
     "metadata": {},
     "output_type": "execute_result"
    }
   ],
   "source": [
    "# Airlines Flight Prices compared with Date\n",
    "airline_daily_price = train.groupby(['Airline','Date'])['Price'].mean().round(2).sort_values(ascending=True).reset_index()\n",
    "airline_daily_price"
   ]
  },
  {
   "cell_type": "code",
   "execution_count": 61,
   "metadata": {},
   "outputs": [
    {
     "data": {
      "image/png": "[encoded data removed]",
      "text/plain": [
       "<Figure size 1200x600 with 1 Axes>"
      ]
     },
     "metadata": {},
     "output_type": "display_data"
    }
   ],
   "source": [
    "# Let's visualize above data\n",
    "fig = plt.figure(figsize=(12,6))\n",
    "\n",
    "ax1 = fig.add_subplot(111)\n",
    "sns.stripplot(x='Airline', y='Price', hue='Date', data=airline_daily_price, ax=ax1, size=6)\n",
    "plt.ylabel(\"Average Flight Prices\")\n",
    "plt.title(\"Airlines Flight Prices compared with Date\")\n",
    "plt.show()"
   ]
  },
  {
   "attachments": {},
   "cell_type": "markdown",
   "metadata": {},
   "source": [
    "#### Above stripplot gives details on cheaper and expensive flight ticket prices for airlines w.r.t. Date of the month. i.e., for \"Vistara\" the flight ticket prices are cheaper on 27th day of the month and expensive on 6th and 24th day of the month."
   ]
  },
  {
   "cell_type": "code",
   "execution_count": 62,
   "metadata": {},
   "outputs": [
    {
     "data": {
      "text/plain": [
       "1 stop      5624\n",
       "non-stop    3473\n",
       "2 stops     1319\n",
       "3 stops       43\n",
       "4 stops        1\n",
       "Name: Total_Stops, dtype: int64"
      ]
     },
     "execution_count": 62,
     "metadata": {},
     "output_type": "execute_result"
    }
   ],
   "source": [
    "# Total_Stops\n",
    "train['Total_Stops'].value_counts()"
   ]
  },
  {
   "attachments": {},
   "cell_type": "markdown",
   "metadata": {},
   "source": [
    "Since there is only one record for \"4 stops\" we will drop it."
   ]
  },
  {
   "cell_type": "code",
   "execution_count": 63,
   "metadata": {},
   "outputs": [],
   "source": [
    "train = train[train['Total_Stops']!=\"4 stops\"]"
   ]
  },
  {
   "cell_type": "code",
   "execution_count": 64,
   "metadata": {},
   "outputs": [
    {
     "data": {
      "text/plain": [
       "1 stop      1427\n",
       "non-stop     846\n",
       "2 stops      360\n",
       "3 stops       11\n",
       "4 stops        1\n",
       "Name: Total_Stops, dtype: int64"
      ]
     },
     "execution_count": 64,
     "metadata": {},
     "output_type": "execute_result"
    }
   ],
   "source": [
    "test['Total_Stops'].value_counts()"
   ]
  },
  {
   "attachments": {},
   "cell_type": "markdown",
   "metadata": {},
   "source": [
    "Since there is only one record for \"4 stops\" we will drop it."
   ]
  },
  {
   "cell_type": "code",
   "execution_count": 65,
   "metadata": {},
   "outputs": [],
   "source": [
    "test = test[test['Total_Stops']!=\"4 stops\"]"
   ]
  },
  {
   "cell_type": "code",
   "execution_count": 66,
   "metadata": {},
   "outputs": [
    {
     "data": {
      "text/html": [
       "<div>\n",
       "<style scoped>\n",
       "    .dataframe tbody tr th:only-of-type {\n",
       "        vertical-align: middle;\n",
       "    }\n",
       "\n",
       "    .dataframe tbody tr th {\n",
       "        vertical-align: top;\n",
       "    }\n",
       "\n",
       "    .dataframe thead th {\n",
       "        text-align: right;\n",
       "    }\n",
       "</style>\n",
       "<table border=\"1\" class=\"dataframe\">\n",
       "  <thead>\n",
       "    <tr style=\"text-align: right;\">\n",
       "      <th></th>\n",
       "      <th>Airline</th>\n",
       "      <th>Total_Stops</th>\n",
       "      <th>Price</th>\n",
       "    </tr>\n",
       "  </thead>\n",
       "  <tbody>\n",
       "    <tr>\n",
       "      <th>0</th>\n",
       "      <td>SpiceJet</td>\n",
       "      <td>non-stop</td>\n",
       "      <td>3800.04</td>\n",
       "    </tr>\n",
       "    <tr>\n",
       "      <th>1</th>\n",
       "      <td>Air Asia</td>\n",
       "      <td>non-stop</td>\n",
       "      <td>4492.39</td>\n",
       "    </tr>\n",
       "    <tr>\n",
       "      <th>2</th>\n",
       "      <td>IndiGo</td>\n",
       "      <td>non-stop</td>\n",
       "      <td>4714.87</td>\n",
       "    </tr>\n",
       "    <tr>\n",
       "      <th>3</th>\n",
       "      <td>GoAir</td>\n",
       "      <td>non-stop</td>\n",
       "      <td>4726.17</td>\n",
       "    </tr>\n",
       "    <tr>\n",
       "      <th>4</th>\n",
       "      <td>Air India</td>\n",
       "      <td>non-stop</td>\n",
       "      <td>5600.55</td>\n",
       "    </tr>\n",
       "    <tr>\n",
       "      <th>5</th>\n",
       "      <td>Jet Airways</td>\n",
       "      <td>non-stop</td>\n",
       "      <td>6173.38</td>\n",
       "    </tr>\n",
       "    <tr>\n",
       "      <th>6</th>\n",
       "      <td>Vistara</td>\n",
       "      <td>non-stop</td>\n",
       "      <td>6322.57</td>\n",
       "    </tr>\n",
       "    <tr>\n",
       "      <th>7</th>\n",
       "      <td>Air Asia</td>\n",
       "      <td>2 stops</td>\n",
       "      <td>6341.89</td>\n",
       "    </tr>\n",
       "    <tr>\n",
       "      <th>8</th>\n",
       "      <td>SpiceJet</td>\n",
       "      <td>1 stop</td>\n",
       "      <td>6750.56</td>\n",
       "    </tr>\n",
       "    <tr>\n",
       "      <th>9</th>\n",
       "      <td>GoAir</td>\n",
       "      <td>1 stop</td>\n",
       "      <td>6884.68</td>\n",
       "    </tr>\n",
       "    <tr>\n",
       "      <th>10</th>\n",
       "      <td>Air Asia</td>\n",
       "      <td>1 stop</td>\n",
       "      <td>7078.33</td>\n",
       "    </tr>\n",
       "    <tr>\n",
       "      <th>11</th>\n",
       "      <td>IndiGo</td>\n",
       "      <td>1 stop</td>\n",
       "      <td>7104.72</td>\n",
       "    </tr>\n",
       "    <tr>\n",
       "      <th>12</th>\n",
       "      <td>IndiGo</td>\n",
       "      <td>2 stops</td>\n",
       "      <td>7507.53</td>\n",
       "    </tr>\n",
       "    <tr>\n",
       "      <th>13</th>\n",
       "      <td>Air India</td>\n",
       "      <td>1 stop</td>\n",
       "      <td>9041.51</td>\n",
       "    </tr>\n",
       "    <tr>\n",
       "      <th>14</th>\n",
       "      <td>Vistara</td>\n",
       "      <td>1 stop</td>\n",
       "      <td>9641.15</td>\n",
       "    </tr>\n",
       "    <tr>\n",
       "      <th>15</th>\n",
       "      <td>Multiple carriers</td>\n",
       "      <td>1 stop</td>\n",
       "      <td>10719.26</td>\n",
       "    </tr>\n",
       "    <tr>\n",
       "      <th>16</th>\n",
       "      <td>Air India</td>\n",
       "      <td>2 stops</td>\n",
       "      <td>12140.22</td>\n",
       "    </tr>\n",
       "    <tr>\n",
       "      <th>17</th>\n",
       "      <td>Air India</td>\n",
       "      <td>3 stops</td>\n",
       "      <td>12339.06</td>\n",
       "    </tr>\n",
       "    <tr>\n",
       "      <th>18</th>\n",
       "      <td>Jet Airways</td>\n",
       "      <td>1 stop</td>\n",
       "      <td>12592.03</td>\n",
       "    </tr>\n",
       "    <tr>\n",
       "      <th>19</th>\n",
       "      <td>Jet Airways</td>\n",
       "      <td>2 stops</td>\n",
       "      <td>13679.83</td>\n",
       "    </tr>\n",
       "    <tr>\n",
       "      <th>20</th>\n",
       "      <td>Multiple carriers</td>\n",
       "      <td>2 stops</td>\n",
       "      <td>14809.40</td>\n",
       "    </tr>\n",
       "    <tr>\n",
       "      <th>21</th>\n",
       "      <td>Multiple carriers</td>\n",
       "      <td>3 stops</td>\n",
       "      <td>17292.75</td>\n",
       "    </tr>\n",
       "  </tbody>\n",
       "</table>\n",
       "</div>"
      ],
      "text/plain": [
       "              Airline Total_Stops     Price\n",
       "0            SpiceJet    non-stop   3800.04\n",
       "1            Air Asia    non-stop   4492.39\n",
       "2              IndiGo    non-stop   4714.87\n",
       "3               GoAir    non-stop   4726.17\n",
       "4           Air India    non-stop   5600.55\n",
       "5         Jet Airways    non-stop   6173.38\n",
       "6             Vistara    non-stop   6322.57\n",
       "7            Air Asia     2 stops   6341.89\n",
       "8            SpiceJet      1 stop   6750.56\n",
       "9               GoAir      1 stop   6884.68\n",
       "10           Air Asia      1 stop   7078.33\n",
       "11             IndiGo      1 stop   7104.72\n",
       "12             IndiGo     2 stops   7507.53\n",
       "13          Air India      1 stop   9041.51\n",
       "14            Vistara      1 stop   9641.15\n",
       "15  Multiple carriers      1 stop  10719.26\n",
       "16          Air India     2 stops  12140.22\n",
       "17          Air India     3 stops  12339.06\n",
       "18        Jet Airways      1 stop  12592.03\n",
       "19        Jet Airways     2 stops  13679.83\n",
       "20  Multiple carriers     2 stops  14809.40\n",
       "21  Multiple carriers     3 stops  17292.75"
      ]
     },
     "execution_count": 66,
     "metadata": {},
     "output_type": "execute_result"
    }
   ],
   "source": [
    "# Total_Stops\n",
    "total_stops_avg_price = train.groupby(['Airline', 'Total_Stops'])['Price'].mean().round(2).sort_values(ascending=True).reset_index()\n",
    "total_stops_avg_price"
   ]
  },
  {
   "cell_type": "code",
   "execution_count": 67,
   "metadata": {},
   "outputs": [
    {
     "data": {
      "image/png": "[encoded data removed]",
      "text/plain": [
       "<Figure size 1200x600 with 1 Axes>"
      ]
     },
     "metadata": {},
     "output_type": "display_data"
    }
   ],
   "source": [
    "# Let's visualize above data\n",
    "fig = plt.figure(figsize=(12,6))\n",
    "\n",
    "ax1 = fig.add_subplot(111)\n",
    "sns.stripplot(x='Airline', y='Price', hue='Total_Stops', data=total_stops_avg_price, ax=ax1, size=10)\n",
    "plt.ylabel(\"Average Flight Prices\")\n",
    "plt.title(\"Airlines Flight Prices compared with Total Stops\")\n",
    "plt.show()"
   ]
  },
  {
   "attachments": {},
   "cell_type": "markdown",
   "metadata": {},
   "source": [
    "#### From above stripplot we observed that flight ticket prices are cheaper for \"non-stop\" travel and it increases with the no of stops."
   ]
  },
  {
   "cell_type": "markdown",
   "metadata": {},
   "source": [
    "### Feature Engineering"
   ]
  },
  {
   "cell_type": "code",
   "execution_count": 68,
   "metadata": {},
   "outputs": [
    {
     "data": {
      "text/html": [
       "<div>\n",
       "<style scoped>\n",
       "    .dataframe tbody tr th:only-of-type {\n",
       "        vertical-align: middle;\n",
       "    }\n",
       "\n",
       "    .dataframe tbody tr th {\n",
       "        vertical-align: top;\n",
       "    }\n",
       "\n",
       "    .dataframe thead th {\n",
       "        text-align: right;\n",
       "    }\n",
       "</style>\n",
       "<table border=\"1\" class=\"dataframe\">\n",
       "  <thead>\n",
       "    <tr style=\"text-align: right;\">\n",
       "      <th></th>\n",
       "      <th>Airline</th>\n",
       "      <th>Source</th>\n",
       "      <th>Destination</th>\n",
       "      <th>Route</th>\n",
       "      <th>Total_Stops</th>\n",
       "      <th>Additional_Info</th>\n",
       "      <th>Price</th>\n",
       "      <th>Date</th>\n",
       "      <th>Month</th>\n",
       "      <th>Dep_Hour</th>\n",
       "      <th>Dep_Min</th>\n",
       "      <th>Arrival_Hour</th>\n",
       "      <th>Arrival_Min</th>\n",
       "      <th>Total_Travel_Time_Hour</th>\n",
       "    </tr>\n",
       "  </thead>\n",
       "  <tbody>\n",
       "    <tr>\n",
       "      <th>0</th>\n",
       "      <td>IndiGo</td>\n",
       "      <td>Banglore</td>\n",
       "      <td>Delhi</td>\n",
       "      <td>BLR → DEL</td>\n",
       "      <td>non-stop</td>\n",
       "      <td>No info</td>\n",
       "      <td>3897</td>\n",
       "      <td>24</td>\n",
       "      <td>3</td>\n",
       "      <td>22</td>\n",
       "      <td>20</td>\n",
       "      <td>1</td>\n",
       "      <td>10</td>\n",
       "      <td>2.833</td>\n",
       "    </tr>\n",
       "    <tr>\n",
       "      <th>1</th>\n",
       "      <td>Air India</td>\n",
       "      <td>Kolkata</td>\n",
       "      <td>Banglore</td>\n",
       "      <td>CCU → IXR → BBI → BLR</td>\n",
       "      <td>2 stops</td>\n",
       "      <td>No info</td>\n",
       "      <td>7662</td>\n",
       "      <td>1</td>\n",
       "      <td>5</td>\n",
       "      <td>5</td>\n",
       "      <td>50</td>\n",
       "      <td>13</td>\n",
       "      <td>15</td>\n",
       "      <td>7.417</td>\n",
       "    </tr>\n",
       "  </tbody>\n",
       "</table>\n",
       "</div>"
      ],
      "text/plain": [
       "     Airline    Source Destination                  Route Total_Stops  \\\n",
       "0     IndiGo  Banglore       Delhi              BLR → DEL    non-stop   \n",
       "1  Air India   Kolkata    Banglore  CCU → IXR → BBI → BLR     2 stops   \n",
       "\n",
       "  Additional_Info  Price  Date  Month  Dep_Hour  Dep_Min  Arrival_Hour  \\\n",
       "0         No info   3897    24      3        22       20             1   \n",
       "1         No info   7662     1      5         5       50            13   \n",
       "\n",
       "   Arrival_Min  Total_Travel_Time_Hour  \n",
       "0           10                   2.833  \n",
       "1           15                   7.417  "
      ]
     },
     "execution_count": 68,
     "metadata": {},
     "output_type": "execute_result"
    }
   ],
   "source": [
    "train.head(2)"
   ]
  },
  {
   "cell_type": "code",
   "execution_count": 69,
   "metadata": {},
   "outputs": [],
   "source": [
    "# Converting categorical data into numerical using Label Encoder\n",
    "from sklearn.preprocessing import LabelEncoder\n",
    "le = LabelEncoder()"
   ]
  },
  {
   "cell_type": "code",
   "execution_count": 70,
   "metadata": {},
   "outputs": [],
   "source": [
    "# Airline\n",
    "train['Airline'] = le.fit_transform(train['Airline'])\n",
    "\n",
    "# Source\n",
    "train['Source'] = le.fit_transform(train['Source'])\n",
    "\n",
    "# Destination\n",
    "train['Destination'] = le.fit_transform(train['Destination'])\n",
    "\n",
    "# Route\n",
    "train['Route'] = le.fit_transform(train['Route'])\n",
    "\n",
    "# Total_Stops\n",
    "train['Total_Stops'] = train['Total_Stops'].map({'non-stop':0, '1 stop':1, '2 stops':2, '3 stops':3})\n",
    "\n",
    "# Additional_Info\n",
    "train['Additional_Info'] = le.fit_transform(train['Additional_Info'])"
   ]
  },
  {
   "cell_type": "code",
   "execution_count": 71,
   "metadata": {},
   "outputs": [
    {
     "data": {
      "text/plain": [
       "Airline                     int32\n",
       "Source                      int32\n",
       "Destination                 int32\n",
       "Route                       int32\n",
       "Total_Stops                 int64\n",
       "Additional_Info             int32\n",
       "Price                       int64\n",
       "Date                        int32\n",
       "Month                       int32\n",
       "Dep_Hour                    int32\n",
       "Dep_Min                     int32\n",
       "Arrival_Hour                int32\n",
       "Arrival_Min                 int32\n",
       "Total_Travel_Time_Hour    float64\n",
       "dtype: object"
      ]
     },
     "execution_count": 71,
     "metadata": {},
     "output_type": "execute_result"
    }
   ],
   "source": [
    "# check datatypes\n",
    "train.dtypes"
   ]
  },
  {
   "cell_type": "code",
   "execution_count": 72,
   "metadata": {},
   "outputs": [
    {
     "data": {
      "text/plain": [
       "Airline                   0\n",
       "Source                    0\n",
       "Destination               0\n",
       "Route                     0\n",
       "Total_Stops               0\n",
       "Additional_Info           0\n",
       "Price                     0\n",
       "Date                      0\n",
       "Month                     0\n",
       "Dep_Hour                  0\n",
       "Dep_Min                   0\n",
       "Arrival_Hour              0\n",
       "Arrival_Min               0\n",
       "Total_Travel_Time_Hour    0\n",
       "dtype: int64"
      ]
     },
     "execution_count": 72,
     "metadata": {},
     "output_type": "execute_result"
    }
   ],
   "source": [
    "# check for null/missing values\n",
    "train.isnull().sum()"
   ]
  },
  {
   "cell_type": "code",
   "execution_count": 73,
   "metadata": {},
   "outputs": [
    {
     "data": {
      "text/plain": [
       "0"
      ]
     },
     "execution_count": 73,
     "metadata": {},
     "output_type": "execute_result"
    }
   ],
   "source": [
    "# check for duplicate records\n",
    "train.duplicated().sum()"
   ]
  },
  {
   "cell_type": "code",
   "execution_count": 74,
   "metadata": {},
   "outputs": [
    {
     "data": {
      "text/html": [
       "<div>\n",
       "<style scoped>\n",
       "    .dataframe tbody tr th:only-of-type {\n",
       "        vertical-align: middle;\n",
       "    }\n",
       "\n",
       "    .dataframe tbody tr th {\n",
       "        vertical-align: top;\n",
       "    }\n",
       "\n",
       "    .dataframe thead th {\n",
       "        text-align: right;\n",
       "    }\n",
       "</style>\n",
       "<table border=\"1\" class=\"dataframe\">\n",
       "  <thead>\n",
       "    <tr style=\"text-align: right;\">\n",
       "      <th></th>\n",
       "      <th>Airline</th>\n",
       "      <th>Source</th>\n",
       "      <th>Destination</th>\n",
       "      <th>Route</th>\n",
       "      <th>Total_Stops</th>\n",
       "      <th>Additional_Info</th>\n",
       "      <th>Price</th>\n",
       "      <th>Date</th>\n",
       "      <th>Month</th>\n",
       "      <th>Dep_Hour</th>\n",
       "      <th>Dep_Min</th>\n",
       "      <th>Arrival_Hour</th>\n",
       "      <th>Arrival_Min</th>\n",
       "      <th>Total_Travel_Time_Hour</th>\n",
       "    </tr>\n",
       "  </thead>\n",
       "  <tbody>\n",
       "    <tr>\n",
       "      <th>0</th>\n",
       "      <td>3</td>\n",
       "      <td>0</td>\n",
       "      <td>2</td>\n",
       "      <td>17</td>\n",
       "      <td>0</td>\n",
       "      <td>8</td>\n",
       "      <td>3897</td>\n",
       "      <td>24</td>\n",
       "      <td>3</td>\n",
       "      <td>22</td>\n",
       "      <td>20</td>\n",
       "      <td>1</td>\n",
       "      <td>10</td>\n",
       "      <td>2.833</td>\n",
       "    </tr>\n",
       "    <tr>\n",
       "      <th>1</th>\n",
       "      <td>1</td>\n",
       "      <td>3</td>\n",
       "      <td>0</td>\n",
       "      <td>82</td>\n",
       "      <td>2</td>\n",
       "      <td>8</td>\n",
       "      <td>7662</td>\n",
       "      <td>1</td>\n",
       "      <td>5</td>\n",
       "      <td>5</td>\n",
       "      <td>50</td>\n",
       "      <td>13</td>\n",
       "      <td>15</td>\n",
       "      <td>7.417</td>\n",
       "    </tr>\n",
       "  </tbody>\n",
       "</table>\n",
       "</div>"
      ],
      "text/plain": [
       "   Airline  Source  Destination  Route  Total_Stops  Additional_Info  Price  \\\n",
       "0        3       0            2     17            0                8   3897   \n",
       "1        1       3            0     82            2                8   7662   \n",
       "\n",
       "   Date  Month  Dep_Hour  Dep_Min  Arrival_Hour  Arrival_Min  \\\n",
       "0    24      3        22       20             1           10   \n",
       "1     1      5         5       50            13           15   \n",
       "\n",
       "   Total_Travel_Time_Hour  \n",
       "0                   2.833  \n",
       "1                   7.417  "
      ]
     },
     "execution_count": 74,
     "metadata": {},
     "output_type": "execute_result"
    }
   ],
   "source": [
    "# check train data\n",
    "train.head(2)"
   ]
  },
  {
   "cell_type": "code",
   "execution_count": 75,
   "metadata": {},
   "outputs": [
    {
     "data": {
      "text/html": [
       "<div>\n",
       "<style scoped>\n",
       "    .dataframe tbody tr th:only-of-type {\n",
       "        vertical-align: middle;\n",
       "    }\n",
       "\n",
       "    .dataframe tbody tr th {\n",
       "        vertical-align: top;\n",
       "    }\n",
       "\n",
       "    .dataframe thead th {\n",
       "        text-align: right;\n",
       "    }\n",
       "</style>\n",
       "<table border=\"1\" class=\"dataframe\">\n",
       "  <thead>\n",
       "    <tr style=\"text-align: right;\">\n",
       "      <th></th>\n",
       "      <th>Airline</th>\n",
       "      <th>Source</th>\n",
       "      <th>Destination</th>\n",
       "      <th>Route</th>\n",
       "      <th>Total_Stops</th>\n",
       "      <th>Additional_Info</th>\n",
       "      <th>Date</th>\n",
       "      <th>Month</th>\n",
       "      <th>Dep_Hour</th>\n",
       "      <th>Dep_Min</th>\n",
       "      <th>Arrival_Hour</th>\n",
       "      <th>Arrival_Min</th>\n",
       "      <th>Total_Travel_Time_Hour</th>\n",
       "    </tr>\n",
       "  </thead>\n",
       "  <tbody>\n",
       "    <tr>\n",
       "      <th>0</th>\n",
       "      <td>Jet Airways</td>\n",
       "      <td>Delhi</td>\n",
       "      <td>Cochin</td>\n",
       "      <td>DEL → BOM → COK</td>\n",
       "      <td>1 stop</td>\n",
       "      <td>No info</td>\n",
       "      <td>6</td>\n",
       "      <td>6</td>\n",
       "      <td>17</td>\n",
       "      <td>30</td>\n",
       "      <td>4</td>\n",
       "      <td>25</td>\n",
       "      <td>10.917</td>\n",
       "    </tr>\n",
       "    <tr>\n",
       "      <th>1</th>\n",
       "      <td>IndiGo</td>\n",
       "      <td>Kolkata</td>\n",
       "      <td>Banglore</td>\n",
       "      <td>CCU → MAA → BLR</td>\n",
       "      <td>1 stop</td>\n",
       "      <td>No info</td>\n",
       "      <td>12</td>\n",
       "      <td>5</td>\n",
       "      <td>6</td>\n",
       "      <td>20</td>\n",
       "      <td>10</td>\n",
       "      <td>20</td>\n",
       "      <td>4.000</td>\n",
       "    </tr>\n",
       "  </tbody>\n",
       "</table>\n",
       "</div>"
      ],
      "text/plain": [
       "       Airline   Source Destination            Route Total_Stops  \\\n",
       "0  Jet Airways    Delhi      Cochin  DEL → BOM → COK      1 stop   \n",
       "1       IndiGo  Kolkata    Banglore  CCU → MAA → BLR      1 stop   \n",
       "\n",
       "  Additional_Info  Date  Month  Dep_Hour  Dep_Min  Arrival_Hour  Arrival_Min  \\\n",
       "0         No info     6      6        17       30             4           25   \n",
       "1         No info    12      5         6       20            10           20   \n",
       "\n",
       "   Total_Travel_Time_Hour  \n",
       "0                  10.917  \n",
       "1                   4.000  "
      ]
     },
     "execution_count": 75,
     "metadata": {},
     "output_type": "execute_result"
    }
   ],
   "source": [
    "test.head(2)"
   ]
  },
  {
   "cell_type": "code",
   "execution_count": 76,
   "metadata": {},
   "outputs": [],
   "source": [
    "# Airline\n",
    "test['Airline'] = le.fit_transform(test['Airline'])\n",
    "\n",
    "# Source\n",
    "test['Source'] = le.fit_transform(test['Source'])\n",
    "\n",
    "# Destination\n",
    "test['Destination'] = le.fit_transform(test['Destination'])\n",
    "\n",
    "# Route\n",
    "test['Route'] = le.fit_transform(test['Route'])\n",
    "\n",
    "# Total_Stops\n",
    "test['Total_Stops'] = test['Total_Stops'].map({'non-stop':0, '1 stop':1, '2 stops':2, '3 stops':3})\n",
    "\n",
    "# Additional_Info\n",
    "test['Additional_Info'] = le.fit_transform(test['Additional_Info'])"
   ]
  },
  {
   "cell_type": "code",
   "execution_count": 77,
   "metadata": {},
   "outputs": [
    {
     "data": {
      "text/plain": [
       "Airline                     int32\n",
       "Source                      int32\n",
       "Destination                 int32\n",
       "Route                       int32\n",
       "Total_Stops                 int64\n",
       "Additional_Info             int32\n",
       "Date                        int32\n",
       "Month                       int32\n",
       "Dep_Hour                    int32\n",
       "Dep_Min                     int32\n",
       "Arrival_Hour                int32\n",
       "Arrival_Min                 int32\n",
       "Total_Travel_Time_Hour    float64\n",
       "dtype: object"
      ]
     },
     "execution_count": 77,
     "metadata": {},
     "output_type": "execute_result"
    }
   ],
   "source": [
    "# check datatypes\n",
    "test.dtypes"
   ]
  },
  {
   "cell_type": "code",
   "execution_count": 78,
   "metadata": {},
   "outputs": [
    {
     "data": {
      "text/plain": [
       "Airline                   0\n",
       "Source                    0\n",
       "Destination               0\n",
       "Route                     0\n",
       "Total_Stops               0\n",
       "Additional_Info           0\n",
       "Date                      0\n",
       "Month                     0\n",
       "Dep_Hour                  0\n",
       "Dep_Min                   0\n",
       "Arrival_Hour              0\n",
       "Arrival_Min               0\n",
       "Total_Travel_Time_Hour    0\n",
       "dtype: int64"
      ]
     },
     "execution_count": 78,
     "metadata": {},
     "output_type": "execute_result"
    }
   ],
   "source": [
    "# check for null/missing values\n",
    "test.isnull().sum()"
   ]
  },
  {
   "cell_type": "code",
   "execution_count": 79,
   "metadata": {},
   "outputs": [
    {
     "data": {
      "text/plain": [
       "1"
      ]
     },
     "execution_count": 79,
     "metadata": {},
     "output_type": "execute_result"
    }
   ],
   "source": [
    "# check for duplicates\n",
    "test.duplicated().sum()"
   ]
  },
  {
   "cell_type": "code",
   "execution_count": 80,
   "metadata": {},
   "outputs": [],
   "source": [
    "# drop duplicates\n",
    "test = test.drop_duplicates()"
   ]
  },
  {
   "cell_type": "code",
   "execution_count": 81,
   "metadata": {},
   "outputs": [
    {
     "data": {
      "text/plain": [
       "0"
      ]
     },
     "execution_count": 81,
     "metadata": {},
     "output_type": "execute_result"
    }
   ],
   "source": [
    "# check for duplicates\n",
    "test.duplicated().sum()"
   ]
  },
  {
   "cell_type": "code",
   "execution_count": 82,
   "metadata": {},
   "outputs": [
    {
     "data": {
      "text/html": [
       "<div>\n",
       "<style scoped>\n",
       "    .dataframe tbody tr th:only-of-type {\n",
       "        vertical-align: middle;\n",
       "    }\n",
       "\n",
       "    .dataframe tbody tr th {\n",
       "        vertical-align: top;\n",
       "    }\n",
       "\n",
       "    .dataframe thead th {\n",
       "        text-align: right;\n",
       "    }\n",
       "</style>\n",
       "<table border=\"1\" class=\"dataframe\">\n",
       "  <thead>\n",
       "    <tr style=\"text-align: right;\">\n",
       "      <th></th>\n",
       "      <th>Airline</th>\n",
       "      <th>Source</th>\n",
       "      <th>Destination</th>\n",
       "      <th>Route</th>\n",
       "      <th>Total_Stops</th>\n",
       "      <th>Additional_Info</th>\n",
       "      <th>Date</th>\n",
       "      <th>Month</th>\n",
       "      <th>Dep_Hour</th>\n",
       "      <th>Dep_Min</th>\n",
       "      <th>Arrival_Hour</th>\n",
       "      <th>Arrival_Min</th>\n",
       "      <th>Total_Travel_Time_Hour</th>\n",
       "    </tr>\n",
       "  </thead>\n",
       "  <tbody>\n",
       "    <tr>\n",
       "      <th>0</th>\n",
       "      <td>4</td>\n",
       "      <td>2</td>\n",
       "      <td>1</td>\n",
       "      <td>75</td>\n",
       "      <td>1</td>\n",
       "      <td>5</td>\n",
       "      <td>6</td>\n",
       "      <td>6</td>\n",
       "      <td>17</td>\n",
       "      <td>30</td>\n",
       "      <td>4</td>\n",
       "      <td>25</td>\n",
       "      <td>10.917</td>\n",
       "    </tr>\n",
       "    <tr>\n",
       "      <th>1</th>\n",
       "      <td>3</td>\n",
       "      <td>3</td>\n",
       "      <td>0</td>\n",
       "      <td>64</td>\n",
       "      <td>1</td>\n",
       "      <td>5</td>\n",
       "      <td>12</td>\n",
       "      <td>5</td>\n",
       "      <td>6</td>\n",
       "      <td>20</td>\n",
       "      <td>10</td>\n",
       "      <td>20</td>\n",
       "      <td>4.000</td>\n",
       "    </tr>\n",
       "  </tbody>\n",
       "</table>\n",
       "</div>"
      ],
      "text/plain": [
       "   Airline  Source  Destination  Route  Total_Stops  Additional_Info  Date  \\\n",
       "0        4       2            1     75            1                5     6   \n",
       "1        3       3            0     64            1                5    12   \n",
       "\n",
       "   Month  Dep_Hour  Dep_Min  Arrival_Hour  Arrival_Min  Total_Travel_Time_Hour  \n",
       "0      6        17       30             4           25                  10.917  \n",
       "1      5         6       20            10           20                   4.000  "
      ]
     },
     "execution_count": 82,
     "metadata": {},
     "output_type": "execute_result"
    }
   ],
   "source": [
    "# check the test data\n",
    "test.head(2)"
   ]
  },
  {
   "cell_type": "code",
   "execution_count": 83,
   "metadata": {},
   "outputs": [],
   "source": [
    "# save the datasets\n",
    "train.to_csv(\"final_train.csv\")\n",
    "test.to_csv(\"final_test.csv\")"
   ]
  },
  {
   "cell_type": "code",
   "execution_count": 84,
   "metadata": {},
   "outputs": [
    {
     "data": {
      "text/html": [
       "<div>\n",
       "<style scoped>\n",
       "    .dataframe tbody tr th:only-of-type {\n",
       "        vertical-align: middle;\n",
       "    }\n",
       "\n",
       "    .dataframe tbody tr th {\n",
       "        vertical-align: top;\n",
       "    }\n",
       "\n",
       "    .dataframe thead th {\n",
       "        text-align: right;\n",
       "    }\n",
       "</style>\n",
       "<table border=\"1\" class=\"dataframe\">\n",
       "  <thead>\n",
       "    <tr style=\"text-align: right;\">\n",
       "      <th></th>\n",
       "      <th>Airline</th>\n",
       "      <th>Source</th>\n",
       "      <th>Destination</th>\n",
       "      <th>Route</th>\n",
       "      <th>Total_Stops</th>\n",
       "      <th>Additional_Info</th>\n",
       "      <th>Price</th>\n",
       "      <th>Date</th>\n",
       "      <th>Month</th>\n",
       "      <th>Dep_Hour</th>\n",
       "      <th>Dep_Min</th>\n",
       "      <th>Arrival_Hour</th>\n",
       "      <th>Arrival_Min</th>\n",
       "      <th>Total_Travel_Time_Hour</th>\n",
       "    </tr>\n",
       "  </thead>\n",
       "  <tbody>\n",
       "    <tr>\n",
       "      <th>Airline</th>\n",
       "      <td>1.000000</td>\n",
       "      <td>-0.005676</td>\n",
       "      <td>0.051238</td>\n",
       "      <td>0.033920</td>\n",
       "      <td>-0.166976</td>\n",
       "      <td>-0.158482</td>\n",
       "      <td>0.032589</td>\n",
       "      <td>0.026456</td>\n",
       "      <td>0.037944</td>\n",
       "      <td>-0.021075</td>\n",
       "      <td>-0.065750</td>\n",
       "      <td>-0.016221</td>\n",
       "      <td>-0.099816</td>\n",
       "      <td>-0.124903</td>\n",
       "    </tr>\n",
       "    <tr>\n",
       "      <th>Source</th>\n",
       "      <td>-0.005676</td>\n",
       "      <td>1.000000</td>\n",
       "      <td>-0.432859</td>\n",
       "      <td>0.400387</td>\n",
       "      <td>0.194860</td>\n",
       "      <td>-0.021972</td>\n",
       "      <td>0.014072</td>\n",
       "      <td>0.005356</td>\n",
       "      <td>0.180793</td>\n",
       "      <td>0.060571</td>\n",
       "      <td>-0.056373</td>\n",
       "      <td>0.027591</td>\n",
       "      <td>0.021081</td>\n",
       "      <td>0.163152</td>\n",
       "    </tr>\n",
       "    <tr>\n",
       "      <th>Destination</th>\n",
       "      <td>0.051238</td>\n",
       "      <td>-0.432859</td>\n",
       "      <td>1.000000</td>\n",
       "      <td>-0.223223</td>\n",
       "      <td>-0.423495</td>\n",
       "      <td>0.071717</td>\n",
       "      <td>-0.260743</td>\n",
       "      <td>0.003851</td>\n",
       "      <td>-0.149400</td>\n",
       "      <td>-0.089285</td>\n",
       "      <td>0.097001</td>\n",
       "      <td>-0.061377</td>\n",
       "      <td>0.007485</td>\n",
       "      <td>-0.383874</td>\n",
       "    </tr>\n",
       "    <tr>\n",
       "      <th>Route</th>\n",
       "      <td>0.033920</td>\n",
       "      <td>0.400387</td>\n",
       "      <td>-0.223223</td>\n",
       "      <td>1.000000</td>\n",
       "      <td>0.442930</td>\n",
       "      <td>0.042612</td>\n",
       "      <td>0.155373</td>\n",
       "      <td>0.079446</td>\n",
       "      <td>0.234397</td>\n",
       "      <td>-0.076288</td>\n",
       "      <td>-0.069948</td>\n",
       "      <td>0.020633</td>\n",
       "      <td>-0.175486</td>\n",
       "      <td>0.273140</td>\n",
       "    </tr>\n",
       "    <tr>\n",
       "      <th>Total_Stops</th>\n",
       "      <td>-0.166976</td>\n",
       "      <td>0.194860</td>\n",
       "      <td>-0.423495</td>\n",
       "      <td>0.442930</td>\n",
       "      <td>1.000000</td>\n",
       "      <td>-0.077917</td>\n",
       "      <td>0.601796</td>\n",
       "      <td>-0.018407</td>\n",
       "      <td>0.039486</td>\n",
       "      <td>-0.066737</td>\n",
       "      <td>-0.003195</td>\n",
       "      <td>0.051168</td>\n",
       "      <td>-0.107329</td>\n",
       "      <td>0.727998</td>\n",
       "    </tr>\n",
       "    <tr>\n",
       "      <th>Additional_Info</th>\n",
       "      <td>-0.158482</td>\n",
       "      <td>-0.021972</td>\n",
       "      <td>0.071717</td>\n",
       "      <td>0.042612</td>\n",
       "      <td>-0.077917</td>\n",
       "      <td>1.000000</td>\n",
       "      <td>-0.068227</td>\n",
       "      <td>-0.016849</td>\n",
       "      <td>-0.049397</td>\n",
       "      <td>-0.059991</td>\n",
       "      <td>-0.015423</td>\n",
       "      <td>0.021339</td>\n",
       "      <td>0.044380</td>\n",
       "      <td>-0.169236</td>\n",
       "    </tr>\n",
       "    <tr>\n",
       "      <th>Price</th>\n",
       "      <td>0.032589</td>\n",
       "      <td>0.014072</td>\n",
       "      <td>-0.260743</td>\n",
       "      <td>0.155373</td>\n",
       "      <td>0.601796</td>\n",
       "      <td>-0.068227</td>\n",
       "      <td>1.000000</td>\n",
       "      <td>-0.158843</td>\n",
       "      <td>-0.113547</td>\n",
       "      <td>0.005637</td>\n",
       "      <td>-0.024567</td>\n",
       "      <td>0.030949</td>\n",
       "      <td>-0.086293</td>\n",
       "      <td>0.501354</td>\n",
       "    </tr>\n",
       "    <tr>\n",
       "      <th>Date</th>\n",
       "      <td>0.026456</td>\n",
       "      <td>0.005356</td>\n",
       "      <td>0.003851</td>\n",
       "      <td>0.079446</td>\n",
       "      <td>-0.018407</td>\n",
       "      <td>-0.016849</td>\n",
       "      <td>-0.158843</td>\n",
       "      <td>1.000000</td>\n",
       "      <td>-0.038705</td>\n",
       "      <td>-0.003564</td>\n",
       "      <td>-0.004825</td>\n",
       "      <td>-0.002446</td>\n",
       "      <td>-0.015192</td>\n",
       "      <td>-0.029707</td>\n",
       "    </tr>\n",
       "    <tr>\n",
       "      <th>Month</th>\n",
       "      <td>0.037944</td>\n",
       "      <td>0.180793</td>\n",
       "      <td>-0.149400</td>\n",
       "      <td>0.234397</td>\n",
       "      <td>0.039486</td>\n",
       "      <td>-0.049397</td>\n",
       "      <td>-0.113547</td>\n",
       "      <td>-0.038705</td>\n",
       "      <td>1.000000</td>\n",
       "      <td>0.040716</td>\n",
       "      <td>-0.062698</td>\n",
       "      <td>0.000907</td>\n",
       "      <td>-0.099682</td>\n",
       "      <td>0.004857</td>\n",
       "    </tr>\n",
       "    <tr>\n",
       "      <th>Dep_Hour</th>\n",
       "      <td>-0.021075</td>\n",
       "      <td>0.060571</td>\n",
       "      <td>-0.089285</td>\n",
       "      <td>-0.076288</td>\n",
       "      <td>-0.066737</td>\n",
       "      <td>-0.059991</td>\n",
       "      <td>0.005637</td>\n",
       "      <td>-0.003564</td>\n",
       "      <td>0.040716</td>\n",
       "      <td>1.000000</td>\n",
       "      <td>-0.014856</td>\n",
       "      <td>-0.003269</td>\n",
       "      <td>0.073313</td>\n",
       "      <td>-0.000796</td>\n",
       "    </tr>\n",
       "    <tr>\n",
       "      <th>Dep_Min</th>\n",
       "      <td>-0.065750</td>\n",
       "      <td>-0.056373</td>\n",
       "      <td>0.097001</td>\n",
       "      <td>-0.069948</td>\n",
       "      <td>-0.003195</td>\n",
       "      <td>-0.015423</td>\n",
       "      <td>-0.024567</td>\n",
       "      <td>-0.004825</td>\n",
       "      <td>-0.062698</td>\n",
       "      <td>-0.014856</td>\n",
       "      <td>1.000000</td>\n",
       "      <td>0.046462</td>\n",
       "      <td>-0.021431</td>\n",
       "      <td>-0.019515</td>\n",
       "    </tr>\n",
       "    <tr>\n",
       "      <th>Arrival_Hour</th>\n",
       "      <td>-0.016221</td>\n",
       "      <td>0.027591</td>\n",
       "      <td>-0.061377</td>\n",
       "      <td>0.020633</td>\n",
       "      <td>0.051168</td>\n",
       "      <td>0.021339</td>\n",
       "      <td>0.030949</td>\n",
       "      <td>-0.002446</td>\n",
       "      <td>0.000907</td>\n",
       "      <td>-0.003269</td>\n",
       "      <td>0.046462</td>\n",
       "      <td>1.000000</td>\n",
       "      <td>-0.152463</td>\n",
       "      <td>0.061638</td>\n",
       "    </tr>\n",
       "    <tr>\n",
       "      <th>Arrival_Min</th>\n",
       "      <td>-0.099816</td>\n",
       "      <td>0.021081</td>\n",
       "      <td>0.007485</td>\n",
       "      <td>-0.175486</td>\n",
       "      <td>-0.107329</td>\n",
       "      <td>0.044380</td>\n",
       "      <td>-0.086293</td>\n",
       "      <td>-0.015192</td>\n",
       "      <td>-0.099682</td>\n",
       "      <td>0.073313</td>\n",
       "      <td>-0.021431</td>\n",
       "      <td>-0.152463</td>\n",
       "      <td>1.000000</td>\n",
       "      <td>-0.071146</td>\n",
       "    </tr>\n",
       "    <tr>\n",
       "      <th>Total_Travel_Time_Hour</th>\n",
       "      <td>-0.124903</td>\n",
       "      <td>0.163152</td>\n",
       "      <td>-0.383874</td>\n",
       "      <td>0.273140</td>\n",
       "      <td>0.727998</td>\n",
       "      <td>-0.169236</td>\n",
       "      <td>0.501354</td>\n",
       "      <td>-0.029707</td>\n",
       "      <td>0.004857</td>\n",
       "      <td>-0.000796</td>\n",
       "      <td>-0.019515</td>\n",
       "      <td>0.061638</td>\n",
       "      <td>-0.071146</td>\n",
       "      <td>1.000000</td>\n",
       "    </tr>\n",
       "  </tbody>\n",
       "</table>\n",
       "</div>"
      ],
      "text/plain": [
       "                         Airline    Source  Destination     Route  \\\n",
       "Airline                 1.000000 -0.005676     0.051238  0.033920   \n",
       "Source                 -0.005676  1.000000    -0.432859  0.400387   \n",
       "Destination             0.051238 -0.432859     1.000000 -0.223223   \n",
       "Route                   0.033920  0.400387    -0.223223  1.000000   \n",
       "Total_Stops            -0.166976  0.194860    -0.423495  0.442930   \n",
       "Additional_Info        -0.158482 -0.021972     0.071717  0.042612   \n",
       "Price                   0.032589  0.014072    -0.260743  0.155373   \n",
       "Date                    0.026456  0.005356     0.003851  0.079446   \n",
       "Month                   0.037944  0.180793    -0.149400  0.234397   \n",
       "Dep_Hour               -0.021075  0.060571    -0.089285 -0.076288   \n",
       "Dep_Min                -0.065750 -0.056373     0.097001 -0.069948   \n",
       "Arrival_Hour           -0.016221  0.027591    -0.061377  0.020633   \n",
       "Arrival_Min            -0.099816  0.021081     0.007485 -0.175486   \n",
       "Total_Travel_Time_Hour -0.124903  0.163152    -0.383874  0.273140   \n",
       "\n",
       "                        Total_Stops  Additional_Info     Price      Date  \\\n",
       "Airline                   -0.166976        -0.158482  0.032589  0.026456   \n",
       "Source                     0.194860        -0.021972  0.014072  0.005356   \n",
       "Destination               -0.423495         0.071717 -0.260743  0.003851   \n",
       "Route                      0.442930         0.042612  0.155373  0.079446   \n",
       "Total_Stops                1.000000        -0.077917  0.601796 -0.018407   \n",
       "Additional_Info           -0.077917         1.000000 -0.068227 -0.016849   \n",
       "Price                      0.601796        -0.068227  1.000000 -0.158843   \n",
       "Date                      -0.018407        -0.016849 -0.158843  1.000000   \n",
       "Month                      0.039486        -0.049397 -0.113547 -0.038705   \n",
       "Dep_Hour                  -0.066737        -0.059991  0.005637 -0.003564   \n",
       "Dep_Min                   -0.003195        -0.015423 -0.024567 -0.004825   \n",
       "Arrival_Hour               0.051168         0.021339  0.030949 -0.002446   \n",
       "Arrival_Min               -0.107329         0.044380 -0.086293 -0.015192   \n",
       "Total_Travel_Time_Hour     0.727998        -0.169236  0.501354 -0.029707   \n",
       "\n",
       "                           Month  Dep_Hour   Dep_Min  Arrival_Hour  \\\n",
       "Airline                 0.037944 -0.021075 -0.065750     -0.016221   \n",
       "Source                  0.180793  0.060571 -0.056373      0.027591   \n",
       "Destination            -0.149400 -0.089285  0.097001     -0.061377   \n",
       "Route                   0.234397 -0.076288 -0.069948      0.020633   \n",
       "Total_Stops             0.039486 -0.066737 -0.003195      0.051168   \n",
       "Additional_Info        -0.049397 -0.059991 -0.015423      0.021339   \n",
       "Price                  -0.113547  0.005637 -0.024567      0.030949   \n",
       "Date                   -0.038705 -0.003564 -0.004825     -0.002446   \n",
       "Month                   1.000000  0.040716 -0.062698      0.000907   \n",
       "Dep_Hour                0.040716  1.000000 -0.014856     -0.003269   \n",
       "Dep_Min                -0.062698 -0.014856  1.000000      0.046462   \n",
       "Arrival_Hour            0.000907 -0.003269  0.046462      1.000000   \n",
       "Arrival_Min            -0.099682  0.073313 -0.021431     -0.152463   \n",
       "Total_Travel_Time_Hour  0.004857 -0.000796 -0.019515      0.061638   \n",
       "\n",
       "                        Arrival_Min  Total_Travel_Time_Hour  \n",
       "Airline                   -0.099816               -0.124903  \n",
       "Source                     0.021081                0.163152  \n",
       "Destination                0.007485               -0.383874  \n",
       "Route                     -0.175486                0.273140  \n",
       "Total_Stops               -0.107329                0.727998  \n",
       "Additional_Info            0.044380               -0.169236  \n",
       "Price                     -0.086293                0.501354  \n",
       "Date                      -0.015192               -0.029707  \n",
       "Month                     -0.099682                0.004857  \n",
       "Dep_Hour                   0.073313               -0.000796  \n",
       "Dep_Min                   -0.021431               -0.019515  \n",
       "Arrival_Hour              -0.152463                0.061638  \n",
       "Arrival_Min                1.000000               -0.071146  \n",
       "Total_Travel_Time_Hour    -0.071146                1.000000  "
      ]
     },
     "execution_count": 84,
     "metadata": {},
     "output_type": "execute_result"
    }
   ],
   "source": [
    "# check for correlatin\n",
    "train.corr()"
   ]
  },
  {
   "cell_type": "code",
   "execution_count": 85,
   "metadata": {},
   "outputs": [
    {
     "data": {
      "image/png": "[encoded data removed]",
      "text/plain": [
       "<Figure size 1500x800 with 2 Axes>"
      ]
     },
     "metadata": {},
     "output_type": "display_data"
    }
   ],
   "source": [
    "plt.figure(figsize=(15,8))\n",
    "sns.heatmap(train.corr(), square=True, annot=True, annot_kws = {\"size\": 7}, linewidths=0.5)\n",
    "plt.show()"
   ]
  },
  {
   "cell_type": "code",
   "execution_count": 86,
   "metadata": {},
   "outputs": [],
   "source": [
    "# creating dependent and independent features\n",
    "X = train.drop(['Price'], axis=1)\n",
    "y = train['Price']"
   ]
  },
  {
   "cell_type": "code",
   "execution_count": 87,
   "metadata": {},
   "outputs": [],
   "source": [
    "# split the data into train and test set\n",
    "from sklearn.model_selection import train_test_split\n",
    "X_train, X_test, y_train, y_test = train_test_split(X, y, test_size=0.30, random_state=42)"
   ]
  },
  {
   "cell_type": "code",
   "execution_count": 88,
   "metadata": {},
   "outputs": [
    {
     "name": "stdout",
     "output_type": "stream",
     "text": [
      "X_train : (7321, 13)\n",
      "y_train : (7321,)\n",
      "X_test : (3138, 13)\n",
      "y_test : (3138,)\n"
     ]
    }
   ],
   "source": [
    "# check the shapes\n",
    "print(\"X_train :\", X_train.shape)\n",
    "print(\"y_train :\", y_train.shape)\n",
    "print(\"X_test :\", X_test.shape)\n",
    "print(\"y_test :\", y_test.shape)"
   ]
  },
  {
   "cell_type": "code",
   "execution_count": 89,
   "metadata": {},
   "outputs": [],
   "source": [
    "# Now we will scale the data\n",
    "from sklearn.preprocessing import StandardScaler\n",
    "ss = StandardScaler()"
   ]
  },
  {
   "cell_type": "code",
   "execution_count": 90,
   "metadata": {},
   "outputs": [],
   "source": [
    "# scaling training data\n",
    "X_train_scaled = ss.fit_transform(X_train)"
   ]
  },
  {
   "cell_type": "code",
   "execution_count": 91,
   "metadata": {},
   "outputs": [],
   "source": [
    "# scaling test data\n",
    "X_test_scaled = ss.transform(X_test)\n",
    "test_scaled = ss.transform(test)"
   ]
  },
  {
   "cell_type": "code",
   "execution_count": 92,
   "metadata": {},
   "outputs": [
    {
     "data": {
      "text/plain": [
       "array([[-0.93233429, -1.64803023,  0.8089755 , ...,  0.08231344,\n",
       "         0.32075329, -0.92705934],\n",
       "       [ 1.42885894, -0.80595671,  2.77495379, ..., -0.21085937,\n",
       "        -1.4791201 , -0.99698469],\n",
       "       [-2.1129309 ,  0.87819031, -1.1570028 , ..., -0.21085937,\n",
       "         1.82064778, -0.95704448],\n",
       "       ...,\n",
       "       [ 0.83856063,  0.0361168 , -0.17401365, ...,  0.81524548,\n",
       "        -1.4791201 ,  0.05249538],\n",
       "       [-0.34203598,  0.0361168 , -0.17401365, ..., -0.797205  ,\n",
       "         1.52066888, -0.87704411],\n",
       "       [ 0.24826233,  0.87819031, -1.1570028 , ..., -1.38355063,\n",
       "         0.92071109,  1.16194573]])"
      ]
     },
     "execution_count": 92,
     "metadata": {},
     "output_type": "execute_result"
    }
   ],
   "source": [
    "X_train_scaled"
   ]
  },
  {
   "cell_type": "code",
   "execution_count": 93,
   "metadata": {},
   "outputs": [
    {
     "data": {
      "text/plain": [
       "array([[ 0.24826233,  0.0361168 , -0.17401365, ...,  0.81524548,\n",
       "        -1.4791201 , -0.0674452 ],\n",
       "       [ 0.24826233, -1.64803023,  0.8089755 , ..., -0.50403219,\n",
       "         0.02077439,  0.12242073],\n",
       "       [ 0.24826233,  1.72026382,  1.79196464, ..., -0.797205  ,\n",
       "         0.62073219, -1.0968952 ],\n",
       "       ...,\n",
       "       [-1.52263259,  0.0361168 , -0.17401365, ...,  1.40159111,\n",
       "        -1.4791201 ,  0.32236168],\n",
       "       [ 0.24826233,  0.0361168 , -0.17401365, ..., -1.38355063,\n",
       "         0.02077439,  0.98203487],\n",
       "       [-1.52263259,  0.0361168 , -0.17401365, ..., -0.94379141,\n",
       "         0.92071109,  0.25243632]])"
      ]
     },
     "execution_count": 93,
     "metadata": {},
     "output_type": "execute_result"
    }
   ],
   "source": [
    "X_test_scaled"
   ]
  },
  {
   "cell_type": "code",
   "execution_count": 94,
   "metadata": {},
   "outputs": [
    {
     "data": {
      "text/plain": [
       "array([[ 0.24826233,  0.0361168 , -0.17401365, ..., -1.38355063,\n",
       "         0.02077439,  0.04254031],\n",
       "       [-0.34203598,  0.87819031, -1.1570028 , ..., -0.50403219,\n",
       "        -0.27920451, -0.78708868],\n",
       "       [ 0.24826233,  0.0361168 , -0.17401365, ...,  0.81524548,\n",
       "        -1.4791201 ,  1.58173776],\n",
       "       ...,\n",
       "       [ 0.24826233,  0.0361168 , -0.17401365, ..., -1.38355063,\n",
       "         0.02077439, -0.47728216],\n",
       "       [-1.52263259,  0.0361168 , -0.17401365, ...,  0.81524548,\n",
       "        -0.57918341,  0.56224284],\n",
       "       [ 0.83856063,  0.0361168 , -0.17401365, ...,  0.81524548,\n",
       "        -0.57918341,  0.45225733]])"
      ]
     },
     "execution_count": 94,
     "metadata": {},
     "output_type": "execute_result"
    }
   ],
   "source": [
    "test_scaled"
   ]
  },
  {
   "attachments": {},
   "cell_type": "markdown",
   "metadata": {},
   "source": [
    "### Model Training"
   ]
  },
  {
   "attachments": {},
   "cell_type": "markdown",
   "metadata": {},
   "source": [
    "#### RandomForestRegressor"
   ]
  },
  {
   "cell_type": "code",
   "execution_count": 95,
   "metadata": {},
   "outputs": [],
   "source": [
    "from sklearn.ensemble import RandomForestRegressor\n",
    "rf= RandomForestRegressor()"
   ]
  },
  {
   "cell_type": "code",
   "execution_count": 96,
   "metadata": {},
   "outputs": [
    {
     "data": {
      "text/html": [
       "<style>#sk-container-id-1 {color: black;background-color: white;}#sk-container-id-1 pre{padding: 0;}#sk-container-id-1 div.sk-toggleable {background-color: white;}#sk-container-id-1 label.sk-toggleable__label {cursor: pointer;display: block;width: 100%;margin-bottom: 0;padding: 0.3em;box-sizing: border-box;text-align: center;}#sk-container-id-1 label.sk-toggleable__label-arrow:before {content: \"▸\";float: left;margin-right: 0.25em;color: #696969;}#sk-container-id-1 label.sk-toggleable__label-arrow:hover:before {color: black;}#sk-container-id-1 div.sk-estimator:hover label.sk-toggleable__label-arrow:before {color: black;}#sk-container-id-1 div.sk-toggleable__content {max-height: 0;max-width: 0;overflow: hidden;text-align: left;background-color: #f0f8ff;}#sk-container-id-1 div.sk-toggleable__content pre {margin: 0.2em;color: black;border-radius: 0.25em;background-color: #f0f8ff;}#sk-container-id-1 input.sk-toggleable__control:checked~div.sk-toggleable__content {max-height: 200px;max-width: 100%;overflow: auto;}#sk-container-id-1 input.sk-toggleable__control:checked~label.sk-toggleable__label-arrow:before {content: \"▾\";}#sk-container-id-1 div.sk-estimator input.sk-toggleable__control:checked~label.sk-toggleable__label {background-color: #d4ebff;}#sk-container-id-1 div.sk-label input.sk-toggleable__control:checked~label.sk-toggleable__label {background-color: #d4ebff;}#sk-container-id-1 input.sk-hidden--visually {border: 0;clip: rect(1px 1px 1px 1px);clip: rect(1px, 1px, 1px, 1px);height: 1px;margin: -1px;overflow: hidden;padding: 0;position: absolute;width: 1px;}#sk-container-id-1 div.sk-estimator {font-family: monospace;background-color: #f0f8ff;border: 1px dotted black;border-radius: 0.25em;box-sizing: border-box;margin-bottom: 0.5em;}#sk-container-id-1 div.sk-estimator:hover {background-color: #d4ebff;}#sk-container-id-1 div.sk-parallel-item::after {content: \"\";width: 100%;border-bottom: 1px solid gray;flex-grow: 1;}#sk-container-id-1 div.sk-label:hover label.sk-toggleable__label {background-color: #d4ebff;}#sk-container-id-1 div.sk-serial::before {content: \"\";position: absolute;border-left: 1px solid gray;box-sizing: border-box;top: 0;bottom: 0;left: 50%;z-index: 0;}#sk-container-id-1 div.sk-serial {display: flex;flex-direction: column;align-items: center;background-color: white;padding-right: 0.2em;padding-left: 0.2em;position: relative;}#sk-container-id-1 div.sk-item {position: relative;z-index: 1;}#sk-container-id-1 div.sk-parallel {display: flex;align-items: stretch;justify-content: center;background-color: white;position: relative;}#sk-container-id-1 div.sk-item::before, #sk-container-id-1 div.sk-parallel-item::before {content: \"\";position: absolute;border-left: 1px solid gray;box-sizing: border-box;top: 0;bottom: 0;left: 50%;z-index: -1;}#sk-container-id-1 div.sk-parallel-item {display: flex;flex-direction: column;z-index: 1;position: relative;background-color: white;}#sk-container-id-1 div.sk-parallel-item:first-child::after {align-self: flex-end;width: 50%;}#sk-container-id-1 div.sk-parallel-item:last-child::after {align-self: flex-start;width: 50%;}#sk-container-id-1 div.sk-parallel-item:only-child::after {width: 0;}#sk-container-id-1 div.sk-dashed-wrapped {border: 1px dashed gray;margin: 0 0.4em 0.5em 0.4em;box-sizing: border-box;padding-bottom: 0.4em;background-color: white;}#sk-container-id-1 div.sk-label label {font-family: monospace;font-weight: bold;display: inline-block;line-height: 1.2em;}#sk-container-id-1 div.sk-label-container {text-align: center;}#sk-container-id-1 div.sk-container {/* jupyter's `normalize.less` sets `[hidden] { display: none; }` but bootstrap.min.css set `[hidden] { display: none !important; }` so we also need the `!important` here to be able to override the default hidden behavior on the sphinx rendered scikit-learn.org. See: https://github.com/scikit-learn/scikit-learn/issues/21755 */display: inline-block !important;position: relative;}#sk-container-id-1 div.sk-text-repr-fallback {display: none;}</style><div id=\"sk-container-id-1\" class=\"sk-top-container\"><div class=\"sk-text-repr-fallback\"><pre>RandomForestRegressor()</pre><b>In a Jupyter environment, please rerun this cell to show the HTML representation or trust the notebook. <br />On GitHub, the HTML representation is unable to render, please try loading this page with nbviewer.org.</b></div><div class=\"sk-container\" hidden><div class=\"sk-item\"><div class=\"sk-estimator sk-toggleable\"><input class=\"sk-toggleable__control sk-hidden--visually\" id=\"sk-estimator-id-1\" type=\"checkbox\" checked><label for=\"sk-estimator-id-1\" class=\"sk-toggleable__label sk-toggleable__label-arrow\">RandomForestRegressor</label><div class=\"sk-toggleable__content\"><pre>RandomForestRegressor()</pre></div></div></div></div></div>"
      ],
      "text/plain": [
       "RandomForestRegressor()"
      ]
     },
     "execution_count": 96,
     "metadata": {},
     "output_type": "execute_result"
    }
   ],
   "source": [
    "rf.fit(X_train_scaled, y_train)"
   ]
  },
  {
   "cell_type": "code",
   "execution_count": 97,
   "metadata": {},
   "outputs": [
    {
     "data": {
      "text/plain": [
       "0.9791664379048196"
      ]
     },
     "execution_count": 97,
     "metadata": {},
     "output_type": "execute_result"
    }
   ],
   "source": [
    "rf.score(X_train_scaled, y_train)"
   ]
  },
  {
   "cell_type": "code",
   "execution_count": 98,
   "metadata": {},
   "outputs": [],
   "source": [
    "rf_pred = rf.predict(X_test_scaled)"
   ]
  },
  {
   "cell_type": "code",
   "execution_count": 99,
   "metadata": {},
   "outputs": [],
   "source": [
    "# check model performance metrics\n",
    "from sklearn.metrics import r2_score, mean_squared_error"
   ]
  },
  {
   "cell_type": "code",
   "execution_count": 100,
   "metadata": {},
   "outputs": [
    {
     "name": "stdout",
     "output_type": "stream",
     "text": [
      "R2 Score: 0.9147657566274524\n",
      "RMSE: 1325.8788264419388\n"
     ]
    }
   ],
   "source": [
    "# r2 score\n",
    "print(\"R2 Score:\", r2_score(y_test, rf_pred))\n",
    "\n",
    "# RMSE\n",
    "print(\"RMSE:\", np.sqrt(mean_squared_error(y_test, rf_pred)))"
   ]
  },
  {
   "cell_type": "code",
   "execution_count": 101,
   "metadata": {},
   "outputs": [],
   "source": [
    "from xgboost import XGBRegressor\n",
    "xgb = XGBRegressor()"
   ]
  },
  {
   "cell_type": "code",
   "execution_count": 102,
   "metadata": {},
   "outputs": [
    {
     "data": {
      "text/html": [
       "<style>#sk-container-id-2 {color: black;background-color: white;}#sk-container-id-2 pre{padding: 0;}#sk-container-id-2 div.sk-toggleable {background-color: white;}#sk-container-id-2 label.sk-toggleable__label {cursor: pointer;display: block;width: 100%;margin-bottom: 0;padding: 0.3em;box-sizing: border-box;text-align: center;}#sk-container-id-2 label.sk-toggleable__label-arrow:before {content: \"▸\";float: left;margin-right: 0.25em;color: #696969;}#sk-container-id-2 label.sk-toggleable__label-arrow:hover:before {color: black;}#sk-container-id-2 div.sk-estimator:hover label.sk-toggleable__label-arrow:before {color: black;}#sk-container-id-2 div.sk-toggleable__content {max-height: 0;max-width: 0;overflow: hidden;text-align: left;background-color: #f0f8ff;}#sk-container-id-2 div.sk-toggleable__content pre {margin: 0.2em;color: black;border-radius: 0.25em;background-color: #f0f8ff;}#sk-container-id-2 input.sk-toggleable__control:checked~div.sk-toggleable__content {max-height: 200px;max-width: 100%;overflow: auto;}#sk-container-id-2 input.sk-toggleable__control:checked~label.sk-toggleable__label-arrow:before {content: \"▾\";}#sk-container-id-2 div.sk-estimator input.sk-toggleable__control:checked~label.sk-toggleable__label {background-color: #d4ebff;}#sk-container-id-2 div.sk-label input.sk-toggleable__control:checked~label.sk-toggleable__label {background-color: #d4ebff;}#sk-container-id-2 input.sk-hidden--visually {border: 0;clip: rect(1px 1px 1px 1px);clip: rect(1px, 1px, 1px, 1px);height: 1px;margin: -1px;overflow: hidden;padding: 0;position: absolute;width: 1px;}#sk-container-id-2 div.sk-estimator {font-family: monospace;background-color: #f0f8ff;border: 1px dotted black;border-radius: 0.25em;box-sizing: border-box;margin-bottom: 0.5em;}#sk-container-id-2 div.sk-estimator:hover {background-color: #d4ebff;}#sk-container-id-2 div.sk-parallel-item::after {content: \"\";width: 100%;border-bottom: 1px solid gray;flex-grow: 1;}#sk-container-id-2 div.sk-label:hover label.sk-toggleable__label {background-color: #d4ebff;}#sk-container-id-2 div.sk-serial::before {content: \"\";position: absolute;border-left: 1px solid gray;box-sizing: border-box;top: 0;bottom: 0;left: 50%;z-index: 0;}#sk-container-id-2 div.sk-serial {display: flex;flex-direction: column;align-items: center;background-color: white;padding-right: 0.2em;padding-left: 0.2em;position: relative;}#sk-container-id-2 div.sk-item {position: relative;z-index: 1;}#sk-container-id-2 div.sk-parallel {display: flex;align-items: stretch;justify-content: center;background-color: white;position: relative;}#sk-container-id-2 div.sk-item::before, #sk-container-id-2 div.sk-parallel-item::before {content: \"\";position: absolute;border-left: 1px solid gray;box-sizing: border-box;top: 0;bottom: 0;left: 50%;z-index: -1;}#sk-container-id-2 div.sk-parallel-item {display: flex;flex-direction: column;z-index: 1;position: relative;background-color: white;}#sk-container-id-2 div.sk-parallel-item:first-child::after {align-self: flex-end;width: 50%;}#sk-container-id-2 div.sk-parallel-item:last-child::after {align-self: flex-start;width: 50%;}#sk-container-id-2 div.sk-parallel-item:only-child::after {width: 0;}#sk-container-id-2 div.sk-dashed-wrapped {border: 1px dashed gray;margin: 0 0.4em 0.5em 0.4em;box-sizing: border-box;padding-bottom: 0.4em;background-color: white;}#sk-container-id-2 div.sk-label label {font-family: monospace;font-weight: bold;display: inline-block;line-height: 1.2em;}#sk-container-id-2 div.sk-label-container {text-align: center;}#sk-container-id-2 div.sk-container {/* jupyter's `normalize.less` sets `[hidden] { display: none; }` but bootstrap.min.css set `[hidden] { display: none !important; }` so we also need the `!important` here to be able to override the default hidden behavior on the sphinx rendered scikit-learn.org. See: https://github.com/scikit-learn/scikit-learn/issues/21755 */display: inline-block !important;position: relative;}#sk-container-id-2 div.sk-text-repr-fallback {display: none;}</style><div id=\"sk-container-id-2\" class=\"sk-top-container\"><div class=\"sk-text-repr-fallback\"><pre>XGBRegressor(base_score=0.5, booster=&#x27;gbtree&#x27;, callbacks=None,\n",
       "             colsample_bylevel=1, colsample_bynode=1, colsample_bytree=1,\n",
       "             early_stopping_rounds=None, enable_categorical=False,\n",
       "             eval_metric=None, gamma=0, gpu_id=-1, grow_policy=&#x27;depthwise&#x27;,\n",
       "             importance_type=None, interaction_constraints=&#x27;&#x27;,\n",
       "             learning_rate=0.300000012, max_bin=256, max_cat_to_onehot=4,\n",
       "             max_delta_step=0, max_depth=6, max_leaves=0, min_child_weight=1,\n",
       "             missing=nan, monotone_constraints=&#x27;()&#x27;, n_estimators=100, n_jobs=0,\n",
       "             num_parallel_tree=1, predictor=&#x27;auto&#x27;, random_state=0, reg_alpha=0,\n",
       "             reg_lambda=1, ...)</pre><b>In a Jupyter environment, please rerun this cell to show the HTML representation or trust the notebook. <br />On GitHub, the HTML representation is unable to render, please try loading this page with nbviewer.org.</b></div><div class=\"sk-container\" hidden><div class=\"sk-item\"><div class=\"sk-estimator sk-toggleable\"><input class=\"sk-toggleable__control sk-hidden--visually\" id=\"sk-estimator-id-2\" type=\"checkbox\" checked><label for=\"sk-estimator-id-2\" class=\"sk-toggleable__label sk-toggleable__label-arrow\">XGBRegressor</label><div class=\"sk-toggleable__content\"><pre>XGBRegressor(base_score=0.5, booster=&#x27;gbtree&#x27;, callbacks=None,\n",
       "             colsample_bylevel=1, colsample_bynode=1, colsample_bytree=1,\n",
       "             early_stopping_rounds=None, enable_categorical=False,\n",
       "             eval_metric=None, gamma=0, gpu_id=-1, grow_policy=&#x27;depthwise&#x27;,\n",
       "             importance_type=None, interaction_constraints=&#x27;&#x27;,\n",
       "             learning_rate=0.300000012, max_bin=256, max_cat_to_onehot=4,\n",
       "             max_delta_step=0, max_depth=6, max_leaves=0, min_child_weight=1,\n",
       "             missing=nan, monotone_constraints=&#x27;()&#x27;, n_estimators=100, n_jobs=0,\n",
       "             num_parallel_tree=1, predictor=&#x27;auto&#x27;, random_state=0, reg_alpha=0,\n",
       "             reg_lambda=1, ...)</pre></div></div></div></div></div>"
      ],
      "text/plain": [
       "XGBRegressor(base_score=0.5, booster='gbtree', callbacks=None,\n",
       "             colsample_bylevel=1, colsample_bynode=1, colsample_bytree=1,\n",
       "             early_stopping_rounds=None, enable_categorical=False,\n",
       "             eval_metric=None, gamma=0, gpu_id=-1, grow_policy='depthwise',\n",
       "             importance_type=None, interaction_constraints='',\n",
       "             learning_rate=0.300000012, max_bin=256, max_cat_to_onehot=4,\n",
       "             max_delta_step=0, max_depth=6, max_leaves=0, min_child_weight=1,\n",
       "             missing=nan, monotone_constraints='()', n_estimators=100, n_jobs=0,\n",
       "             num_parallel_tree=1, predictor='auto', random_state=0, reg_alpha=0,\n",
       "             reg_lambda=1, ...)"
      ]
     },
     "execution_count": 102,
     "metadata": {},
     "output_type": "execute_result"
    }
   ],
   "source": [
    "xgb.fit(X_train_scaled, y_train)"
   ]
  },
  {
   "cell_type": "code",
   "execution_count": 103,
   "metadata": {},
   "outputs": [
    {
     "data": {
      "text/plain": [
       "0.9771722349358681"
      ]
     },
     "execution_count": 103,
     "metadata": {},
     "output_type": "execute_result"
    }
   ],
   "source": [
    "xgb.score(X_train_scaled, y_train)"
   ]
  },
  {
   "cell_type": "code",
   "execution_count": 104,
   "metadata": {},
   "outputs": [],
   "source": [
    "xgb_pred = xgb.predict(X_test_scaled)"
   ]
  },
  {
   "cell_type": "code",
   "execution_count": 105,
   "metadata": {},
   "outputs": [
    {
     "name": "stdout",
     "output_type": "stream",
     "text": [
      "R2 Score: 0.9167322529255304\n",
      "RMSE: 1310.494453761201\n"
     ]
    }
   ],
   "source": [
    "# r2 score\n",
    "print(\"R2 Score:\", r2_score(y_test, xgb_pred))\n",
    "\n",
    "# RMSE\n",
    "print(\"RMSE:\", np.sqrt(mean_squared_error(y_test, xgb_pred)))"
   ]
  },
  {
   "attachments": {},
   "cell_type": "markdown",
   "metadata": {},
   "source": [
    "#### Let's try Deep Learning models"
   ]
  },
  {
   "cell_type": "code",
   "execution_count": null,
   "metadata": {},
   "outputs": [],
   "source": []
  }
 ],
 "metadata": {
  "kernelspec": {
   "display_name": "machinelearning",
   "language": "python",
   "name": "python3"
  },
  "language_info": {
   "codemirror_mode": {
    "name": "ipython",
    "version": 3
   },
   "file_extension": ".py",
   "mimetype": "text/x-python",
   "name": "python",
   "nbconvert_exporter": "python",
   "pygments_lexer": "ipython3",
   "version": "3.9.15"
  },
  "orig_nbformat": 4
 },
 "nbformat": 4,
 "nbformat_minor": 2
}
